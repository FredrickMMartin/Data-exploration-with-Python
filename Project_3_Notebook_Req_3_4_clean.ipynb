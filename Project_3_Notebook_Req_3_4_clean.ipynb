{
 "cells": [
  {
   "cell_type": "markdown",
   "metadata": {},
   "source": [
    "# Project 3 - Data Exploration with Python"
   ]
  },
  {
   "cell_type": "code",
   "execution_count": 45,
   "metadata": {},
   "outputs": [],
   "source": [
    "# import required libraries\n",
    "import pandas as pd\n",
    "import matplotlib.pyplot as plt\n",
    "import collections\n",
    "import datetime as dt\n",
    "import numpy as np"
   ]
  },
  {
   "cell_type": "markdown",
   "metadata": {},
   "source": [
    "## Requirement 3 - Combine the data files in one dataframe"
   ]
  },
  {
   "cell_type": "code",
   "execution_count": 46,
   "metadata": {},
   "outputs": [
    {
     "name": "stdout",
     "output_type": "stream",
     "text": [
      "<class 'pandas.core.frame.DataFrame'>\n",
      "Int64Index: 1916465 entries, 0 to 186216\n",
      "Data columns (total 16 columns):\n",
      " #   Column                   Non-Null Count    Dtype  \n",
      "---  ------                   --------------    -----  \n",
      " 0   duration_sec             1916465 non-null  int64  \n",
      " 1   start_time               1916465 non-null  object \n",
      " 2   end_time                 1916465 non-null  object \n",
      " 3   start_station_id         1906726 non-null  float64\n",
      " 4   start_station_name       1906726 non-null  object \n",
      " 5   start_station_latitude   1916465 non-null  float64\n",
      " 6   start_station_longitude  1916465 non-null  float64\n",
      " 7   end_station_id           1906726 non-null  float64\n",
      " 8   end_station_name         1906726 non-null  object \n",
      " 9   end_station_latitude     1916465 non-null  float64\n",
      " 10  end_station_longitude    1916465 non-null  float64\n",
      " 11  bike_id                  1916465 non-null  int64  \n",
      " 12  user_type                1916465 non-null  object \n",
      " 13  member_birth_year        1757969 non-null  float64\n",
      " 14  member_gender            1758385 non-null  object \n",
      " 15  bike_share_for_all_trip  1396765 non-null  object \n",
      "dtypes: float64(7), int64(2), object(7)\n",
      "memory usage: 248.6+ MB\n"
     ]
    }
   ],
   "source": [
    "# load initial data set of 2017 data\n",
    "df = pd.read_csv('2017-fordgobike-tripdata-Copy1.csv')\n",
    "\n",
    "# append subsequent data\n",
    "for m in range(1, 10):\n",
    "    filename = '20180{}-fordgobike-tripdata-Copy1.csv'.format(m)\n",
    "    df1 = pd.read_csv(filename)\n",
    "    df = df.append(df1)\n",
    "    \n",
    "    \n",
    "df.info(verbose=True, show_counts=True)"
   ]
  },
  {
   "cell_type": "markdown",
   "metadata": {},
   "source": [
    "The bike_share_for_all_trip column is only introduced in the post-2017 data sets and this will be adjusted appropriataely in the following section."
   ]
  },
  {
   "cell_type": "markdown",
   "metadata": {},
   "source": [
    "## Requirement 4 - Apply data wrangling and cleaning to the data frame"
   ]
  },
  {
   "cell_type": "markdown",
   "metadata": {},
   "source": [
    "There are a number of columns that need to be cleaned. Some columns are stored as a less useful type (start_time, end_time, user_type, member_gender, bike_share_for_all_trip) and some columns (start_station_id, start_station_name, end_station_id, end_station_name, member_birth_year, member_gender) are missing values and these need to be examined. "
   ]
  },
  {
   "cell_type": "markdown",
   "metadata": {},
   "source": [
    "## 4.1 Converting to datetimes"
   ]
  },
  {
   "cell_type": "code",
   "execution_count": 47,
   "metadata": {},
   "outputs": [
    {
     "data": {
      "text/html": [
       "<div>\n",
       "<style scoped>\n",
       "    .dataframe tbody tr th:only-of-type {\n",
       "        vertical-align: middle;\n",
       "    }\n",
       "\n",
       "    .dataframe tbody tr th {\n",
       "        vertical-align: top;\n",
       "    }\n",
       "\n",
       "    .dataframe thead th {\n",
       "        text-align: right;\n",
       "    }\n",
       "</style>\n",
       "<table border=\"1\" class=\"dataframe\">\n",
       "  <thead>\n",
       "    <tr style=\"text-align: right;\">\n",
       "      <th></th>\n",
       "      <th>duration_sec</th>\n",
       "      <th>start_time</th>\n",
       "      <th>end_time</th>\n",
       "      <th>start_station_id</th>\n",
       "      <th>start_station_name</th>\n",
       "      <th>start_station_latitude</th>\n",
       "      <th>start_station_longitude</th>\n",
       "      <th>end_station_id</th>\n",
       "      <th>end_station_name</th>\n",
       "      <th>end_station_latitude</th>\n",
       "      <th>end_station_longitude</th>\n",
       "      <th>bike_id</th>\n",
       "      <th>user_type</th>\n",
       "      <th>member_birth_year</th>\n",
       "      <th>member_gender</th>\n",
       "      <th>bike_share_for_all_trip</th>\n",
       "    </tr>\n",
       "  </thead>\n",
       "  <tbody>\n",
       "    <tr>\n",
       "      <th>0</th>\n",
       "      <td>80110</td>\n",
       "      <td>2017-12-31 16:57:39.6540</td>\n",
       "      <td>2018-01-01 15:12:50.2450</td>\n",
       "      <td>74.0</td>\n",
       "      <td>Laguna St at Hayes St</td>\n",
       "      <td>37.776435</td>\n",
       "      <td>-122.426244</td>\n",
       "      <td>43.0</td>\n",
       "      <td>San Francisco Public Library (Grove St at Hyde...</td>\n",
       "      <td>37.778768</td>\n",
       "      <td>-122.415929</td>\n",
       "      <td>96</td>\n",
       "      <td>Customer</td>\n",
       "      <td>1987.0</td>\n",
       "      <td>Male</td>\n",
       "      <td>NaN</td>\n",
       "    </tr>\n",
       "    <tr>\n",
       "      <th>1</th>\n",
       "      <td>78800</td>\n",
       "      <td>2017-12-31 15:56:34.8420</td>\n",
       "      <td>2018-01-01 13:49:55.6170</td>\n",
       "      <td>284.0</td>\n",
       "      <td>Yerba Buena Center for the Arts (Howard St at ...</td>\n",
       "      <td>37.784872</td>\n",
       "      <td>-122.400876</td>\n",
       "      <td>96.0</td>\n",
       "      <td>Dolores St at 15th St</td>\n",
       "      <td>37.766210</td>\n",
       "      <td>-122.426614</td>\n",
       "      <td>88</td>\n",
       "      <td>Customer</td>\n",
       "      <td>1965.0</td>\n",
       "      <td>Female</td>\n",
       "      <td>NaN</td>\n",
       "    </tr>\n",
       "    <tr>\n",
       "      <th>2</th>\n",
       "      <td>45768</td>\n",
       "      <td>2017-12-31 22:45:48.4110</td>\n",
       "      <td>2018-01-01 11:28:36.8830</td>\n",
       "      <td>245.0</td>\n",
       "      <td>Downtown Berkeley BART</td>\n",
       "      <td>37.870348</td>\n",
       "      <td>-122.267764</td>\n",
       "      <td>245.0</td>\n",
       "      <td>Downtown Berkeley BART</td>\n",
       "      <td>37.870348</td>\n",
       "      <td>-122.267764</td>\n",
       "      <td>1094</td>\n",
       "      <td>Customer</td>\n",
       "      <td>NaN</td>\n",
       "      <td>NaN</td>\n",
       "      <td>NaN</td>\n",
       "    </tr>\n",
       "    <tr>\n",
       "      <th>3</th>\n",
       "      <td>62172</td>\n",
       "      <td>2017-12-31 17:31:10.6360</td>\n",
       "      <td>2018-01-01 10:47:23.5310</td>\n",
       "      <td>60.0</td>\n",
       "      <td>8th St at Ringold St</td>\n",
       "      <td>37.774520</td>\n",
       "      <td>-122.409449</td>\n",
       "      <td>5.0</td>\n",
       "      <td>Powell St BART Station (Market St at 5th St)</td>\n",
       "      <td>37.783899</td>\n",
       "      <td>-122.408445</td>\n",
       "      <td>2831</td>\n",
       "      <td>Customer</td>\n",
       "      <td>NaN</td>\n",
       "      <td>NaN</td>\n",
       "      <td>NaN</td>\n",
       "    </tr>\n",
       "    <tr>\n",
       "      <th>4</th>\n",
       "      <td>43603</td>\n",
       "      <td>2017-12-31 14:23:14.0010</td>\n",
       "      <td>2018-01-01 02:29:57.5710</td>\n",
       "      <td>239.0</td>\n",
       "      <td>Bancroft Way at Telegraph Ave</td>\n",
       "      <td>37.868813</td>\n",
       "      <td>-122.258764</td>\n",
       "      <td>247.0</td>\n",
       "      <td>Fulton St at Bancroft Way</td>\n",
       "      <td>37.867789</td>\n",
       "      <td>-122.265896</td>\n",
       "      <td>3167</td>\n",
       "      <td>Subscriber</td>\n",
       "      <td>1997.0</td>\n",
       "      <td>Female</td>\n",
       "      <td>NaN</td>\n",
       "    </tr>\n",
       "  </tbody>\n",
       "</table>\n",
       "</div>"
      ],
      "text/plain": [
       "   duration_sec                start_time                  end_time  \\\n",
       "0         80110  2017-12-31 16:57:39.6540  2018-01-01 15:12:50.2450   \n",
       "1         78800  2017-12-31 15:56:34.8420  2018-01-01 13:49:55.6170   \n",
       "2         45768  2017-12-31 22:45:48.4110  2018-01-01 11:28:36.8830   \n",
       "3         62172  2017-12-31 17:31:10.6360  2018-01-01 10:47:23.5310   \n",
       "4         43603  2017-12-31 14:23:14.0010  2018-01-01 02:29:57.5710   \n",
       "\n",
       "   start_station_id                                 start_station_name  \\\n",
       "0              74.0                              Laguna St at Hayes St   \n",
       "1             284.0  Yerba Buena Center for the Arts (Howard St at ...   \n",
       "2             245.0                             Downtown Berkeley BART   \n",
       "3              60.0                               8th St at Ringold St   \n",
       "4             239.0                      Bancroft Way at Telegraph Ave   \n",
       "\n",
       "   start_station_latitude  start_station_longitude  end_station_id  \\\n",
       "0               37.776435              -122.426244            43.0   \n",
       "1               37.784872              -122.400876            96.0   \n",
       "2               37.870348              -122.267764           245.0   \n",
       "3               37.774520              -122.409449             5.0   \n",
       "4               37.868813              -122.258764           247.0   \n",
       "\n",
       "                                    end_station_name  end_station_latitude  \\\n",
       "0  San Francisco Public Library (Grove St at Hyde...             37.778768   \n",
       "1                              Dolores St at 15th St             37.766210   \n",
       "2                             Downtown Berkeley BART             37.870348   \n",
       "3       Powell St BART Station (Market St at 5th St)             37.783899   \n",
       "4                          Fulton St at Bancroft Way             37.867789   \n",
       "\n",
       "   end_station_longitude  bike_id   user_type  member_birth_year  \\\n",
       "0            -122.415929       96    Customer             1987.0   \n",
       "1            -122.426614       88    Customer             1965.0   \n",
       "2            -122.267764     1094    Customer                NaN   \n",
       "3            -122.408445     2831    Customer                NaN   \n",
       "4            -122.265896     3167  Subscriber             1997.0   \n",
       "\n",
       "  member_gender bike_share_for_all_trip  \n",
       "0          Male                     NaN  \n",
       "1        Female                     NaN  \n",
       "2           NaN                     NaN  \n",
       "3           NaN                     NaN  \n",
       "4        Female                     NaN  "
      ]
     },
     "execution_count": 47,
     "metadata": {},
     "output_type": "execute_result"
    }
   ],
   "source": [
    "# Begin by examining the date columns in an attempt to convert them to datetimes\n",
    "df.head()"
   ]
  },
  {
   "cell_type": "code",
   "execution_count": 48,
   "metadata": {},
   "outputs": [
    {
     "name": "stdout",
     "output_type": "stream",
     "text": [
      "<class 'pandas.core.frame.DataFrame'>\n",
      "Int64Index: 1916465 entries, 0 to 186216\n",
      "Data columns (total 16 columns):\n",
      " #   Column                   Non-Null Count    Dtype         \n",
      "---  ------                   --------------    -----         \n",
      " 0   duration_sec             1916465 non-null  int64         \n",
      " 1   start_time               1916465 non-null  datetime64[ns]\n",
      " 2   end_time                 1916465 non-null  datetime64[ns]\n",
      " 3   start_station_id         1906726 non-null  float64       \n",
      " 4   start_station_name       1906726 non-null  object        \n",
      " 5   start_station_latitude   1916465 non-null  float64       \n",
      " 6   start_station_longitude  1916465 non-null  float64       \n",
      " 7   end_station_id           1906726 non-null  float64       \n",
      " 8   end_station_name         1906726 non-null  object        \n",
      " 9   end_station_latitude     1916465 non-null  float64       \n",
      " 10  end_station_longitude    1916465 non-null  float64       \n",
      " 11  bike_id                  1916465 non-null  int64         \n",
      " 12  user_type                1916465 non-null  object        \n",
      " 13  member_birth_year        1757969 non-null  float64       \n",
      " 14  member_gender            1758385 non-null  object        \n",
      " 15  bike_share_for_all_trip  1396765 non-null  object        \n",
      "dtypes: datetime64[ns](2), float64(7), int64(2), object(5)\n",
      "memory usage: 248.6+ MB\n"
     ]
    }
   ],
   "source": [
    "# They are already in ISO 8601 format so should be able to convert easily\n",
    "\n",
    "for column in ['start_time', 'end_time']:\n",
    "    df[column] = pd.to_datetime(df[column])\n",
    "    \n",
    "df.info(verbose=True, show_counts=True)"
   ]
  },
  {
   "cell_type": "markdown",
   "metadata": {},
   "source": [
    "This shows that they have successfully been converted to datetimes and we can check that they are correct by looking at the head of the data frame again."
   ]
  },
  {
   "cell_type": "code",
   "execution_count": 49,
   "metadata": {},
   "outputs": [
    {
     "data": {
      "text/html": [
       "<div>\n",
       "<style scoped>\n",
       "    .dataframe tbody tr th:only-of-type {\n",
       "        vertical-align: middle;\n",
       "    }\n",
       "\n",
       "    .dataframe tbody tr th {\n",
       "        vertical-align: top;\n",
       "    }\n",
       "\n",
       "    .dataframe thead th {\n",
       "        text-align: right;\n",
       "    }\n",
       "</style>\n",
       "<table border=\"1\" class=\"dataframe\">\n",
       "  <thead>\n",
       "    <tr style=\"text-align: right;\">\n",
       "      <th></th>\n",
       "      <th>duration_sec</th>\n",
       "      <th>start_time</th>\n",
       "      <th>end_time</th>\n",
       "      <th>start_station_id</th>\n",
       "      <th>start_station_name</th>\n",
       "      <th>start_station_latitude</th>\n",
       "      <th>start_station_longitude</th>\n",
       "      <th>end_station_id</th>\n",
       "      <th>end_station_name</th>\n",
       "      <th>end_station_latitude</th>\n",
       "      <th>end_station_longitude</th>\n",
       "      <th>bike_id</th>\n",
       "      <th>user_type</th>\n",
       "      <th>member_birth_year</th>\n",
       "      <th>member_gender</th>\n",
       "      <th>bike_share_for_all_trip</th>\n",
       "    </tr>\n",
       "  </thead>\n",
       "  <tbody>\n",
       "    <tr>\n",
       "      <th>0</th>\n",
       "      <td>80110</td>\n",
       "      <td>2017-12-31 16:57:39.654</td>\n",
       "      <td>2018-01-01 15:12:50.245</td>\n",
       "      <td>74.0</td>\n",
       "      <td>Laguna St at Hayes St</td>\n",
       "      <td>37.776435</td>\n",
       "      <td>-122.426244</td>\n",
       "      <td>43.0</td>\n",
       "      <td>San Francisco Public Library (Grove St at Hyde...</td>\n",
       "      <td>37.778768</td>\n",
       "      <td>-122.415929</td>\n",
       "      <td>96</td>\n",
       "      <td>Customer</td>\n",
       "      <td>1987.0</td>\n",
       "      <td>Male</td>\n",
       "      <td>NaN</td>\n",
       "    </tr>\n",
       "    <tr>\n",
       "      <th>1</th>\n",
       "      <td>78800</td>\n",
       "      <td>2017-12-31 15:56:34.842</td>\n",
       "      <td>2018-01-01 13:49:55.617</td>\n",
       "      <td>284.0</td>\n",
       "      <td>Yerba Buena Center for the Arts (Howard St at ...</td>\n",
       "      <td>37.784872</td>\n",
       "      <td>-122.400876</td>\n",
       "      <td>96.0</td>\n",
       "      <td>Dolores St at 15th St</td>\n",
       "      <td>37.766210</td>\n",
       "      <td>-122.426614</td>\n",
       "      <td>88</td>\n",
       "      <td>Customer</td>\n",
       "      <td>1965.0</td>\n",
       "      <td>Female</td>\n",
       "      <td>NaN</td>\n",
       "    </tr>\n",
       "    <tr>\n",
       "      <th>2</th>\n",
       "      <td>45768</td>\n",
       "      <td>2017-12-31 22:45:48.411</td>\n",
       "      <td>2018-01-01 11:28:36.883</td>\n",
       "      <td>245.0</td>\n",
       "      <td>Downtown Berkeley BART</td>\n",
       "      <td>37.870348</td>\n",
       "      <td>-122.267764</td>\n",
       "      <td>245.0</td>\n",
       "      <td>Downtown Berkeley BART</td>\n",
       "      <td>37.870348</td>\n",
       "      <td>-122.267764</td>\n",
       "      <td>1094</td>\n",
       "      <td>Customer</td>\n",
       "      <td>NaN</td>\n",
       "      <td>NaN</td>\n",
       "      <td>NaN</td>\n",
       "    </tr>\n",
       "    <tr>\n",
       "      <th>3</th>\n",
       "      <td>62172</td>\n",
       "      <td>2017-12-31 17:31:10.636</td>\n",
       "      <td>2018-01-01 10:47:23.531</td>\n",
       "      <td>60.0</td>\n",
       "      <td>8th St at Ringold St</td>\n",
       "      <td>37.774520</td>\n",
       "      <td>-122.409449</td>\n",
       "      <td>5.0</td>\n",
       "      <td>Powell St BART Station (Market St at 5th St)</td>\n",
       "      <td>37.783899</td>\n",
       "      <td>-122.408445</td>\n",
       "      <td>2831</td>\n",
       "      <td>Customer</td>\n",
       "      <td>NaN</td>\n",
       "      <td>NaN</td>\n",
       "      <td>NaN</td>\n",
       "    </tr>\n",
       "    <tr>\n",
       "      <th>4</th>\n",
       "      <td>43603</td>\n",
       "      <td>2017-12-31 14:23:14.001</td>\n",
       "      <td>2018-01-01 02:29:57.571</td>\n",
       "      <td>239.0</td>\n",
       "      <td>Bancroft Way at Telegraph Ave</td>\n",
       "      <td>37.868813</td>\n",
       "      <td>-122.258764</td>\n",
       "      <td>247.0</td>\n",
       "      <td>Fulton St at Bancroft Way</td>\n",
       "      <td>37.867789</td>\n",
       "      <td>-122.265896</td>\n",
       "      <td>3167</td>\n",
       "      <td>Subscriber</td>\n",
       "      <td>1997.0</td>\n",
       "      <td>Female</td>\n",
       "      <td>NaN</td>\n",
       "    </tr>\n",
       "  </tbody>\n",
       "</table>\n",
       "</div>"
      ],
      "text/plain": [
       "   duration_sec              start_time                end_time  \\\n",
       "0         80110 2017-12-31 16:57:39.654 2018-01-01 15:12:50.245   \n",
       "1         78800 2017-12-31 15:56:34.842 2018-01-01 13:49:55.617   \n",
       "2         45768 2017-12-31 22:45:48.411 2018-01-01 11:28:36.883   \n",
       "3         62172 2017-12-31 17:31:10.636 2018-01-01 10:47:23.531   \n",
       "4         43603 2017-12-31 14:23:14.001 2018-01-01 02:29:57.571   \n",
       "\n",
       "   start_station_id                                 start_station_name  \\\n",
       "0              74.0                              Laguna St at Hayes St   \n",
       "1             284.0  Yerba Buena Center for the Arts (Howard St at ...   \n",
       "2             245.0                             Downtown Berkeley BART   \n",
       "3              60.0                               8th St at Ringold St   \n",
       "4             239.0                      Bancroft Way at Telegraph Ave   \n",
       "\n",
       "   start_station_latitude  start_station_longitude  end_station_id  \\\n",
       "0               37.776435              -122.426244            43.0   \n",
       "1               37.784872              -122.400876            96.0   \n",
       "2               37.870348              -122.267764           245.0   \n",
       "3               37.774520              -122.409449             5.0   \n",
       "4               37.868813              -122.258764           247.0   \n",
       "\n",
       "                                    end_station_name  end_station_latitude  \\\n",
       "0  San Francisco Public Library (Grove St at Hyde...             37.778768   \n",
       "1                              Dolores St at 15th St             37.766210   \n",
       "2                             Downtown Berkeley BART             37.870348   \n",
       "3       Powell St BART Station (Market St at 5th St)             37.783899   \n",
       "4                          Fulton St at Bancroft Way             37.867789   \n",
       "\n",
       "   end_station_longitude  bike_id   user_type  member_birth_year  \\\n",
       "0            -122.415929       96    Customer             1987.0   \n",
       "1            -122.426614       88    Customer             1965.0   \n",
       "2            -122.267764     1094    Customer                NaN   \n",
       "3            -122.408445     2831    Customer                NaN   \n",
       "4            -122.265896     3167  Subscriber             1997.0   \n",
       "\n",
       "  member_gender bike_share_for_all_trip  \n",
       "0          Male                     NaN  \n",
       "1        Female                     NaN  \n",
       "2           NaN                     NaN  \n",
       "3           NaN                     NaN  \n",
       "4        Female                     NaN  "
      ]
     },
     "execution_count": 49,
     "metadata": {},
     "output_type": "execute_result"
    }
   ],
   "source": [
    "df.head()"
   ]
  },
  {
   "cell_type": "markdown",
   "metadata": {},
   "source": [
    "This shows that the values are as expected which means that we can move on."
   ]
  },
  {
   "cell_type": "markdown",
   "metadata": {},
   "source": [
    "## 4.2 Exploring missing station ids\n",
    "\n",
    "We saw above that a number of instances are missing data about their start and end stations. We will try to work out the cause of this absence of data below and take action accordingly."
   ]
  },
  {
   "cell_type": "code",
   "execution_count": 50,
   "metadata": {},
   "outputs": [
    {
     "name": "stdout",
     "output_type": "stream",
     "text": [
      "The largest starting id station is 374.0\n",
      "The largest ending id station is 374.0\n",
      "There are 325 unique starting stations\n",
      "There are 325 unique ending stations\n",
      "These are the starting stations that are not in the end stations: {nan}\n",
      "These are the ending stations that are not in the starting stations: {nan}\n",
      "The lowest frequency for starting stations is 13\n",
      "The lowest frequency for ending stations is 13\n"
     ]
    }
   ],
   "source": [
    "# Examine station_ids to see if some ids seem to be missing\n",
    "\n",
    "start_stations = df['start_station_id']\n",
    "end_stations = df['end_station_id']\n",
    "\n",
    "# retaining unique start and end stations as a set will make finding complements easier\n",
    "uniq_start_stations = set(start_stations.unique())\n",
    "uniq_end_stations = set(end_stations.unique())\n",
    "\n",
    "largest_starting_id = max(start_stations)\n",
    "largest_ending_id = max(end_stations)\n",
    "\n",
    "print('The largest starting id station is {}'. format(largest_starting_id))\n",
    "print('The largest ending id station is {}'. format(largest_ending_id))\n",
    "\n",
    "print('There are {} unique starting stations'.format(len(uniq_start_stations)))\n",
    "print('There are {} unique ending stations'.format(len(uniq_end_stations)))\n",
    "\n",
    "start_end_stations_difference = uniq_start_stations - uniq_end_stations\n",
    "print('These are the starting stations that are not in the end stations: {}'.format(start_end_stations_difference))\n",
    "\n",
    "end_start_stations_difference = uniq_end_stations - uniq_start_stations\n",
    "print('These are the ending stations that are not in the starting stations: {}'.format(start_end_stations_difference))\n",
    "\n",
    "\n",
    "lowest_uses_start = min((start_stations.value_counts()))\n",
    "lowest_uses_end = min((end_stations.value_counts()))\n",
    "\n",
    "print('The lowest frequency for starting stations is {}'.format(lowest_uses_start))\n",
    "print('The lowest frequency for ending stations is {}'.format(lowest_uses_end))"
   ]
  },
  {
   "cell_type": "markdown",
   "metadata": {},
   "source": [
    "We can see that the number of stations that occur in the data set is smaller than the highest id for the stations so it seems as though there are quite a few ids for which there seem to be no corrseponding stations.\n",
    "Exactly the same stations occur in both the list of starting stations and ending stations so it is not the case that some stations are only used for rental and others for return.\n",
    "The simplest explanation is that some ids do not correspond to any station that has ever been used. \n",
    "\n",
    "We will leave the start_station_id and end_station_id in the table but pull out the remaining information relating to stations into a distinct table. This will make for a more streamlined data frame for us to analyse."
   ]
  },
  {
   "cell_type": "code",
   "execution_count": 52,
   "metadata": {},
   "outputs": [
    {
     "name": "stdout",
     "output_type": "stream",
     "text": [
      "<class 'pandas.core.frame.DataFrame'>\n",
      "Int64Index: 342 entries, 0 to 48153\n",
      "Data columns (total 4 columns):\n",
      " #   Column  Non-Null Count  Dtype  \n",
      "---  ------  --------------  -----  \n",
      " 0   id      342 non-null    int32  \n",
      " 1   name    342 non-null    object \n",
      " 2   lat     342 non-null    float64\n",
      " 3   long    342 non-null    float64\n",
      "dtypes: float64(2), int32(1), object(1)\n",
      "memory usage: 12.0+ KB\n"
     ]
    }
   ],
   "source": [
    "# create a new data frame with the information for all stations\n",
    "start_stations_df = df[['start_station_id', 'start_station_name', 'start_station_latitude', 'start_station_longitude']].copy()\n",
    "start_stations_df = start_stations_df.rename(columns={\"start_station_id\": \"id\", \"start_station_name\": \"name\",'start_station_latitude' : 'lat', 'start_station_longitude' : 'long'})\n",
    "\n",
    "# we will drop any rows that are missing station_ids as these will note provide us with useful information here\n",
    "start_stations_df = start_stations_df.dropna()\n",
    "start_stations_df['id'] = start_stations_df['id'].astype(int)\n",
    "start_stations_df = start_stations_df.drop_duplicates()\n",
    "start_stations_df.info()"
   ]
  },
  {
   "cell_type": "markdown",
   "metadata": {},
   "source": [
    "Interestingly we have more rows in the table above (342) than we would expect (325) based on the results above."
   ]
  },
  {
   "cell_type": "code",
   "execution_count": 53,
   "metadata": {},
   "outputs": [
    {
     "name": "stdout",
     "output_type": "stream",
     "text": [
      "Number of station names: 339\n",
      "Number of station longditudes: 335\n",
      "Number of station latitudes: 335\n"
     ]
    }
   ],
   "source": [
    "print('Number of station names: {}'.format(len(start_stations_df['name'].unique())))\n",
    "print('Number of station longditudes: {}'.format(len(start_stations_df['long'].unique())))\n",
    "print('Number of station latitudes: {}'.format(len(start_stations_df['lat'].unique())))"
   ]
  },
  {
   "cell_type": "markdown",
   "metadata": {},
   "source": [
    "The results above show that the reason for more unique rows than station_ids is that there are more names, longditudes and latitudes than there are ids. \n",
    "To explore this we will look at cases of ids that occur more than once in this data frame."
   ]
  },
  {
   "cell_type": "code",
   "execution_count": 54,
   "metadata": {},
   "outputs": [
    {
     "data": {
      "text/html": [
       "<div>\n",
       "<style scoped>\n",
       "    .dataframe tbody tr th:only-of-type {\n",
       "        vertical-align: middle;\n",
       "    }\n",
       "\n",
       "    .dataframe tbody tr th {\n",
       "        vertical-align: top;\n",
       "    }\n",
       "\n",
       "    .dataframe thead th {\n",
       "        text-align: right;\n",
       "    }\n",
       "</style>\n",
       "<table border=\"1\" class=\"dataframe\">\n",
       "  <thead>\n",
       "    <tr style=\"text-align: right;\">\n",
       "      <th></th>\n",
       "      <th>id</th>\n",
       "      <th>name</th>\n",
       "      <th>lat</th>\n",
       "      <th>long</th>\n",
       "      <th>id_freq</th>\n",
       "    </tr>\n",
       "  </thead>\n",
       "  <tbody>\n",
       "    <tr>\n",
       "      <th>31</th>\n",
       "      <td>50</td>\n",
       "      <td>2nd St at Townsend St</td>\n",
       "      <td>37.780526</td>\n",
       "      <td>-122.390288</td>\n",
       "      <td>2</td>\n",
       "    </tr>\n",
       "    <tr>\n",
       "      <th>138974</th>\n",
       "      <td>50</td>\n",
       "      <td>2nd St at Townsend St - Coming Soon</td>\n",
       "      <td>37.780526</td>\n",
       "      <td>-122.390288</td>\n",
       "      <td>2</td>\n",
       "    </tr>\n",
       "    <tr>\n",
       "      <th>1351</th>\n",
       "      <td>101</td>\n",
       "      <td>San Bruno Ave at 16th St</td>\n",
       "      <td>37.766008</td>\n",
       "      <td>-122.405677</td>\n",
       "      <td>2</td>\n",
       "    </tr>\n",
       "    <tr>\n",
       "      <th>688</th>\n",
       "      <td>101</td>\n",
       "      <td>Potrero Ave at 15th St (Temporary Location)</td>\n",
       "      <td>37.766629</td>\n",
       "      <td>-122.407706</td>\n",
       "      <td>2</td>\n",
       "    </tr>\n",
       "    <tr>\n",
       "      <th>624</th>\n",
       "      <td>173</td>\n",
       "      <td>Shattuck Ave at 55th St</td>\n",
       "      <td>37.840364</td>\n",
       "      <td>-122.264488</td>\n",
       "      <td>2</td>\n",
       "    </tr>\n",
       "    <tr>\n",
       "      <th>543</th>\n",
       "      <td>173</td>\n",
       "      <td>Shattuck Ave at 55th Ave</td>\n",
       "      <td>37.840364</td>\n",
       "      <td>-122.264488</td>\n",
       "      <td>2</td>\n",
       "    </tr>\n",
       "    <tr>\n",
       "      <th>1113</th>\n",
       "      <td>192</td>\n",
       "      <td>37th St at West St</td>\n",
       "      <td>37.826696</td>\n",
       "      <td>-122.271795</td>\n",
       "      <td>2</td>\n",
       "    </tr>\n",
       "    <tr>\n",
       "      <th>77</th>\n",
       "      <td>192</td>\n",
       "      <td>MLK Jr Way at 36th St (Temporary Location)</td>\n",
       "      <td>37.825794</td>\n",
       "      <td>-122.269399</td>\n",
       "      <td>2</td>\n",
       "    </tr>\n",
       "    <tr>\n",
       "      <th>178</th>\n",
       "      <td>205</td>\n",
       "      <td>Miles Ave at Cavour St</td>\n",
       "      <td>37.838800</td>\n",
       "      <td>-122.258732</td>\n",
       "      <td>3</td>\n",
       "    </tr>\n",
       "    <tr>\n",
       "      <th>1315</th>\n",
       "      <td>205</td>\n",
       "      <td>Shafter Ave at Cavour St</td>\n",
       "      <td>37.837947</td>\n",
       "      <td>-122.257243</td>\n",
       "      <td>3</td>\n",
       "    </tr>\n",
       "    <tr>\n",
       "      <th>993</th>\n",
       "      <td>205</td>\n",
       "      <td>Miles Ave at Cavour St (Temporary Location)</td>\n",
       "      <td>37.838800</td>\n",
       "      <td>-122.258732</td>\n",
       "      <td>3</td>\n",
       "    </tr>\n",
       "    <tr>\n",
       "      <th>409</th>\n",
       "      <td>208</td>\n",
       "      <td>William St at 4th St (Temporary Location)</td>\n",
       "      <td>37.329964</td>\n",
       "      <td>-121.881922</td>\n",
       "      <td>3</td>\n",
       "    </tr>\n",
       "    <tr>\n",
       "      <th>1898</th>\n",
       "      <td>208</td>\n",
       "      <td>S. 4th St at San Carlos St</td>\n",
       "      <td>37.332836</td>\n",
       "      <td>-121.883912</td>\n",
       "      <td>3</td>\n",
       "    </tr>\n",
       "    <tr>\n",
       "      <th>36</th>\n",
       "      <td>208</td>\n",
       "      <td>S. 4th St at San Carlos St</td>\n",
       "      <td>37.330040</td>\n",
       "      <td>-121.881821</td>\n",
       "      <td>3</td>\n",
       "    </tr>\n",
       "    <tr>\n",
       "      <th>1297</th>\n",
       "      <td>212</td>\n",
       "      <td>Webster St at MacArthur Blvd (Temporary Location)</td>\n",
       "      <td>37.825008</td>\n",
       "      <td>-122.261649</td>\n",
       "      <td>2</td>\n",
       "    </tr>\n",
       "    <tr>\n",
       "      <th>255</th>\n",
       "      <td>212</td>\n",
       "      <td>Mosswood Park</td>\n",
       "      <td>37.824931</td>\n",
       "      <td>-122.260479</td>\n",
       "      <td>2</td>\n",
       "    </tr>\n",
       "    <tr>\n",
       "      <th>1265</th>\n",
       "      <td>221</td>\n",
       "      <td>12th St at 6th Ave</td>\n",
       "      <td>37.794353</td>\n",
       "      <td>-122.253874</td>\n",
       "      <td>3</td>\n",
       "    </tr>\n",
       "    <tr>\n",
       "      <th>2521</th>\n",
       "      <td>221</td>\n",
       "      <td>6th Ave at E 12th St (Temporary Location)</td>\n",
       "      <td>37.794396</td>\n",
       "      <td>-122.253842</td>\n",
       "      <td>3</td>\n",
       "    </tr>\n",
       "    <tr>\n",
       "      <th>894</th>\n",
       "      <td>221</td>\n",
       "      <td>E 12th St at 6th Ave</td>\n",
       "      <td>37.794353</td>\n",
       "      <td>-122.253874</td>\n",
       "      <td>3</td>\n",
       "    </tr>\n",
       "    <tr>\n",
       "      <th>1127</th>\n",
       "      <td>233</td>\n",
       "      <td>E 12th St at 4th Ave</td>\n",
       "      <td>37.795812</td>\n",
       "      <td>-122.255555</td>\n",
       "      <td>3</td>\n",
       "    </tr>\n",
       "    <tr>\n",
       "      <th>1952</th>\n",
       "      <td>233</td>\n",
       "      <td>12th St at 4th Ave</td>\n",
       "      <td>37.795812</td>\n",
       "      <td>-122.255555</td>\n",
       "      <td>3</td>\n",
       "    </tr>\n",
       "    <tr>\n",
       "      <th>1899</th>\n",
       "      <td>233</td>\n",
       "      <td>4th Ave at E 12th St (Temporary Location)</td>\n",
       "      <td>37.795913</td>\n",
       "      <td>-122.255547</td>\n",
       "      <td>3</td>\n",
       "    </tr>\n",
       "    <tr>\n",
       "      <th>1920</th>\n",
       "      <td>244</td>\n",
       "      <td>Shattuck Ave at Hearst Ave</td>\n",
       "      <td>37.873792</td>\n",
       "      <td>-122.268618</td>\n",
       "      <td>2</td>\n",
       "    </tr>\n",
       "    <tr>\n",
       "      <th>250</th>\n",
       "      <td>244</td>\n",
       "      <td>Shattuck Ave at Hearst Ave</td>\n",
       "      <td>37.873748</td>\n",
       "      <td>-122.268648</td>\n",
       "      <td>2</td>\n",
       "    </tr>\n",
       "    <tr>\n",
       "      <th>317</th>\n",
       "      <td>250</td>\n",
       "      <td>North Berkeley BART Station</td>\n",
       "      <td>37.873558</td>\n",
       "      <td>-122.283093</td>\n",
       "      <td>2</td>\n",
       "    </tr>\n",
       "    <tr>\n",
       "      <th>837</th>\n",
       "      <td>250</td>\n",
       "      <td>North Berkeley BART Station</td>\n",
       "      <td>37.874014</td>\n",
       "      <td>-122.283019</td>\n",
       "      <td>2</td>\n",
       "    </tr>\n",
       "    <tr>\n",
       "      <th>216</th>\n",
       "      <td>280</td>\n",
       "      <td>San Fernando at 7th St</td>\n",
       "      <td>37.337246</td>\n",
       "      <td>-121.883074</td>\n",
       "      <td>2</td>\n",
       "    </tr>\n",
       "    <tr>\n",
       "      <th>208</th>\n",
       "      <td>280</td>\n",
       "      <td>6th St at San Fernando St (Temporary Location)</td>\n",
       "      <td>37.337038</td>\n",
       "      <td>-121.884125</td>\n",
       "      <td>2</td>\n",
       "    </tr>\n",
       "    <tr>\n",
       "      <th>587</th>\n",
       "      <td>281</td>\n",
       "      <td>9th St at San Fernando St</td>\n",
       "      <td>37.338395</td>\n",
       "      <td>-121.880797</td>\n",
       "      <td>2</td>\n",
       "    </tr>\n",
       "    <tr>\n",
       "      <th>3616</th>\n",
       "      <td>281</td>\n",
       "      <td>9th St at San Fernando</td>\n",
       "      <td>37.338395</td>\n",
       "      <td>-121.880797</td>\n",
       "      <td>2</td>\n",
       "    </tr>\n",
       "    <tr>\n",
       "      <th>350</th>\n",
       "      <td>321</td>\n",
       "      <td>5th at Folsom</td>\n",
       "      <td>37.780146</td>\n",
       "      <td>-122.403071</td>\n",
       "      <td>2</td>\n",
       "    </tr>\n",
       "    <tr>\n",
       "      <th>249</th>\n",
       "      <td>321</td>\n",
       "      <td>5th St at Folsom</td>\n",
       "      <td>37.780146</td>\n",
       "      <td>-122.403071</td>\n",
       "      <td>2</td>\n",
       "    </tr>\n",
       "  </tbody>\n",
       "</table>\n",
       "</div>"
      ],
      "text/plain": [
       "         id                                               name        lat  \\\n",
       "31       50                              2nd St at Townsend St  37.780526   \n",
       "138974   50                2nd St at Townsend St - Coming Soon  37.780526   \n",
       "1351    101                           San Bruno Ave at 16th St  37.766008   \n",
       "688     101        Potrero Ave at 15th St (Temporary Location)  37.766629   \n",
       "624     173                            Shattuck Ave at 55th St  37.840364   \n",
       "543     173                           Shattuck Ave at 55th Ave  37.840364   \n",
       "1113    192                                 37th St at West St  37.826696   \n",
       "77      192         MLK Jr Way at 36th St (Temporary Location)  37.825794   \n",
       "178     205                             Miles Ave at Cavour St  37.838800   \n",
       "1315    205                           Shafter Ave at Cavour St  37.837947   \n",
       "993     205        Miles Ave at Cavour St (Temporary Location)  37.838800   \n",
       "409     208          William St at 4th St (Temporary Location)  37.329964   \n",
       "1898    208                         S. 4th St at San Carlos St  37.332836   \n",
       "36      208                         S. 4th St at San Carlos St  37.330040   \n",
       "1297    212  Webster St at MacArthur Blvd (Temporary Location)  37.825008   \n",
       "255     212                                      Mosswood Park  37.824931   \n",
       "1265    221                                 12th St at 6th Ave  37.794353   \n",
       "2521    221          6th Ave at E 12th St (Temporary Location)  37.794396   \n",
       "894     221                               E 12th St at 6th Ave  37.794353   \n",
       "1127    233                               E 12th St at 4th Ave  37.795812   \n",
       "1952    233                                 12th St at 4th Ave  37.795812   \n",
       "1899    233          4th Ave at E 12th St (Temporary Location)  37.795913   \n",
       "1920    244                         Shattuck Ave at Hearst Ave  37.873792   \n",
       "250     244                         Shattuck Ave at Hearst Ave  37.873748   \n",
       "317     250                        North Berkeley BART Station  37.873558   \n",
       "837     250                        North Berkeley BART Station  37.874014   \n",
       "216     280                             San Fernando at 7th St  37.337246   \n",
       "208     280     6th St at San Fernando St (Temporary Location)  37.337038   \n",
       "587     281                          9th St at San Fernando St  37.338395   \n",
       "3616    281                             9th St at San Fernando  37.338395   \n",
       "350     321                                      5th at Folsom  37.780146   \n",
       "249     321                                   5th St at Folsom  37.780146   \n",
       "\n",
       "              long  id_freq  \n",
       "31     -122.390288        2  \n",
       "138974 -122.390288        2  \n",
       "1351   -122.405677        2  \n",
       "688    -122.407706        2  \n",
       "624    -122.264488        2  \n",
       "543    -122.264488        2  \n",
       "1113   -122.271795        2  \n",
       "77     -122.269399        2  \n",
       "178    -122.258732        3  \n",
       "1315   -122.257243        3  \n",
       "993    -122.258732        3  \n",
       "409    -121.881922        3  \n",
       "1898   -121.883912        3  \n",
       "36     -121.881821        3  \n",
       "1297   -122.261649        2  \n",
       "255    -122.260479        2  \n",
       "1265   -122.253874        3  \n",
       "2521   -122.253842        3  \n",
       "894    -122.253874        3  \n",
       "1127   -122.255555        3  \n",
       "1952   -122.255555        3  \n",
       "1899   -122.255547        3  \n",
       "1920   -122.268618        2  \n",
       "250    -122.268648        2  \n",
       "317    -122.283093        2  \n",
       "837    -122.283019        2  \n",
       "216    -121.883074        2  \n",
       "208    -121.884125        2  \n",
       "587    -121.880797        2  \n",
       "3616   -121.880797        2  \n",
       "350    -122.403071        2  \n",
       "249    -122.403071        2  "
      ]
     },
     "execution_count": 54,
     "metadata": {},
     "output_type": "execute_result"
    }
   ],
   "source": [
    "# add a column to tell us how often each id occurs in the data frame\n",
    "# we could use any column where 'name' is used, we just need to find the size of the group that each row is in\n",
    "start_stations_df['id_freq'] = start_stations_df.groupby('id')['name'].transform(len)\n",
    "start_stations_df = start_stations_df.sort_values(by=['id'])\n",
    "\n",
    "# reduce the data frame to just those ids that occur on multiple occassions. \n",
    "changing_stations = start_stations_df[start_stations_df['id_freq'] > 1]\n",
    "changing_stations"
   ]
  },
  {
   "cell_type": "markdown",
   "metadata": {},
   "source": [
    "We can see from the above table that a lot of the cases where there is more than 1 station per id can be explained by temporary stations or very slight changes in location of the station. \n",
    "\n",
    "At this point my instinct is to combine these into a single value for id, long and lat for each station. This would sacrifice information that could be used to conduct an analysis of the effect of temporary stations on bike usage but this is not one of my aims. \n",
    "\n",
    "Before combining the data for each station id I will first check how far the maximum change in location is for a single station. If there is a significant change in a stations location then I will not combine the information. "
   ]
  },
  {
   "cell_type": "code",
   "execution_count": 55,
   "metadata": {
    "scrolled": true
   },
   "outputs": [
    {
     "data": {
      "text/plain": [
       "0.0028717796724606615"
      ]
     },
     "metadata": {},
     "output_type": "display_data"
    },
    {
     "data": {
      "text/plain": [
       "0.0023963338928183475"
      ]
     },
     "metadata": {},
     "output_type": "display_data"
    }
   ],
   "source": [
    "display(max(changing_stations.groupby('id')['lat'].transform(lambda x: (max(x) - min(x)))))\n",
    "display(max(changing_stations.groupby('id')['long'].transform(lambda x: (max(x) - min(x)))))"
   ]
  },
  {
   "cell_type": "markdown",
   "metadata": {},
   "source": [
    "The changes here are minimal so I am going to combine all stations with the same id into one station, taking the most common location as the one for which details will be saved. This is fine as this is an analysis of existing data. If I were setting this up with the expectation of adding more data in the future then I would consider using the most recently used location.\n",
    "\n",
    "For each id I will choose the name, lat and long that occur most frequently for that id."
   ]
  },
  {
   "cell_type": "code",
   "execution_count": 56,
   "metadata": {},
   "outputs": [
    {
     "name": "stdout",
     "output_type": "stream",
     "text": [
      "<class 'pandas.core.frame.DataFrame'>\n",
      "Int64Index: 324 entries, 179 to 48153\n",
      "Data columns (total 4 columns):\n",
      " #   Column       Non-Null Count  Dtype  \n",
      "---  ------       --------------  -----  \n",
      " 0   id           324 non-null    int32  \n",
      " 1   common_name  324 non-null    object \n",
      " 2   common_lat   324 non-null    float64\n",
      " 3   common_long  324 non-null    float64\n",
      "dtypes: float64(2), int32(1), object(1)\n",
      "memory usage: 11.4+ KB\n"
     ]
    }
   ],
   "source": [
    "stations_df = start_stations_df.copy()\n",
    "stations_df['common_name'] = stations_df.groupby('id')['name'].transform(lambda x: x.value_counts().index[0])\n",
    "stations_df['common_lat'] = stations_df.groupby('id')['lat'].transform(lambda x: x.value_counts().index[0])\n",
    "stations_df['common_long'] = stations_df.groupby('id')['long'].transform(lambda x: x.value_counts().index[0])\n",
    "\n",
    "stations_df = stations_df.drop(['name', 'lat', 'long', 'id_freq'], axis = 1)\n",
    "stations_df = stations_df.drop_duplicates()\n",
    "stations_df.info()"
   ]
  },
  {
   "cell_type": "markdown",
   "metadata": {},
   "source": [
    "This has now left us with a simplified set of information for each station."
   ]
  },
  {
   "cell_type": "markdown",
   "metadata": {},
   "source": [
    "The next step is to try and establish what to do about missing values in the ids column of the original data set.\n",
    "In order to do this it is worth trying to establish any patterns in the rows missing station ids. \n",
    "Let us first examine if the cases where there is no start_station_id change over time. "
   ]
  },
  {
   "cell_type": "code",
   "execution_count": 57,
   "metadata": {},
   "outputs": [
    {
     "name": "stdout",
     "output_type": "stream",
     "text": [
      "<class 'pandas.core.frame.DataFrame'>\n",
      "Int64Index: 1916465 entries, 0 to 186216\n",
      "Data columns (total 16 columns):\n",
      " #   Column                   Non-Null Count    Dtype         \n",
      "---  ------                   --------------    -----         \n",
      " 0   duration_sec             1916465 non-null  int64         \n",
      " 1   start_time               1916465 non-null  datetime64[ns]\n",
      " 2   end_time                 1916465 non-null  datetime64[ns]\n",
      " 3   start_station_id         1906726 non-null  float64       \n",
      " 4   start_station_name       1906726 non-null  object        \n",
      " 5   start_station_latitude   1916465 non-null  float64       \n",
      " 6   start_station_longitude  1916465 non-null  float64       \n",
      " 7   end_station_id           1906726 non-null  float64       \n",
      " 8   end_station_name         1906726 non-null  object        \n",
      " 9   end_station_latitude     1916465 non-null  float64       \n",
      " 10  end_station_longitude    1916465 non-null  float64       \n",
      " 11  bike_id                  1916465 non-null  int64         \n",
      " 12  user_type                1916465 non-null  object        \n",
      " 13  member_birth_year        1757969 non-null  float64       \n",
      " 14  member_gender            1758385 non-null  object        \n",
      " 15  bike_share_for_all_trip  1396765 non-null  object        \n",
      "dtypes: datetime64[ns](2), float64(7), int64(2), object(5)\n",
      "memory usage: 248.6+ MB\n"
     ]
    }
   ],
   "source": [
    "df.info(show_counts = True)"
   ]
  },
  {
   "cell_type": "code",
   "execution_count": 58,
   "metadata": {},
   "outputs": [
    {
     "data": {
      "text/plain": [
       "(array([17683., 17697., 17713., 17727., 17744., 17758., 17775., 17789.,\n",
       "        17805.]),\n",
       " [Text(0, 0, ''),\n",
       "  Text(0, 0, ''),\n",
       "  Text(0, 0, ''),\n",
       "  Text(0, 0, ''),\n",
       "  Text(0, 0, ''),\n",
       "  Text(0, 0, ''),\n",
       "  Text(0, 0, ''),\n",
       "  Text(0, 0, ''),\n",
       "  Text(0, 0, '')])"
      ]
     },
     "execution_count": 58,
     "metadata": {},
     "output_type": "execute_result"
    },
    {
     "data": {
      "image/png": "[encoded data removed]",
      "text/plain": [
       "<Figure size 432x288 with 1 Axes>"
      ]
     },
     "metadata": {
      "needs_background": "light"
     },
     "output_type": "display_data"
    }
   ],
   "source": [
    "# create a data frame for rows that have no station ids\n",
    "no_start_station = df[df['start_station_id'].isna()].copy()\n",
    "\n",
    "# add a column for start_day to make the graphing of the number of missing station_ids over time easier\n",
    "no_start_station['start_day']  = no_start_station['start_time'].dt.date\n",
    "no_start_station.groupby('start_day').size().plot()\n",
    "\n",
    "plt.xticks(rotation = 45)\n",
    "\n"
   ]
  },
  {
   "cell_type": "markdown",
   "metadata": {},
   "source": [
    "This shows that there is no particular pattern in the number of records with no start station over time. \n",
    "Research from here: \n",
    "https://www.sfmta.com/getting-around/bike/bike-share\n",
    "The above article suggests that in Jan 2018 the first stationless bikes were introduced. This would fit with the values that are being seen here but would not explain why so few days have records where the start_station_is is missing. \n"
   ]
  },
  {
   "cell_type": "code",
   "execution_count": 59,
   "metadata": {},
   "outputs": [
    {
     "name": "stdout",
     "output_type": "stream",
     "text": [
      "Number of days on which ride began with no start startion id: 113\n",
      "Earliest case of no station id: 2018-06-01 13:47:53.131000\n",
      "Latest case of no station id: 2018-09-30 22:09:18.266000\n",
      "The difference in time between first case and latest case: 121 days 23:59:12.294000\n"
     ]
    }
   ],
   "source": [
    "print('Number of days on which ride began with no start startion id: {}'.format((len(no_start_station['start_day'].unique()))))\n",
    "print('Earliest case of no station id: {}'.format(min(no_start_station['start_time'])))\n",
    "print('Latest case of no station id: {}'.format(max(no_start_station['start_time'])))\n",
    "\n",
    "timediff = pd.to_datetime(max(df['start_time'])) - pd.to_datetime(min(no_start_station['start_day'].unique()))\n",
    "print('The difference in time between first case and latest case: {}'.format(timediff))"
   ]
  },
  {
   "cell_type": "markdown",
   "metadata": {},
   "source": [
    "We can judge from the above that once stationless bikes were introduced they were popular and were used most days (113 out of the 121 possible days). \n",
    "\n",
    "Before assuming that all cases of missing station ids can be explained by stationless bikes it is important to check that all rides that began without a station id also ended without a station id. \n",
    "We can do this by checking the number of total records where only one of the start_station_id and end_station_id is missing. "
   ]
  },
  {
   "cell_type": "code",
   "execution_count": 60,
   "metadata": {},
   "outputs": [
    {
     "name": "stdout",
     "output_type": "stream",
     "text": [
      "The number of cases where only one station id was missing is: 0\n"
     ]
    }
   ],
   "source": [
    "only_one_station_index = df['start_station_id'].isna().astype(int) + df['end_station_id'].isna().astype(int) == 1\n",
    "only_one_station = df[only_one_station_index]\n",
    "print('The number of cases where only one station id was missing is: {}'.format(len(only_one_station)))"
   ]
  },
  {
   "cell_type": "markdown",
   "metadata": {},
   "source": [
    "This tells us that there are no cases where start_station_id is present and end_station_id is not. \n",
    "Therefore we can assume that these are all stationless bikes. "
   ]
  },
  {
   "cell_type": "markdown",
   "metadata": {},
   "source": [
    "#### 4.2 Conclusion\n",
    "\n",
    "The fact that some records are missing station_ids prevents us from being able to remove the station_name, lat and long columns from the data frame without losing a lot of information about the locations of stationless bikes.  \n",
    "Keeping it in there unnecessarily does slow down all operations though.\n",
    "I will add a column for stationless bike_status and fill in station_ids for stationless bikes with 0 and convert ids to ints."
   ]
  },
  {
   "cell_type": "code",
   "execution_count": 61,
   "metadata": {},
   "outputs": [
    {
     "name": "stdout",
     "output_type": "stream",
     "text": [
      "<class 'pandas.core.frame.DataFrame'>\n",
      "Int64Index: 1916465 entries, 0 to 186216\n",
      "Data columns (total 17 columns):\n",
      " #   Column                   Non-Null Count    Dtype         \n",
      "---  ------                   --------------    -----         \n",
      " 0   duration_sec             1916465 non-null  int64         \n",
      " 1   start_time               1916465 non-null  datetime64[ns]\n",
      " 2   end_time                 1916465 non-null  datetime64[ns]\n",
      " 3   start_station_id         1916465 non-null  int32         \n",
      " 4   start_station_name       1916465 non-null  object        \n",
      " 5   start_station_latitude   1916465 non-null  float64       \n",
      " 6   start_station_longitude  1916465 non-null  float64       \n",
      " 7   end_station_id           1916465 non-null  int32         \n",
      " 8   end_station_name         1916465 non-null  object        \n",
      " 9   end_station_latitude     1916465 non-null  float64       \n",
      " 10  end_station_longitude    1916465 non-null  float64       \n",
      " 11  bike_id                  1916465 non-null  int64         \n",
      " 12  user_type                1916465 non-null  object        \n",
      " 13  member_birth_year        1757969 non-null  float64       \n",
      " 14  member_gender            1758385 non-null  object        \n",
      " 15  bike_share_for_all_trip  1396765 non-null  object        \n",
      " 16  stationless              1916465 non-null  int32         \n",
      "dtypes: datetime64[ns](2), float64(5), int32(3), int64(2), object(5)\n",
      "memory usage: 241.3+ MB\n"
     ]
    }
   ],
   "source": [
    "df['stationless'] = df['start_station_id'].isna().astype(int)\n",
    "df['start_station_id'] = df['start_station_id'].fillna(0)\n",
    "df['start_station_id'] = df['start_station_id'].astype(int)\n",
    "df['start_station_name'] = df['start_station_name'].fillna('stationless')\n",
    "\n",
    "df['end_station_id'] = df['end_station_id'].fillna(0)\n",
    "df['end_station_id'] = df['end_station_id'].astype(int)\n",
    "df['end_station_name'] = df['end_station_name'].fillna('stationless')\n",
    "\n",
    "df.info(verbose=True, show_counts=True)"
   ]
  },
  {
   "cell_type": "markdown",
   "metadata": {},
   "source": [
    "The code below would create separate the rides data frame into two, one data frame with stationless rides and another with rides between stations."
   ]
  },
  {
   "cell_type": "code",
   "execution_count": null,
   "metadata": {},
   "outputs": [],
   "source": [
    "# stationless_records = df[df['stationless'] == 1].copy()\n",
    "\n",
    "# rides_from_stations = df[df['stationless'] == 0].copy()\n",
    "\n",
    "# cols_to_drop = ['start_station_name', 'start_station_latitude', 'start_station_longitude', 'end_station_name', 'end_station_latitude', 'end_station_longitude']\n",
    "# rides_from_station = rides_from_stations.drop(cols_to_drop, axis = 1)"
   ]
  },
  {
   "cell_type": "markdown",
   "metadata": {},
   "source": [
    "## 4.3 User type\n",
    "\n",
    "User type is likely a column that can be turned into a categorical type in order to save space storing it and make its ues easier."
   ]
  },
  {
   "cell_type": "code",
   "execution_count": 62,
   "metadata": {},
   "outputs": [
    {
     "data": {
      "text/plain": [
       "array(['Customer', 'Subscriber'], dtype=object)"
      ]
     },
     "metadata": {},
     "output_type": "display_data"
    }
   ],
   "source": [
    "user_types = df['user_type'].unique()\n",
    "display(user_types)"
   ]
  },
  {
   "cell_type": "markdown",
   "metadata": {},
   "source": [
    "Every record is classified as either a customer or a subscriber. \n",
    "Thus user_type should be represented as a categorical variable."
   ]
  },
  {
   "cell_type": "code",
   "execution_count": 63,
   "metadata": {},
   "outputs": [
    {
     "name": "stdout",
     "output_type": "stream",
     "text": [
      "<class 'pandas.core.frame.DataFrame'>\n",
      "Int64Index: 1916465 entries, 0 to 186216\n",
      "Data columns (total 17 columns):\n",
      " #   Column                   Dtype         \n",
      "---  ------                   -----         \n",
      " 0   duration_sec             int64         \n",
      " 1   start_time               datetime64[ns]\n",
      " 2   end_time                 datetime64[ns]\n",
      " 3   start_station_id         int32         \n",
      " 4   start_station_name       object        \n",
      " 5   start_station_latitude   float64       \n",
      " 6   start_station_longitude  float64       \n",
      " 7   end_station_id           int32         \n",
      " 8   end_station_name         object        \n",
      " 9   end_station_latitude     float64       \n",
      " 10  end_station_longitude    float64       \n",
      " 11  bike_id                  int64         \n",
      " 12  user_type                category      \n",
      " 13  member_birth_year        float64       \n",
      " 14  member_gender            object        \n",
      " 15  bike_share_for_all_trip  object        \n",
      " 16  stationless              int32         \n",
      "dtypes: category(1), datetime64[ns](2), float64(5), int32(3), int64(2), object(4)\n",
      "memory usage: 228.5+ MB\n"
     ]
    }
   ],
   "source": [
    "df['user_type'] = df['user_type'].astype('category')\n",
    "df.info()"
   ]
  },
  {
   "cell_type": "markdown",
   "metadata": {},
   "source": [
    "I will briefly examine the two different categories hoping to find a connection between them and the missing values in member_birth_year and member_gender that would help explain the missing values."
   ]
  },
  {
   "cell_type": "code",
   "execution_count": 64,
   "metadata": {},
   "outputs": [
    {
     "name": "stdout",
     "output_type": "stream",
     "text": [
      "<class 'pandas.core.frame.DataFrame'>\n",
      "Int64Index: 332075 entries, 0 to 186216\n",
      "Data columns (total 17 columns):\n",
      " #   Column                   Non-Null Count   Dtype         \n",
      "---  ------                   --------------   -----         \n",
      " 0   duration_sec             332075 non-null  int64         \n",
      " 1   start_time               332075 non-null  datetime64[ns]\n",
      " 2   end_time                 332075 non-null  datetime64[ns]\n",
      " 3   start_station_id         332075 non-null  int32         \n",
      " 4   start_station_name       332075 non-null  object        \n",
      " 5   start_station_latitude   332075 non-null  float64       \n",
      " 6   start_station_longitude  332075 non-null  float64       \n",
      " 7   end_station_id           332075 non-null  int32         \n",
      " 8   end_station_name         332075 non-null  object        \n",
      " 9   end_station_latitude     332075 non-null  float64       \n",
      " 10  end_station_longitude    332075 non-null  float64       \n",
      " 11  bike_id                  332075 non-null  int64         \n",
      " 12  user_type                332075 non-null  category      \n",
      " 13  member_birth_year        204392 non-null  float64       \n",
      " 14  member_gender            204392 non-null  object        \n",
      " 15  bike_share_for_all_trip  221605 non-null  object        \n",
      " 16  stationless              332075 non-null  int32         \n",
      "dtypes: category(1), datetime64[ns](2), float64(5), int32(3), int64(2), object(4)\n",
      "memory usage: 39.6+ MB\n"
     ]
    }
   ],
   "source": [
    "customer_index = df['user_type'] == 'Customer'\n",
    "customer_df = df[customer_index].copy()\n",
    "customer_df.info()"
   ]
  },
  {
   "cell_type": "code",
   "execution_count": 65,
   "metadata": {},
   "outputs": [
    {
     "name": "stdout",
     "output_type": "stream",
     "text": [
      "<class 'pandas.core.frame.DataFrame'>\n",
      "Int64Index: 1584390 entries, 4 to 186213\n",
      "Data columns (total 17 columns):\n",
      " #   Column                   Non-Null Count    Dtype         \n",
      "---  ------                   --------------    -----         \n",
      " 0   duration_sec             1584390 non-null  int64         \n",
      " 1   start_time               1584390 non-null  datetime64[ns]\n",
      " 2   end_time                 1584390 non-null  datetime64[ns]\n",
      " 3   start_station_id         1584390 non-null  int32         \n",
      " 4   start_station_name       1584390 non-null  object        \n",
      " 5   start_station_latitude   1584390 non-null  float64       \n",
      " 6   start_station_longitude  1584390 non-null  float64       \n",
      " 7   end_station_id           1584390 non-null  int32         \n",
      " 8   end_station_name         1584390 non-null  object        \n",
      " 9   end_station_latitude     1584390 non-null  float64       \n",
      " 10  end_station_longitude    1584390 non-null  float64       \n",
      " 11  bike_id                  1584390 non-null  int64         \n",
      " 12  user_type                1584390 non-null  category      \n",
      " 13  member_birth_year        1553577 non-null  float64       \n",
      " 14  member_gender            1553993 non-null  object        \n",
      " 15  bike_share_for_all_trip  1175160 non-null  object        \n",
      " 16  stationless              1584390 non-null  int32         \n",
      "dtypes: category(1), datetime64[ns](2), float64(5), int32(3), int64(2), object(4)\n",
      "memory usage: 188.9+ MB\n"
     ]
    }
   ],
   "source": [
    "subscriber_df = df[df['user_type'] == 'Subscriber'].copy()\n",
    "subscriber_df.info()"
   ]
  },
  {
   "cell_type": "markdown",
   "metadata": {},
   "source": [
    "There are records with missing data for birth_year and gender in both dataframes. This tells us that it is not just customer records with data missing. Nevertheless the proportion of subscribers who have their birth_year and gender recorded is a lot higher than the proportion of customers. "
   ]
  },
  {
   "cell_type": "markdown",
   "metadata": {},
   "source": [
    "## 4.4 Member Birth Year and Gender\n",
    "\n",
    "Both of these columns are missing values and it is worth trying to explore why before choosing what to do with those missing pieces of data."
   ]
  },
  {
   "cell_type": "code",
   "execution_count": 66,
   "metadata": {},
   "outputs": [
    {
     "name": "stdout",
     "output_type": "stream",
     "text": [
      "<class 'pandas.core.frame.DataFrame'>\n",
      "Int64Index: 158496 entries, 2 to 186197\n",
      "Data columns (total 17 columns):\n",
      " #   Column                   Non-Null Count   Dtype         \n",
      "---  ------                   --------------   -----         \n",
      " 0   duration_sec             158496 non-null  int64         \n",
      " 1   start_time               158496 non-null  datetime64[ns]\n",
      " 2   end_time                 158496 non-null  datetime64[ns]\n",
      " 3   start_station_id         158496 non-null  int32         \n",
      " 4   start_station_name       158496 non-null  object        \n",
      " 5   start_station_latitude   158496 non-null  float64       \n",
      " 6   start_station_longitude  158496 non-null  float64       \n",
      " 7   end_station_id           158496 non-null  int32         \n",
      " 8   end_station_name         158496 non-null  object        \n",
      " 9   end_station_latitude     158496 non-null  float64       \n",
      " 10  end_station_longitude    158496 non-null  float64       \n",
      " 11  bike_id                  158496 non-null  int64         \n",
      " 12  user_type                158496 non-null  category      \n",
      " 13  member_birth_year        0 non-null       float64       \n",
      " 14  member_gender            416 non-null     object        \n",
      " 15  bike_share_for_all_trip  91955 non-null   object        \n",
      " 16  stationless              158496 non-null  int32         \n",
      "dtypes: category(1), datetime64[ns](2), float64(5), int32(3), int64(2), object(4)\n",
      "memory usage: 18.9+ MB\n"
     ]
    }
   ],
   "source": [
    "no_birth_year_index = df['member_birth_year'].isna()\n",
    "no_birth_year = df[no_birth_year_index]\n",
    "no_birth_year.info()"
   ]
  },
  {
   "cell_type": "markdown",
   "metadata": {},
   "source": [
    "In most cases where the birth year is missing, the gender is also missing, however there are a small number of cases where gender data is present and birth_year data is not. "
   ]
  },
  {
   "cell_type": "code",
   "execution_count": 67,
   "metadata": {},
   "outputs": [
    {
     "name": "stdout",
     "output_type": "stream",
     "text": [
      "<class 'pandas.core.frame.DataFrame'>\n",
      "Int64Index: 158080 entries, 2 to 186197\n",
      "Data columns (total 17 columns):\n",
      " #   Column                   Non-Null Count   Dtype         \n",
      "---  ------                   --------------   -----         \n",
      " 0   duration_sec             158080 non-null  int64         \n",
      " 1   start_time               158080 non-null  datetime64[ns]\n",
      " 2   end_time                 158080 non-null  datetime64[ns]\n",
      " 3   start_station_id         158080 non-null  int32         \n",
      " 4   start_station_name       158080 non-null  object        \n",
      " 5   start_station_latitude   158080 non-null  float64       \n",
      " 6   start_station_longitude  158080 non-null  float64       \n",
      " 7   end_station_id           158080 non-null  int32         \n",
      " 8   end_station_name         158080 non-null  object        \n",
      " 9   end_station_latitude     158080 non-null  float64       \n",
      " 10  end_station_longitude    158080 non-null  float64       \n",
      " 11  bike_id                  158080 non-null  int64         \n",
      " 12  user_type                158080 non-null  category      \n",
      " 13  member_birth_year        0 non-null       float64       \n",
      " 14  member_gender            0 non-null       object        \n",
      " 15  bike_share_for_all_trip  91618 non-null   object        \n",
      " 16  stationless              158080 non-null  int32         \n",
      "dtypes: category(1), datetime64[ns](2), float64(5), int32(3), int64(2), object(4)\n",
      "memory usage: 18.8+ MB\n"
     ]
    }
   ],
   "source": [
    "no_gender_index = df['member_gender'].isna()\n",
    "no_gender = df[no_gender_index]\n",
    "no_gender.info()"
   ]
  },
  {
   "cell_type": "markdown",
   "metadata": {},
   "source": [
    "In all of the cases where gender is missing we are also missing birth_year information.\n",
    "Perhaps this is down to some users not specifying birth_year. \n",
    "\n",
    "I will analyse the usage of the bikes by these users to see if this is down to a small number of users who are repeatedly using the bikes or if there are a larger number of users who are specifying gender but not birth year."
   ]
  },
  {
   "cell_type": "code",
   "execution_count": 68,
   "metadata": {},
   "outputs": [
    {
     "name": "stdout",
     "output_type": "stream",
     "text": [
      "These are the stations that are used by the users in question: \n",
      "22     0.403846\n",
      "93     0.346154\n",
      "104    0.146635\n",
      "23     0.048077\n",
      "15     0.016827\n",
      "17     0.016827\n",
      "16     0.012019\n",
      "24     0.002404\n",
      "81     0.002404\n",
      "215    0.002404\n",
      "321    0.002404\n",
      "Name: start_station_id, dtype: float64\n",
      "\n",
      " These are the stations that are used by users in general: \n",
      "15     0.023442\n",
      "6      0.020679\n",
      "30     0.020602\n",
      "67     0.020357\n",
      "58     0.019517\n",
      "         ...   \n",
      "374    0.000013\n",
      "358    0.000011\n",
      "359    0.000009\n",
      "360    0.000007\n",
      "361    0.000007\n",
      "Name: start_station_id, Length: 325, dtype: float64\n"
     ]
    }
   ],
   "source": [
    "no_birth_year_with_gender = no_birth_year[no_birth_year['member_gender'].notna()]\n",
    "print('These are the stations that are used by the users in question: \\n{}'.format(no_birth_year_with_gender['start_station_id'].value_counts() / len(no_birth_year_with_gender)))\n",
    "\n",
    "print('\\n These are the stations that are used by users in general: \\n{}'.format(df['start_station_id'].value_counts() / len(df)))"
   ]
  },
  {
   "cell_type": "markdown",
   "metadata": {},
   "source": [
    "This shows that a number of stations are regularly used by customers with gender but no birth_year and that these stations are not those regularly used by most users.\n",
    "\n",
    "To find out exaclty what proportion of total user rides come from these stations we can search for the stations that we are interested in. "
   ]
  },
  {
   "cell_type": "code",
   "execution_count": 69,
   "metadata": {},
   "outputs": [
    {
     "data": {
      "text/plain": [
       "22     0.015771\n",
       "93     0.008629\n",
       "104    0.002341\n",
       "Name: start_station_id, dtype: float64"
      ]
     },
     "execution_count": 69,
     "metadata": {},
     "output_type": "execute_result"
    }
   ],
   "source": [
    "(df['start_station_id'].value_counts() / len(df)).loc[[22, 93, 104]]"
   ]
  },
  {
   "cell_type": "markdown",
   "metadata": {},
   "source": [
    "Thus we can see that the overwhelming majority of rides with users who have gender data but not birth_year data took place from 3 locations that are not particularly popular with most riders whose details are not stored. \n",
    "The simplest conclusion from this is that there are a few riders whose birth year is not specified but whose gender is. \n",
    "\n",
    "We can try to pin down futher how many users this is by checking the number of rides completed by users with gender data but no birth_year data."
   ]
  },
  {
   "cell_type": "code",
   "execution_count": 70,
   "metadata": {},
   "outputs": [
    {
     "name": "stdout",
     "output_type": "stream",
     "text": [
      "The number of days for which each number of rides occured:\n"
     ]
    },
    {
     "data": {
      "text/plain": [
       "2    199\n",
       "1     10\n",
       "4      2\n",
       "dtype: int64"
      ]
     },
     "metadata": {},
     "output_type": "display_data"
    },
    {
     "name": "stdout",
     "output_type": "stream",
     "text": [
      "Earliest use day: 2017-10-13\n",
      "Latest use day: 2018-09-28\n",
      "Time between these dates: 350 days, 0:00:00\n"
     ]
    }
   ],
   "source": [
    "# have to make a copy of the view in order to add new columns\n",
    "no_birth_year_with_gender = no_birth_year_with_gender.copy()\n",
    "no_birth_year_with_gender['start_day'] = no_birth_year_with_gender['start_time'].dt.date\n",
    "\n",
    "print('The number of days for which each number of rides occured:')\n",
    "display(no_birth_year_with_gender.groupby('start_day').size().value_counts())\n",
    "\n",
    "\n",
    "print('Earliest use day: {}'.format(min(no_birth_year_with_gender['start_day'])))\n",
    "print('Latest use day: {}'.format(max(no_birth_year_with_gender['start_day'])))\n",
    "\n",
    "daysdiff = max(no_birth_year_with_gender['start_day']) - min(no_birth_year_with_gender['start_day'])\n",
    "      \n",
    "print('Time between these dates: {}'.format(daysdiff))"
   ]
  },
  {
   "cell_type": "markdown",
   "metadata": {},
   "source": [
    "These numbers would suggest probably 1 or 2 members have not specified year of birth and have been using the bikes fairly regularly (211 days out of 350) since joining. "
   ]
  },
  {
   "cell_type": "markdown",
   "metadata": {},
   "source": [
    "Before finishing this section it is worth checking if the number of records for which we have no data has been changing much over time. "
   ]
  },
  {
   "cell_type": "code",
   "execution_count": 71,
   "metadata": {},
   "outputs": [
    {
     "data": {
      "text/plain": [
       "<AxesSubplot:xlabel='start_day'>"
      ]
     },
     "execution_count": 71,
     "metadata": {},
     "output_type": "execute_result"
    },
    {
     "data": {
      "image/png": "[encoded data removed]",
      "text/plain": [
       "<Figure size 432x288 with 1 Axes>"
      ]
     },
     "metadata": {
      "needs_background": "light"
     },
     "output_type": "display_data"
    }
   ],
   "source": [
    "no_birth_year_df = no_birth_year.copy()\n",
    "no_birth_year_df['start_day'] = no_birth_year_df['start_time'].dt.date\n",
    "\n",
    "no_birth_year_df.groupby('start_day').size().plot()\n"
   ]
  },
  {
   "cell_type": "markdown",
   "metadata": {},
   "source": [
    "### 4.4 Conclusion\n",
    "\n",
    "There are a number of records for which no data on birth_year and gender is available (158080 out of 1916465 total rides).\n",
    "These records occur throughout the dataset from the first day until the last. \n",
    "\n",
    "For any analyses that relate to age of the user we will remove those records where the age is unknown but for now we will leave all records in the table as the data is useful.\n",
    "\n",
    "Worth adding an 'unknown' value to gender though and making this a categorical column."
   ]
  },
  {
   "cell_type": "code",
   "execution_count": 72,
   "metadata": {},
   "outputs": [],
   "source": [
    "df['member_gender'] = df['member_gender'].fillna('Unknown')\n",
    "df['member_gender'] = df['member_gender'].astype('category')"
   ]
  },
  {
   "cell_type": "markdown",
   "metadata": {},
   "source": [
    "## 4.5 Bikeshare"
   ]
  },
  {
   "cell_type": "markdown",
   "metadata": {},
   "source": [
    "As noted when looking at the original csv files from which the data was loaded, bike_share_for_all_trip is a column that is present in the 2018 data but not in the 2017 data. We can confirm this by looking at the first where the value in that column is not na."
   ]
  },
  {
   "cell_type": "code",
   "execution_count": 73,
   "metadata": {},
   "outputs": [
    {
     "name": "stdout",
     "output_type": "stream",
     "text": [
      "The earliest ride for which bikeshare status is known was at: 2018-01-01 00:01:53.847000\n"
     ]
    }
   ],
   "source": [
    "# create bs abbreviation to prevent repeated typing\n",
    "bs = 'bike_share_for_all_trip'\n",
    "\n",
    "# create a data frame for rides where the value in bs column is not null\n",
    "not_bs_na = df[df[bs].notna()].copy()\n",
    "\n",
    "print('The earliest ride for which bikeshare status is known was at: {}'.format(min(not_bs_na['start_time'])))\n",
    "\n"
   ]
  },
  {
   "cell_type": "markdown",
   "metadata": {},
   "source": [
    "Bs is a feature that is included in our 2018 data but not our 2017 data.\n",
    "Clearly bs is a categorical column and so it will be changed to one.\n",
    "I will add the value 'Pre-2018' to the column for those values that come before data was recorded. "
   ]
  },
  {
   "cell_type": "code",
   "execution_count": 74,
   "metadata": {},
   "outputs": [],
   "source": [
    "df[bs] = df[bs].fillna('Pre-2018')\n",
    "df[bs] = df[bs].astype('category')"
   ]
  },
  {
   "cell_type": "markdown",
   "metadata": {},
   "source": [
    "Research from here: https://mtc.ca.gov/sites/default/files/Bikeshare_in_2018_MTC[1].pdf\n",
    "\n",
    "This suggests that bs indicates the status of the user.\n",
    "bs status means that the user is part of a wider community of bike users. \n",
    "\n",
    "Therefore we will leave the column in as it could prove useful in considering the different habits of bs users in comparison to other users. "
   ]
  },
  {
   "cell_type": "markdown",
   "metadata": {},
   "source": [
    "## Exporting df"
   ]
  },
  {
   "cell_type": "code",
   "execution_count": 75,
   "metadata": {},
   "outputs": [],
   "source": [
    "df.to_csv(r'cleaner_df.csv', index = False)\n",
    "\n",
    "stations_df.to_csv(r'stations_df.csv', index = False)"
   ]
  }
 ],
 "metadata": {
  "kernelspec": {
   "display_name": "Python 3",
   "language": "python",
   "name": "python3"
  },
  "language_info": {
   "codemirror_mode": {
    "name": "ipython",
    "version": 3
   },
   "file_extension": ".py",
   "mimetype": "text/x-python",
   "name": "python",
   "nbconvert_exporter": "python",
   "pygments_lexer": "ipython3",
   "version": "3.8.8"
  }
 },
 "nbformat": 4,
 "nbformat_minor": 4
}
