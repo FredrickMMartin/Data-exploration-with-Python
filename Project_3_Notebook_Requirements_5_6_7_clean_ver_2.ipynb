{
 "cells": [
  {
   "cell_type": "code",
   "execution_count": 1,
   "metadata": {},
   "outputs": [],
   "source": [
    "# import required libraries\n",
    "import pandas as pd\n",
    "import seaborn as sns\n",
    "import numpy as np\n",
    "import matplotlib.pyplot as plt\n",
    "import collections\n",
    "import datetime as dt\n",
    "import io\n",
    "\n",
    "sns.set(style = 'darkgrid')"
   ]
  },
  {
   "cell_type": "code",
   "execution_count": 2,
   "metadata": {},
   "outputs": [],
   "source": [
    "# import cleaned df\n",
    "df = pd.read_csv('cleaner_df.csv')\n",
    "\n",
    "# convert columns to correct types\n",
    "timecols = ['start_time', 'end_time']\n",
    "for column in timecols:\n",
    "    df[column] = pd.to_datetime(df[column])\n",
    "    \n",
    "catcols = ['user_type', 'bike_share_for_all_trip', 'member_gender']    \n",
    "for column in catcols:\n",
    "    df[column] = df[column].astype('category')\n",
    "    \n",
    "# import stations df\n",
    "stations_df = pd.read_csv('stations_df.csv')\n",
    "stations_df = stations_df.set_index('id')\n"
   ]
  },
  {
   "cell_type": "code",
   "execution_count": 3,
   "metadata": {},
   "outputs": [
    {
     "name": "stdout",
     "output_type": "stream",
     "text": [
      "<class 'pandas.core.frame.DataFrame'>\n",
      "RangeIndex: 1916465 entries, 0 to 1916464\n",
      "Data columns (total 17 columns):\n",
      " #   Column                   Non-Null Count    Dtype         \n",
      "---  ------                   --------------    -----         \n",
      " 0   duration_sec             1916465 non-null  int64         \n",
      " 1   start_time               1916465 non-null  datetime64[ns]\n",
      " 2   end_time                 1916465 non-null  datetime64[ns]\n",
      " 3   start_station_id         1916465 non-null  int64         \n",
      " 4   start_station_name       1916465 non-null  object        \n",
      " 5   start_station_latitude   1916465 non-null  float64       \n",
      " 6   start_station_longitude  1916465 non-null  float64       \n",
      " 7   end_station_id           1916465 non-null  int64         \n",
      " 8   end_station_name         1916465 non-null  object        \n",
      " 9   end_station_latitude     1916465 non-null  float64       \n",
      " 10  end_station_longitude    1916465 non-null  float64       \n",
      " 11  bike_id                  1916465 non-null  int64         \n",
      " 12  user_type                1916465 non-null  category      \n",
      " 13  member_birth_year        1757969 non-null  float64       \n",
      " 14  member_gender            1916465 non-null  category      \n",
      " 15  bike_share_for_all_trip  1916465 non-null  category      \n",
      " 16  stationless              1916465 non-null  int64         \n",
      "dtypes: category(3), datetime64[ns](2), float64(5), int64(5), object(2)\n",
      "memory usage: 210.2+ MB\n"
     ]
    }
   ],
   "source": [
    "# check that df has been loaded correctly\n",
    "df.info(verbose = True, show_counts = True)"
   ]
  },
  {
   "cell_type": "markdown",
   "metadata": {},
   "source": [
    "## Requirement 5 - Add columns for Age, Age group, etc "
   ]
  },
  {
   "cell_type": "markdown",
   "metadata": {},
   "source": [
    "We will begin by adding in the suggested columns for Age and Age group"
   ]
  },
  {
   "cell_type": "code",
   "execution_count": 4,
   "metadata": {},
   "outputs": [],
   "source": [
    "df['Age'] = df['start_time'].dt.year - df['member_birth_year']\n",
    "\n",
    "# In order to add in the age_group column we will use the apply method associated with series. \n",
    "# To do this we must define a function that takes the age and return the age_group\n",
    "\n",
    "def agegroup(age):\n",
    "    \"\"\"\n",
    "    Function that converts age to a decade based age group\n",
    "    \n",
    "    Parameters\n",
    "    -----\n",
    "    age : numeric\n",
    "        the age of the person/thing\n",
    "    Returns\n",
    "    -----\n",
    "    string\n",
    "        the decade group of the person/thing as a string\n",
    "    \"\"\"\n",
    "    if type(age) == float and pd.isna(age):\n",
    "        return\n",
    "    else:\n",
    "        lower_bound = 10 * (age // 10)\n",
    "        upper_bound = lower_bound + 10\n",
    "        group = \"{} - {}\".format(lower_bound, upper_bound)\n",
    "        return group\n",
    "\n",
    "df['Age_group'] = df['Age'].apply(agegroup)\n",
    "df['Age_group'] = df['Age_group'].astype('category')"
   ]
  },
  {
   "cell_type": "code",
   "execution_count": 5,
   "metadata": {},
   "outputs": [
    {
     "data": {
      "text/html": [
       "<div>\n",
       "<style scoped>\n",
       "    .dataframe tbody tr th:only-of-type {\n",
       "        vertical-align: middle;\n",
       "    }\n",
       "\n",
       "    .dataframe tbody tr th {\n",
       "        vertical-align: top;\n",
       "    }\n",
       "\n",
       "    .dataframe thead th {\n",
       "        text-align: right;\n",
       "    }\n",
       "</style>\n",
       "<table border=\"1\" class=\"dataframe\">\n",
       "  <thead>\n",
       "    <tr style=\"text-align: right;\">\n",
       "      <th></th>\n",
       "      <th>duration_sec</th>\n",
       "      <th>start_time</th>\n",
       "      <th>end_time</th>\n",
       "      <th>start_station_id</th>\n",
       "      <th>start_station_name</th>\n",
       "      <th>start_station_latitude</th>\n",
       "      <th>start_station_longitude</th>\n",
       "      <th>end_station_id</th>\n",
       "      <th>end_station_name</th>\n",
       "      <th>end_station_latitude</th>\n",
       "      <th>end_station_longitude</th>\n",
       "      <th>bike_id</th>\n",
       "      <th>user_type</th>\n",
       "      <th>member_birth_year</th>\n",
       "      <th>member_gender</th>\n",
       "      <th>bike_share_for_all_trip</th>\n",
       "      <th>stationless</th>\n",
       "      <th>Age</th>\n",
       "      <th>Age_group</th>\n",
       "    </tr>\n",
       "  </thead>\n",
       "  <tbody>\n",
       "    <tr>\n",
       "      <th>0</th>\n",
       "      <td>80110</td>\n",
       "      <td>2017-12-31 16:57:39.654</td>\n",
       "      <td>2018-01-01 15:12:50.245</td>\n",
       "      <td>74</td>\n",
       "      <td>Laguna St at Hayes St</td>\n",
       "      <td>37.776435</td>\n",
       "      <td>-122.426244</td>\n",
       "      <td>43</td>\n",
       "      <td>San Francisco Public Library (Grove St at Hyde...</td>\n",
       "      <td>37.778768</td>\n",
       "      <td>-122.415929</td>\n",
       "      <td>96</td>\n",
       "      <td>Customer</td>\n",
       "      <td>1987.0</td>\n",
       "      <td>Male</td>\n",
       "      <td>Pre-2018</td>\n",
       "      <td>0</td>\n",
       "      <td>30.0</td>\n",
       "      <td>30.0 - 40.0</td>\n",
       "    </tr>\n",
       "    <tr>\n",
       "      <th>1</th>\n",
       "      <td>78800</td>\n",
       "      <td>2017-12-31 15:56:34.842</td>\n",
       "      <td>2018-01-01 13:49:55.617</td>\n",
       "      <td>284</td>\n",
       "      <td>Yerba Buena Center for the Arts (Howard St at ...</td>\n",
       "      <td>37.784872</td>\n",
       "      <td>-122.400876</td>\n",
       "      <td>96</td>\n",
       "      <td>Dolores St at 15th St</td>\n",
       "      <td>37.766210</td>\n",
       "      <td>-122.426614</td>\n",
       "      <td>88</td>\n",
       "      <td>Customer</td>\n",
       "      <td>1965.0</td>\n",
       "      <td>Female</td>\n",
       "      <td>Pre-2018</td>\n",
       "      <td>0</td>\n",
       "      <td>52.0</td>\n",
       "      <td>50.0 - 60.0</td>\n",
       "    </tr>\n",
       "    <tr>\n",
       "      <th>2</th>\n",
       "      <td>45768</td>\n",
       "      <td>2017-12-31 22:45:48.411</td>\n",
       "      <td>2018-01-01 11:28:36.883</td>\n",
       "      <td>245</td>\n",
       "      <td>Downtown Berkeley BART</td>\n",
       "      <td>37.870348</td>\n",
       "      <td>-122.267764</td>\n",
       "      <td>245</td>\n",
       "      <td>Downtown Berkeley BART</td>\n",
       "      <td>37.870348</td>\n",
       "      <td>-122.267764</td>\n",
       "      <td>1094</td>\n",
       "      <td>Customer</td>\n",
       "      <td>NaN</td>\n",
       "      <td>Unknown</td>\n",
       "      <td>Pre-2018</td>\n",
       "      <td>0</td>\n",
       "      <td>NaN</td>\n",
       "      <td>NaN</td>\n",
       "    </tr>\n",
       "    <tr>\n",
       "      <th>3</th>\n",
       "      <td>62172</td>\n",
       "      <td>2017-12-31 17:31:10.636</td>\n",
       "      <td>2018-01-01 10:47:23.531</td>\n",
       "      <td>60</td>\n",
       "      <td>8th St at Ringold St</td>\n",
       "      <td>37.774520</td>\n",
       "      <td>-122.409449</td>\n",
       "      <td>5</td>\n",
       "      <td>Powell St BART Station (Market St at 5th St)</td>\n",
       "      <td>37.783899</td>\n",
       "      <td>-122.408445</td>\n",
       "      <td>2831</td>\n",
       "      <td>Customer</td>\n",
       "      <td>NaN</td>\n",
       "      <td>Unknown</td>\n",
       "      <td>Pre-2018</td>\n",
       "      <td>0</td>\n",
       "      <td>NaN</td>\n",
       "      <td>NaN</td>\n",
       "    </tr>\n",
       "    <tr>\n",
       "      <th>4</th>\n",
       "      <td>43603</td>\n",
       "      <td>2017-12-31 14:23:14.001</td>\n",
       "      <td>2018-01-01 02:29:57.571</td>\n",
       "      <td>239</td>\n",
       "      <td>Bancroft Way at Telegraph Ave</td>\n",
       "      <td>37.868813</td>\n",
       "      <td>-122.258764</td>\n",
       "      <td>247</td>\n",
       "      <td>Fulton St at Bancroft Way</td>\n",
       "      <td>37.867789</td>\n",
       "      <td>-122.265896</td>\n",
       "      <td>3167</td>\n",
       "      <td>Subscriber</td>\n",
       "      <td>1997.0</td>\n",
       "      <td>Female</td>\n",
       "      <td>Pre-2018</td>\n",
       "      <td>0</td>\n",
       "      <td>20.0</td>\n",
       "      <td>20.0 - 30.0</td>\n",
       "    </tr>\n",
       "  </tbody>\n",
       "</table>\n",
       "</div>"
      ],
      "text/plain": [
       "   duration_sec              start_time                end_time  \\\n",
       "0         80110 2017-12-31 16:57:39.654 2018-01-01 15:12:50.245   \n",
       "1         78800 2017-12-31 15:56:34.842 2018-01-01 13:49:55.617   \n",
       "2         45768 2017-12-31 22:45:48.411 2018-01-01 11:28:36.883   \n",
       "3         62172 2017-12-31 17:31:10.636 2018-01-01 10:47:23.531   \n",
       "4         43603 2017-12-31 14:23:14.001 2018-01-01 02:29:57.571   \n",
       "\n",
       "   start_station_id                                 start_station_name  \\\n",
       "0                74                              Laguna St at Hayes St   \n",
       "1               284  Yerba Buena Center for the Arts (Howard St at ...   \n",
       "2               245                             Downtown Berkeley BART   \n",
       "3                60                               8th St at Ringold St   \n",
       "4               239                      Bancroft Way at Telegraph Ave   \n",
       "\n",
       "   start_station_latitude  start_station_longitude  end_station_id  \\\n",
       "0               37.776435              -122.426244              43   \n",
       "1               37.784872              -122.400876              96   \n",
       "2               37.870348              -122.267764             245   \n",
       "3               37.774520              -122.409449               5   \n",
       "4               37.868813              -122.258764             247   \n",
       "\n",
       "                                    end_station_name  end_station_latitude  \\\n",
       "0  San Francisco Public Library (Grove St at Hyde...             37.778768   \n",
       "1                              Dolores St at 15th St             37.766210   \n",
       "2                             Downtown Berkeley BART             37.870348   \n",
       "3       Powell St BART Station (Market St at 5th St)             37.783899   \n",
       "4                          Fulton St at Bancroft Way             37.867789   \n",
       "\n",
       "   end_station_longitude  bike_id   user_type  member_birth_year  \\\n",
       "0            -122.415929       96    Customer             1987.0   \n",
       "1            -122.426614       88    Customer             1965.0   \n",
       "2            -122.267764     1094    Customer                NaN   \n",
       "3            -122.408445     2831    Customer                NaN   \n",
       "4            -122.265896     3167  Subscriber             1997.0   \n",
       "\n",
       "  member_gender bike_share_for_all_trip  stationless   Age    Age_group  \n",
       "0          Male                Pre-2018            0  30.0  30.0 - 40.0  \n",
       "1        Female                Pre-2018            0  52.0  50.0 - 60.0  \n",
       "2       Unknown                Pre-2018            0   NaN          NaN  \n",
       "3       Unknown                Pre-2018            0   NaN          NaN  \n",
       "4        Female                Pre-2018            0  20.0  20.0 - 30.0  "
      ]
     },
     "execution_count": 5,
     "metadata": {},
     "output_type": "execute_result"
    }
   ],
   "source": [
    "df.head()"
   ]
  },
  {
   "cell_type": "markdown",
   "metadata": {},
   "source": [
    "This seems to have been successful in introducing these new columns."
   ]
  },
  {
   "cell_type": "markdown",
   "metadata": {},
   "source": [
    "Additional columns will be introduced as they are deemed necessary for analysis."
   ]
  },
  {
   "cell_type": "markdown",
   "metadata": {},
   "source": [
    "## Requirement 6 - List the questions you can ask from the dataset"
   ]
  },
  {
   "cell_type": "markdown",
   "metadata": {},
   "source": [
    "Univariate questions:\n",
    "1. Where do people make their journeys?:\n",
    "    1. What are the most common starting stations?\n",
    "    3. What are the most common ending startions?\n",
    "    2. What are the most common routes?\n",
    "\n",
    "2. How much time are people spending on bikes?\n",
    "    1. How does duration change between customers and subscribers?\n",
    "    2. Can we distinguish cycles for pleasure from cycles for transport?\n",
    "\n",
    "3. How are the rides of customers different to those of subscribers?\n",
    "    1. Are there more common starting/ending locations for customers vs subscribers?\n",
    "    2. Do customers tend to start their rides at a different time than subscribers?\n",
    "    3. Can we train an algorithm to predict whether a ride is by a customer or a subscriber?\n",
    "    4. How do 'bike_share_for_all' rides differ from others?\n",
    "    \n",
    "Bivariate questions:\n",
    "1. When are people making their journeys?\n",
    "    1. How does a rolling 7-day average for rides change over the course of the year?\n",
    "    2. How does temperature affect the number of rides on a day (requires downloading an additional data set)?\n",
    "\n",
    "2. How do age and duration relate?\n",
    "    1. Is there any clear relationship between these variables?\n",
    "    2. Is the relationship different for customers vs subscribers?\n",
    "    \n",
    "Additional questions:\n",
    "1. Do men and women use the service in any noticeably distinct ways?\n",
    "    1. How has the percentage of men / women using the service changed over time?\n",
    "    2. Is the percentage of men / women amongst subscribers the same as it is for customers?\n",
    "    3. Does the duration of rides differ between male and female riders?\n",
    "    \n",
    "2. What ages are the users?\n",
    "    1. How are the ages of users different from customers to subcribers?\n",
    "    \n",
    "3. How has the usage of the bikes developed in the different areas (San Francisco, San Jose, Oakland)?\n"
   ]
  },
  {
   "cell_type": "markdown",
   "metadata": {},
   "source": [
    "## Requirement 7 - Do your explanatory and exploratory analysis"
   ]
  },
  {
   "cell_type": "markdown",
   "metadata": {},
   "source": [
    "I will not be using a number of columns for the coming analysis so these will be dropped from the data frame in order to speed up analysis."
   ]
  },
  {
   "cell_type": "code",
   "execution_count": 6,
   "metadata": {},
   "outputs": [],
   "source": [
    "cols_to_drop = ['start_station_name', 'start_station_latitude', 'start_station_longitude', 'end_station_name', 'end_station_latitude', 'end_station_longitude', 'bike_id']\n",
    "df = df.drop(cols_to_drop, axis = 1)"
   ]
  },
  {
   "cell_type": "markdown",
   "metadata": {},
   "source": [
    "#### Requirement 7 - 1. Where do people make their journeys?:\n",
    "    1. What are the most common starting stations?\n",
    "    3. What are the most common ending startions?\n",
    "    2. What are the most common routes?"
   ]
  },
  {
   "cell_type": "markdown",
   "metadata": {},
   "source": [
    "We will begin by finding the top 10 starting stations."
   ]
  },
  {
   "cell_type": "code",
   "execution_count": 7,
   "metadata": {},
   "outputs": [],
   "source": [
    "top_stations_series = df.groupby('start_station_id').size().sort_values(ascending = False).head(10)\n",
    "top_stations_series = top_stations_series.rename('journeys_started')"
   ]
  },
  {
   "cell_type": "markdown",
   "metadata": {},
   "source": [
    "We can find the details of these stations by merging them back with the stations_df."
   ]
  },
  {
   "cell_type": "code",
   "execution_count": 8,
   "metadata": {},
   "outputs": [
    {
     "data": {
      "text/html": [
       "<div>\n",
       "<style scoped>\n",
       "    .dataframe tbody tr th:only-of-type {\n",
       "        vertical-align: middle;\n",
       "    }\n",
       "\n",
       "    .dataframe tbody tr th {\n",
       "        vertical-align: top;\n",
       "    }\n",
       "\n",
       "    .dataframe thead th {\n",
       "        text-align: right;\n",
       "    }\n",
       "</style>\n",
       "<table border=\"1\" class=\"dataframe\">\n",
       "  <thead>\n",
       "    <tr style=\"text-align: right;\">\n",
       "      <th></th>\n",
       "      <th>common_name</th>\n",
       "      <th>common_lat</th>\n",
       "      <th>common_long</th>\n",
       "      <th>journeys_started</th>\n",
       "      <th>proportion_of_total_journeys</th>\n",
       "    </tr>\n",
       "  </thead>\n",
       "  <tbody>\n",
       "    <tr>\n",
       "      <th>15</th>\n",
       "      <td>San Francisco Ferry Building (Harry Bridges Pl...</td>\n",
       "      <td>37.795392</td>\n",
       "      <td>-122.394203</td>\n",
       "      <td>44925</td>\n",
       "      <td>0.023442</td>\n",
       "    </tr>\n",
       "    <tr>\n",
       "      <th>6</th>\n",
       "      <td>The Embarcadero at Sansome St</td>\n",
       "      <td>37.804770</td>\n",
       "      <td>-122.403234</td>\n",
       "      <td>39630</td>\n",
       "      <td>0.020679</td>\n",
       "    </tr>\n",
       "    <tr>\n",
       "      <th>30</th>\n",
       "      <td>San Francisco Caltrain (Townsend St at 4th St)</td>\n",
       "      <td>37.776598</td>\n",
       "      <td>-122.395282</td>\n",
       "      <td>39483</td>\n",
       "      <td>0.020602</td>\n",
       "    </tr>\n",
       "    <tr>\n",
       "      <th>67</th>\n",
       "      <td>San Francisco Caltrain Station 2  (Townsend St...</td>\n",
       "      <td>37.776639</td>\n",
       "      <td>-122.395526</td>\n",
       "      <td>39013</td>\n",
       "      <td>0.020357</td>\n",
       "    </tr>\n",
       "    <tr>\n",
       "      <th>58</th>\n",
       "      <td>Market St at 10th St</td>\n",
       "      <td>37.776619</td>\n",
       "      <td>-122.417385</td>\n",
       "      <td>37403</td>\n",
       "      <td>0.019517</td>\n",
       "    </tr>\n",
       "    <tr>\n",
       "      <th>81</th>\n",
       "      <td>Berry St at 4th St</td>\n",
       "      <td>37.775880</td>\n",
       "      <td>-122.393170</td>\n",
       "      <td>36824</td>\n",
       "      <td>0.019215</td>\n",
       "    </tr>\n",
       "    <tr>\n",
       "      <th>21</th>\n",
       "      <td>Montgomery St BART Station (Market St at 2nd St)</td>\n",
       "      <td>37.789625</td>\n",
       "      <td>-122.400811</td>\n",
       "      <td>35824</td>\n",
       "      <td>0.018693</td>\n",
       "    </tr>\n",
       "    <tr>\n",
       "      <th>3</th>\n",
       "      <td>Powell St BART Station (Market St at 4th St)</td>\n",
       "      <td>37.786375</td>\n",
       "      <td>-122.404904</td>\n",
       "      <td>33454</td>\n",
       "      <td>0.017456</td>\n",
       "    </tr>\n",
       "    <tr>\n",
       "      <th>16</th>\n",
       "      <td>Steuart St at Market St</td>\n",
       "      <td>37.794130</td>\n",
       "      <td>-122.394430</td>\n",
       "      <td>30868</td>\n",
       "      <td>0.016107</td>\n",
       "    </tr>\n",
       "    <tr>\n",
       "      <th>22</th>\n",
       "      <td>Howard St at Beale St</td>\n",
       "      <td>37.789756</td>\n",
       "      <td>-122.394643</td>\n",
       "      <td>30224</td>\n",
       "      <td>0.015771</td>\n",
       "    </tr>\n",
       "  </tbody>\n",
       "</table>\n",
       "</div>"
      ],
      "text/plain": [
       "                                          common_name  common_lat  \\\n",
       "15  San Francisco Ferry Building (Harry Bridges Pl...   37.795392   \n",
       "6                       The Embarcadero at Sansome St   37.804770   \n",
       "30     San Francisco Caltrain (Townsend St at 4th St)   37.776598   \n",
       "67  San Francisco Caltrain Station 2  (Townsend St...   37.776639   \n",
       "58                               Market St at 10th St   37.776619   \n",
       "81                                 Berry St at 4th St   37.775880   \n",
       "21   Montgomery St BART Station (Market St at 2nd St)   37.789625   \n",
       "3        Powell St BART Station (Market St at 4th St)   37.786375   \n",
       "16                            Steuart St at Market St   37.794130   \n",
       "22                              Howard St at Beale St   37.789756   \n",
       "\n",
       "    common_long  journeys_started  proportion_of_total_journeys  \n",
       "15  -122.394203             44925                      0.023442  \n",
       "6   -122.403234             39630                      0.020679  \n",
       "30  -122.395282             39483                      0.020602  \n",
       "67  -122.395526             39013                      0.020357  \n",
       "58  -122.417385             37403                      0.019517  \n",
       "81  -122.393170             36824                      0.019215  \n",
       "21  -122.400811             35824                      0.018693  \n",
       "3   -122.404904             33454                      0.017456  \n",
       "16  -122.394430             30868                      0.016107  \n",
       "22  -122.394643             30224                      0.015771  "
      ]
     },
     "execution_count": 8,
     "metadata": {},
     "output_type": "execute_result"
    }
   ],
   "source": [
    "starting_points_df = stations_df.merge(top_stations_series, left_index = True, right_index = True)\n",
    "starting_points_df = starting_points_df.sort_values('journeys_started', ascending = False)\n",
    "\n",
    "# adding a columnn giving the propotion of total journeys from a given starting point\n",
    "total_journeys = len(df)\n",
    "starting_points_df['proportion_of_total_journeys'] = starting_points_df['journeys_started'] / total_journeys\n",
    "\n",
    "starting_points_df"
   ]
  },
  {
   "cell_type": "markdown",
   "metadata": {},
   "source": [
    "The details of the most popular starting stations are given above. The most popular station counts for 2.3% of all the rides which is approximately 1 in 40. "
   ]
  },
  {
   "cell_type": "markdown",
   "metadata": {},
   "source": [
    "Similarly we can find the top 10 ending stations."
   ]
  },
  {
   "cell_type": "code",
   "execution_count": 9,
   "metadata": {},
   "outputs": [
    {
     "data": {
      "text/html": [
       "<div>\n",
       "<style scoped>\n",
       "    .dataframe tbody tr th:only-of-type {\n",
       "        vertical-align: middle;\n",
       "    }\n",
       "\n",
       "    .dataframe tbody tr th {\n",
       "        vertical-align: top;\n",
       "    }\n",
       "\n",
       "    .dataframe thead th {\n",
       "        text-align: right;\n",
       "    }\n",
       "</style>\n",
       "<table border=\"1\" class=\"dataframe\">\n",
       "  <thead>\n",
       "    <tr style=\"text-align: right;\">\n",
       "      <th></th>\n",
       "      <th>common_name</th>\n",
       "      <th>common_lat</th>\n",
       "      <th>common_long</th>\n",
       "      <th>journeys_ended</th>\n",
       "      <th>proportion_of_total_journeys</th>\n",
       "    </tr>\n",
       "  </thead>\n",
       "  <tbody>\n",
       "    <tr>\n",
       "      <th>15</th>\n",
       "      <td>San Francisco Ferry Building (Harry Bridges Pl...</td>\n",
       "      <td>37.795392</td>\n",
       "      <td>-122.394203</td>\n",
       "      <td>50993</td>\n",
       "      <td>0.026608</td>\n",
       "    </tr>\n",
       "    <tr>\n",
       "      <th>30</th>\n",
       "      <td>San Francisco Caltrain (Townsend St at 4th St)</td>\n",
       "      <td>37.776598</td>\n",
       "      <td>-122.395282</td>\n",
       "      <td>50806</td>\n",
       "      <td>0.026510</td>\n",
       "    </tr>\n",
       "    <tr>\n",
       "      <th>67</th>\n",
       "      <td>San Francisco Caltrain Station 2  (Townsend St...</td>\n",
       "      <td>37.776639</td>\n",
       "      <td>-122.395526</td>\n",
       "      <td>50007</td>\n",
       "      <td>0.026093</td>\n",
       "    </tr>\n",
       "    <tr>\n",
       "      <th>6</th>\n",
       "      <td>The Embarcadero at Sansome St</td>\n",
       "      <td>37.804770</td>\n",
       "      <td>-122.403234</td>\n",
       "      <td>47048</td>\n",
       "      <td>0.024549</td>\n",
       "    </tr>\n",
       "    <tr>\n",
       "      <th>21</th>\n",
       "      <td>Montgomery St BART Station (Market St at 2nd St)</td>\n",
       "      <td>37.789625</td>\n",
       "      <td>-122.400811</td>\n",
       "      <td>41185</td>\n",
       "      <td>0.021490</td>\n",
       "    </tr>\n",
       "    <tr>\n",
       "      <th>58</th>\n",
       "      <td>Market St at 10th St</td>\n",
       "      <td>37.776619</td>\n",
       "      <td>-122.417385</td>\n",
       "      <td>36044</td>\n",
       "      <td>0.018808</td>\n",
       "    </tr>\n",
       "    <tr>\n",
       "      <th>3</th>\n",
       "      <td>Powell St BART Station (Market St at 4th St)</td>\n",
       "      <td>37.786375</td>\n",
       "      <td>-122.404904</td>\n",
       "      <td>35553</td>\n",
       "      <td>0.018551</td>\n",
       "    </tr>\n",
       "    <tr>\n",
       "      <th>81</th>\n",
       "      <td>Berry St at 4th St</td>\n",
       "      <td>37.775880</td>\n",
       "      <td>-122.393170</td>\n",
       "      <td>35543</td>\n",
       "      <td>0.018546</td>\n",
       "    </tr>\n",
       "    <tr>\n",
       "      <th>16</th>\n",
       "      <td>Steuart St at Market St</td>\n",
       "      <td>37.794130</td>\n",
       "      <td>-122.394430</td>\n",
       "      <td>30843</td>\n",
       "      <td>0.016094</td>\n",
       "    </tr>\n",
       "    <tr>\n",
       "      <th>5</th>\n",
       "      <td>Powell St BART Station (Market St at 5th St)</td>\n",
       "      <td>37.783899</td>\n",
       "      <td>-122.408445</td>\n",
       "      <td>28249</td>\n",
       "      <td>0.014740</td>\n",
       "    </tr>\n",
       "  </tbody>\n",
       "</table>\n",
       "</div>"
      ],
      "text/plain": [
       "                                          common_name  common_lat  \\\n",
       "15  San Francisco Ferry Building (Harry Bridges Pl...   37.795392   \n",
       "30     San Francisco Caltrain (Townsend St at 4th St)   37.776598   \n",
       "67  San Francisco Caltrain Station 2  (Townsend St...   37.776639   \n",
       "6                       The Embarcadero at Sansome St   37.804770   \n",
       "21   Montgomery St BART Station (Market St at 2nd St)   37.789625   \n",
       "58                               Market St at 10th St   37.776619   \n",
       "3        Powell St BART Station (Market St at 4th St)   37.786375   \n",
       "81                                 Berry St at 4th St   37.775880   \n",
       "16                            Steuart St at Market St   37.794130   \n",
       "5        Powell St BART Station (Market St at 5th St)   37.783899   \n",
       "\n",
       "    common_long  journeys_ended  proportion_of_total_journeys  \n",
       "15  -122.394203           50993                      0.026608  \n",
       "30  -122.395282           50806                      0.026510  \n",
       "67  -122.395526           50007                      0.026093  \n",
       "6   -122.403234           47048                      0.024549  \n",
       "21  -122.400811           41185                      0.021490  \n",
       "58  -122.417385           36044                      0.018808  \n",
       "3   -122.404904           35553                      0.018551  \n",
       "81  -122.393170           35543                      0.018546  \n",
       "16  -122.394430           30843                      0.016094  \n",
       "5   -122.408445           28249                      0.014740  "
      ]
     },
     "execution_count": 9,
     "metadata": {},
     "output_type": "execute_result"
    }
   ],
   "source": [
    "top_ending_series = df.groupby('end_station_id').size().sort_values(ascending = False).head(10)\n",
    "top_ending_series = top_ending_series.rename('journeys_ended')\n",
    "\n",
    "ending_points_df = stations_df.merge(top_ending_series, left_index = True, right_index = True)\n",
    "ending_points_df = ending_points_df.sort_values('journeys_ended', ascending = False)\n",
    "\n",
    "ending_points_df['proportion_of_total_journeys'] = ending_points_df['journeys_ended'] / total_journeys\n",
    "\n",
    "ending_points_df"
   ]
  },
  {
   "cell_type": "markdown",
   "metadata": {},
   "source": [
    "From the results above we can see that generally the same stations occur as the most popular starting stations and the most popular ending stations. The top 4 from both lists are the same (although in a different order) and 9 out of the 10 occur in both lists. "
   ]
  },
  {
   "cell_type": "markdown",
   "metadata": {},
   "source": [
    "Next we find the most common journeys taken."
   ]
  },
  {
   "cell_type": "code",
   "execution_count": 10,
   "metadata": {},
   "outputs": [],
   "source": [
    "journeys_groupby_list = ['start_station_id', 'end_station_id']\n",
    "journeys_df = df.groupby(journeys_groupby_list, as_index = False).size().sort_values(by = 'size', ascending = False).head(20)\n"
   ]
  },
  {
   "cell_type": "code",
   "execution_count": 11,
   "metadata": {},
   "outputs": [
    {
     "data": {
      "text/html": [
       "<div>\n",
       "<style scoped>\n",
       "    .dataframe tbody tr th:only-of-type {\n",
       "        vertical-align: middle;\n",
       "    }\n",
       "\n",
       "    .dataframe tbody tr th {\n",
       "        vertical-align: top;\n",
       "    }\n",
       "\n",
       "    .dataframe thead th {\n",
       "        text-align: right;\n",
       "    }\n",
       "</style>\n",
       "<table border=\"1\" class=\"dataframe\">\n",
       "  <thead>\n",
       "    <tr style=\"text-align: right;\">\n",
       "      <th></th>\n",
       "      <th>index</th>\n",
       "      <th>start_station_id</th>\n",
       "      <th>end_station_id</th>\n",
       "      <th>journeys_between</th>\n",
       "      <th>proportion_of_total_journeys</th>\n",
       "      <th>start_station_name</th>\n",
       "      <th>end_station_name</th>\n",
       "    </tr>\n",
       "  </thead>\n",
       "  <tbody>\n",
       "    <tr>\n",
       "      <th>1</th>\n",
       "      <td>1482</td>\n",
       "      <td>15</td>\n",
       "      <td>6</td>\n",
       "      <td>9599</td>\n",
       "      <td>0.005009</td>\n",
       "      <td>San Francisco Ferry Building (Harry Bridges Pl...</td>\n",
       "      <td>The Embarcadero at Sansome St</td>\n",
       "    </tr>\n",
       "    <tr>\n",
       "      <th>2</th>\n",
       "      <td>428</td>\n",
       "      <td>6</td>\n",
       "      <td>16</td>\n",
       "      <td>5516</td>\n",
       "      <td>0.002878</td>\n",
       "      <td>The Embarcadero at Sansome St</td>\n",
       "      <td>Steuart St at Market St</td>\n",
       "    </tr>\n",
       "    <tr>\n",
       "      <th>3</th>\n",
       "      <td>9188</td>\n",
       "      <td>81</td>\n",
       "      <td>15</td>\n",
       "      <td>5237</td>\n",
       "      <td>0.002733</td>\n",
       "      <td>Berry St at 4th St</td>\n",
       "      <td>San Francisco Ferry Building (Harry Bridges Pl...</td>\n",
       "    </tr>\n",
       "    <tr>\n",
       "      <th>4</th>\n",
       "      <td>427</td>\n",
       "      <td>6</td>\n",
       "      <td>15</td>\n",
       "      <td>4729</td>\n",
       "      <td>0.002468</td>\n",
       "      <td>The Embarcadero at Sansome St</td>\n",
       "      <td>San Francisco Ferry Building (Harry Bridges Pl...</td>\n",
       "    </tr>\n",
       "    <tr>\n",
       "      <th>5</th>\n",
       "      <td>19979</td>\n",
       "      <td>182</td>\n",
       "      <td>196</td>\n",
       "      <td>4209</td>\n",
       "      <td>0.002196</td>\n",
       "      <td>19th Street BART Station</td>\n",
       "      <td>Grand Ave at Perkins St</td>\n",
       "    </tr>\n",
       "    <tr>\n",
       "      <th>6</th>\n",
       "      <td>21277</td>\n",
       "      <td>196</td>\n",
       "      <td>182</td>\n",
       "      <td>3991</td>\n",
       "      <td>0.002082</td>\n",
       "      <td>Grand Ave at Perkins St</td>\n",
       "      <td>19th Street BART Station</td>\n",
       "    </tr>\n",
       "    <tr>\n",
       "      <th>7</th>\n",
       "      <td>1544</td>\n",
       "      <td>15</td>\n",
       "      <td>81</td>\n",
       "      <td>3954</td>\n",
       "      <td>0.002063</td>\n",
       "      <td>San Francisco Ferry Building (Harry Bridges Pl...</td>\n",
       "      <td>Berry St at 4th St</td>\n",
       "    </tr>\n",
       "    <tr>\n",
       "      <th>8</th>\n",
       "      <td>1628</td>\n",
       "      <td>16</td>\n",
       "      <td>6</td>\n",
       "      <td>3890</td>\n",
       "      <td>0.002030</td>\n",
       "      <td>Steuart St at Market St</td>\n",
       "      <td>The Embarcadero at Sansome St</td>\n",
       "    </tr>\n",
       "    <tr>\n",
       "      <th>9</th>\n",
       "      <td>21169</td>\n",
       "      <td>195</td>\n",
       "      <td>182</td>\n",
       "      <td>3444</td>\n",
       "      <td>0.001797</td>\n",
       "      <td>Bay Pl at Vernon St</td>\n",
       "      <td>19th Street BART Station</td>\n",
       "    </tr>\n",
       "    <tr>\n",
       "      <th>10</th>\n",
       "      <td>420</td>\n",
       "      <td>6</td>\n",
       "      <td>6</td>\n",
       "      <td>3295</td>\n",
       "      <td>0.001719</td>\n",
       "      <td>The Embarcadero at Sansome St</td>\n",
       "      <td>The Embarcadero at Sansome St</td>\n",
       "    </tr>\n",
       "    <tr>\n",
       "      <th>11</th>\n",
       "      <td>6465</td>\n",
       "      <td>58</td>\n",
       "      <td>67</td>\n",
       "      <td>3210</td>\n",
       "      <td>0.001675</td>\n",
       "      <td>Market St at 10th St</td>\n",
       "      <td>San Francisco Caltrain Station 2  (Townsend St...</td>\n",
       "    </tr>\n",
       "    <tr>\n",
       "      <th>12</th>\n",
       "      <td>5747</td>\n",
       "      <td>50</td>\n",
       "      <td>15</td>\n",
       "      <td>3178</td>\n",
       "      <td>0.001658</td>\n",
       "      <td>2nd St at Townsend St - Coming Soon</td>\n",
       "      <td>San Francisco Ferry Building (Harry Bridges Pl...</td>\n",
       "    </tr>\n",
       "    <tr>\n",
       "      <th>13</th>\n",
       "      <td>10177</td>\n",
       "      <td>90</td>\n",
       "      <td>67</td>\n",
       "      <td>3021</td>\n",
       "      <td>0.001576</td>\n",
       "      <td>Townsend St at 7th St</td>\n",
       "      <td>San Francisco Caltrain Station 2  (Townsend St...</td>\n",
       "    </tr>\n",
       "    <tr>\n",
       "      <th>14</th>\n",
       "      <td>2449</td>\n",
       "      <td>22</td>\n",
       "      <td>30</td>\n",
       "      <td>2905</td>\n",
       "      <td>0.001516</td>\n",
       "      <td>Howard St at Beale St</td>\n",
       "      <td>San Francisco Caltrain (Townsend St at 4th St)</td>\n",
       "    </tr>\n",
       "    <tr>\n",
       "      <th>15</th>\n",
       "      <td>1690</td>\n",
       "      <td>16</td>\n",
       "      <td>81</td>\n",
       "      <td>2874</td>\n",
       "      <td>0.001500</td>\n",
       "      <td>Steuart St at Market St</td>\n",
       "      <td>Berry St at 4th St</td>\n",
       "    </tr>\n",
       "    <tr>\n",
       "      <th>16</th>\n",
       "      <td>1787</td>\n",
       "      <td>17</td>\n",
       "      <td>27</td>\n",
       "      <td>2868</td>\n",
       "      <td>0.001497</td>\n",
       "      <td>Embarcadero BART Station (Beale St at Market St)</td>\n",
       "      <td>Beale St at Harrison St</td>\n",
       "    </tr>\n",
       "    <tr>\n",
       "      <th>17</th>\n",
       "      <td>24993</td>\n",
       "      <td>243</td>\n",
       "      <td>245</td>\n",
       "      <td>2866</td>\n",
       "      <td>0.001495</td>\n",
       "      <td>Bancroft Way at College Ave</td>\n",
       "      <td>Downtown Berkeley BART</td>\n",
       "    </tr>\n",
       "    <tr>\n",
       "      <th>18</th>\n",
       "      <td>6412</td>\n",
       "      <td>58</td>\n",
       "      <td>3</td>\n",
       "      <td>2810</td>\n",
       "      <td>0.001466</td>\n",
       "      <td>Market St at 10th St</td>\n",
       "      <td>Powell St BART Station (Market St at 4th St)</td>\n",
       "    </tr>\n",
       "    <tr>\n",
       "      <th>19</th>\n",
       "      <td>2308</td>\n",
       "      <td>21</td>\n",
       "      <td>30</td>\n",
       "      <td>2765</td>\n",
       "      <td>0.001443</td>\n",
       "      <td>Montgomery St BART Station (Market St at 2nd St)</td>\n",
       "      <td>San Francisco Caltrain (Townsend St at 4th St)</td>\n",
       "    </tr>\n",
       "  </tbody>\n",
       "</table>\n",
       "</div>"
      ],
      "text/plain": [
       "    index  start_station_id  end_station_id  journeys_between  \\\n",
       "1    1482                15               6              9599   \n",
       "2     428                 6              16              5516   \n",
       "3    9188                81              15              5237   \n",
       "4     427                 6              15              4729   \n",
       "5   19979               182             196              4209   \n",
       "6   21277               196             182              3991   \n",
       "7    1544                15              81              3954   \n",
       "8    1628                16               6              3890   \n",
       "9   21169               195             182              3444   \n",
       "10    420                 6               6              3295   \n",
       "11   6465                58              67              3210   \n",
       "12   5747                50              15              3178   \n",
       "13  10177                90              67              3021   \n",
       "14   2449                22              30              2905   \n",
       "15   1690                16              81              2874   \n",
       "16   1787                17              27              2868   \n",
       "17  24993               243             245              2866   \n",
       "18   6412                58               3              2810   \n",
       "19   2308                21              30              2765   \n",
       "\n",
       "    proportion_of_total_journeys  \\\n",
       "1                       0.005009   \n",
       "2                       0.002878   \n",
       "3                       0.002733   \n",
       "4                       0.002468   \n",
       "5                       0.002196   \n",
       "6                       0.002082   \n",
       "7                       0.002063   \n",
       "8                       0.002030   \n",
       "9                       0.001797   \n",
       "10                      0.001719   \n",
       "11                      0.001675   \n",
       "12                      0.001658   \n",
       "13                      0.001576   \n",
       "14                      0.001516   \n",
       "15                      0.001500   \n",
       "16                      0.001497   \n",
       "17                      0.001495   \n",
       "18                      0.001466   \n",
       "19                      0.001443   \n",
       "\n",
       "                                   start_station_name  \\\n",
       "1   San Francisco Ferry Building (Harry Bridges Pl...   \n",
       "2                       The Embarcadero at Sansome St   \n",
       "3                                  Berry St at 4th St   \n",
       "4                       The Embarcadero at Sansome St   \n",
       "5                            19th Street BART Station   \n",
       "6                             Grand Ave at Perkins St   \n",
       "7   San Francisco Ferry Building (Harry Bridges Pl...   \n",
       "8                             Steuart St at Market St   \n",
       "9                                 Bay Pl at Vernon St   \n",
       "10                      The Embarcadero at Sansome St   \n",
       "11                               Market St at 10th St   \n",
       "12                2nd St at Townsend St - Coming Soon   \n",
       "13                              Townsend St at 7th St   \n",
       "14                              Howard St at Beale St   \n",
       "15                            Steuart St at Market St   \n",
       "16   Embarcadero BART Station (Beale St at Market St)   \n",
       "17                        Bancroft Way at College Ave   \n",
       "18                               Market St at 10th St   \n",
       "19   Montgomery St BART Station (Market St at 2nd St)   \n",
       "\n",
       "                                     end_station_name  \n",
       "1                       The Embarcadero at Sansome St  \n",
       "2                             Steuart St at Market St  \n",
       "3   San Francisco Ferry Building (Harry Bridges Pl...  \n",
       "4   San Francisco Ferry Building (Harry Bridges Pl...  \n",
       "5                             Grand Ave at Perkins St  \n",
       "6                            19th Street BART Station  \n",
       "7                                  Berry St at 4th St  \n",
       "8                       The Embarcadero at Sansome St  \n",
       "9                            19th Street BART Station  \n",
       "10                      The Embarcadero at Sansome St  \n",
       "11  San Francisco Caltrain Station 2  (Townsend St...  \n",
       "12  San Francisco Ferry Building (Harry Bridges Pl...  \n",
       "13  San Francisco Caltrain Station 2  (Townsend St...  \n",
       "14     San Francisco Caltrain (Townsend St at 4th St)  \n",
       "15                                 Berry St at 4th St  \n",
       "16                            Beale St at Harrison St  \n",
       "17                             Downtown Berkeley BART  \n",
       "18       Powell St BART Station (Market St at 4th St)  \n",
       "19     San Francisco Caltrain (Townsend St at 4th St)  "
      ]
     },
     "execution_count": 11,
     "metadata": {},
     "output_type": "execute_result"
    }
   ],
   "source": [
    "journeys_df = journeys_df.rename(columns = {'size' : 'journeys_between'})\n",
    "\n",
    "journeys_df['proportion_of_total_journeys'] = journeys_df['journeys_between'] / total_journeys\n",
    "\n",
    "journeys_with_start = journeys_df.reset_index().merge(stations_df, left_on = 'start_station_id', right_index = True)\n",
    "\n",
    "journeys_with_start = journeys_with_start.rename(columns = {'common_name' : 'start_station_name'})\n",
    "\n",
    "journeys = journeys_with_start.merge(stations_df, left_on = 'end_station_id', right_index = True)\n",
    "\n",
    "journeys = journeys.rename(columns = {'common_name' : 'end_station_name'})\n",
    "journeys = journeys.drop(['common_lat_x', 'common_long_x', 'common_lat_y', 'common_long_y'], axis = 1)\n",
    "journeys.sort_values('journeys_between', ascending = False)"
   ]
  },
  {
   "cell_type": "markdown",
   "metadata": {},
   "source": [
    "We can see here that the most popular routes are the routes between the most popular starting and ending points. \n",
    "There are some exceptions to this. These stand out particularly:\n",
    "\n",
    "- 19th Street BART station to Grand Ave at Perkins St and vice versa\n",
    "- Bay Pl at Vernon St to 19th Street BART Stations\n",
    "\n",
    "Further analysis of these routes to see if they are completed more regularly by customers or subscribers would be interesting to complete. This will be looked at further in 7.3."
   ]
  },
  {
   "cell_type": "markdown",
   "metadata": {},
   "source": [
    "#### Requirement 7 - 2. How much time are people spending on bikes?\n",
    "    1. How does duration change between customers and subscribers?\n",
    "    2. Can we distinguish cycles for pleasure from cycles for transport?"
   ]
  },
  {
   "cell_type": "markdown",
   "metadata": {},
   "source": [
    "We will begin comparing the ride duration of customers and subscribers using box plots. \n",
    "The number of outliers here makes the plots difficult to interpret and so these have been removed. \n",
    "The upper-most whisker thus only indicates the value 1.5 iqrs above the upper quartile. "
   ]
  },
  {
   "cell_type": "code",
   "execution_count": 12,
   "metadata": {},
   "outputs": [
    {
     "data": {
      "text/plain": [
       "<seaborn.axisgrid.FacetGrid at 0x16698699be0>"
      ]
     },
     "execution_count": 12,
     "metadata": {},
     "output_type": "execute_result"
    },
    {
     "data": {
      "image/png": "[encoded data removed]",
      "text/plain": [
       "<Figure size 360x360 with 1 Axes>"
      ]
     },
     "metadata": {},
     "output_type": "display_data"
    }
   ],
   "source": [
    "sns.catplot(x = 'duration_sec', y = 'user_type', data = df, kind = 'box', whis = 1.5, sym = '')"
   ]
  },
  {
   "cell_type": "markdown",
   "metadata": {},
   "source": [
    "To give more specific values to this we can look at the descriptions of the ride durations for each group."
   ]
  },
  {
   "cell_type": "code",
   "execution_count": 13,
   "metadata": {},
   "outputs": [
    {
     "data": {
      "text/html": [
       "<div>\n",
       "<style scoped>\n",
       "    .dataframe tbody tr th:only-of-type {\n",
       "        vertical-align: middle;\n",
       "    }\n",
       "\n",
       "    .dataframe tbody tr th {\n",
       "        vertical-align: top;\n",
       "    }\n",
       "\n",
       "    .dataframe thead th {\n",
       "        text-align: right;\n",
       "    }\n",
       "</style>\n",
       "<table border=\"1\" class=\"dataframe\">\n",
       "  <thead>\n",
       "    <tr style=\"text-align: right;\">\n",
       "      <th></th>\n",
       "      <th>count</th>\n",
       "      <th>mean</th>\n",
       "      <th>std</th>\n",
       "      <th>min</th>\n",
       "      <th>25%</th>\n",
       "      <th>50%</th>\n",
       "      <th>75%</th>\n",
       "      <th>max</th>\n",
       "    </tr>\n",
       "  </thead>\n",
       "  <tbody>\n",
       "    <tr>\n",
       "      <th>Customer</th>\n",
       "      <td>332075.0</td>\n",
       "      <td>2179.188171</td>\n",
       "      <td>5644.484614</td>\n",
       "      <td>61.0</td>\n",
       "      <td>613.0</td>\n",
       "      <td>1005.0</td>\n",
       "      <td>1648.0</td>\n",
       "      <td>86369.0</td>\n",
       "    </tr>\n",
       "    <tr>\n",
       "      <th>Subscriber</th>\n",
       "      <td>1584390.0</td>\n",
       "      <td>681.748881</td>\n",
       "      <td>1555.898537</td>\n",
       "      <td>61.0</td>\n",
       "      <td>335.0</td>\n",
       "      <td>519.0</td>\n",
       "      <td>784.0</td>\n",
       "      <td>86281.0</td>\n",
       "    </tr>\n",
       "  </tbody>\n",
       "</table>\n",
       "</div>"
      ],
      "text/plain": [
       "                count         mean          std   min    25%     50%     75%  \\\n",
       "Customer     332075.0  2179.188171  5644.484614  61.0  613.0  1005.0  1648.0   \n",
       "Subscriber  1584390.0   681.748881  1555.898537  61.0  335.0   519.0   784.0   \n",
       "\n",
       "                max  \n",
       "Customer    86369.0  \n",
       "Subscriber  86281.0  "
      ]
     },
     "execution_count": 13,
     "metadata": {},
     "output_type": "execute_result"
    }
   ],
   "source": [
    "pd.DataFrame(group.describe().rename(columns={'duration_sec':name}).squeeze()\n",
    "                         for name, group in df[['user_type', 'duration_sec']].groupby('user_type'))\n",
    "\n"
   ]
  },
  {
   "cell_type": "markdown",
   "metadata": {},
   "source": [
    "It is clear to see that customers' cycle rides last far longer in general than subscribers' rides. \n",
    "The fact that the min and max values are so similar for both suggest that there are limits set on the minimum and maximum time that a bike can be rented for. \n",
    "\n",
    "The simplest takeaway from these results is that subscribers tend to make shorter journeys - more likely for transport rather than for pleasure. Customers on the other hand make longer journeys suggesting that they are using the bikes more often for pleasure. \n",
    "\n",
    "The response to the 2nd question - whether it is possible to distinguish between pleasure rides and rides for purpose is extremely difficult without any labeled data with respect to these categories. \n",
    "Criteria relating to start point, end point, journey duration could prove useful here."
   ]
  },
  {
   "cell_type": "markdown",
   "metadata": {},
   "source": [
    "Instead we will begin by looking at a slighter different question. How do extended rides (those defined as more than 3 times longer than the fastest 1% of rides) differ between subsribers and customers?"
   ]
  },
  {
   "cell_type": "code",
   "execution_count": 14,
   "metadata": {},
   "outputs": [],
   "source": [
    "def percentile(n):\n",
    "    \"\"\"\n",
    "    Takes a percentile and returns a function that returns that percentile of a given set of data\n",
    "    This is used to get round the problem caused by groupby\n",
    "    \n",
    "    Parameters\n",
    "    -----\n",
    "    n : int\n",
    "        the percentile that you want the returned function to find\n",
    "        \n",
    "    Returns\n",
    "    -----\n",
    "    function\n",
    "        a function that finds the given percentile\"\"\"\n",
    "    def percentile_(x):\n",
    "        return np.percentile(x, n)\n",
    "    return percentile_"
   ]
  },
  {
   "cell_type": "code",
   "execution_count": 15,
   "metadata": {},
   "outputs": [],
   "source": [
    "df['quick_time_for_route'] = df.groupby(['start_station_id', 'end_station_id'])['duration_sec'].transform(percentile(1))\n",
    "df['extended_ride'] = df['duration_sec'] > 3*df['quick_time_for_route']"
   ]
  },
  {
   "cell_type": "markdown",
   "metadata": {},
   "source": [
    "This has allowed us to have a clear column for extended rides without having to go via grouped tables. \n",
    "Now we can look at how these extended rides differ between customers to subsrcibers."
   ]
  },
  {
   "cell_type": "code",
   "execution_count": 16,
   "metadata": {},
   "outputs": [
    {
     "name": "stdout",
     "output_type": "stream",
     "text": [
      "The total percentage of extended rides: 0.10748800525968384\n",
      "\n",
      "Percentage of extended rides by user type: \n",
      "\n",
      "  user_type\n",
      "Customer      0.354013\n",
      "Subscriber    0.055818\n",
      "Name: extended_ride, dtype: float64\n"
     ]
    }
   ],
   "source": [
    "print('The total percentage of extended rides:', np.mean(df['extended_ride']))\n",
    "\n",
    "print('\\nPercentage of extended rides by user type: \\n\\n ', df.groupby('user_type')['extended_ride'].agg(np.mean))"
   ]
  },
  {
   "cell_type": "markdown",
   "metadata": {},
   "source": [
    "So there is a clear distinction between the percentage of subscribers taking extended rides and the percentage of customers taking them. In fact if we add the idea of a slightly_extended ride (one that is more than twice as long as a quick ride then we got an even greater distinction between subscribers and customers."
   ]
  },
  {
   "cell_type": "code",
   "execution_count": 17,
   "metadata": {},
   "outputs": [
    {
     "data": {
      "text/plain": [
       "user_type\n",
       "Customer      0.555742\n",
       "Subscriber    0.151764\n",
       "Name: slightly_extended_ride, dtype: float64"
      ]
     },
     "execution_count": 17,
     "metadata": {},
     "output_type": "execute_result"
    }
   ],
   "source": [
    "df['slightly_extended_ride'] = df['duration_sec'] > 2*df['quick_time_for_route']\n",
    "df.groupby('user_type')['slightly_extended_ride'].agg(np.mean)"
   ]
  },
  {
   "cell_type": "markdown",
   "metadata": {},
   "source": [
    "This shows us that 55% of customer rides fit the definition of slightly extended whilst only 15% of subscriber rides do. "
   ]
  },
  {
   "cell_type": "markdown",
   "metadata": {},
   "source": [
    "It would also be interesting to look at this with respect to starting time of rides and day of the week.\n",
    "To do this we will add columns to the df telling us whethter the ride took place on a weekday and whether the ride took place during rush hours (7 - 10 am, 16 - 19 pm). "
   ]
  },
  {
   "cell_type": "code",
   "execution_count": 18,
   "metadata": {},
   "outputs": [],
   "source": [
    "df['weekday'] = df['start_time'].dt.weekday\n",
    "\n",
    "def rush_hour_time(x):\n",
    "    \"\"\"\n",
    "    This function decides whether or not a time is within rush hours.\n",
    "    \"\"\"\n",
    "    return (x.dt.hour).between(7, 10) | (x.dt.hour).between(16, 19)\n",
    "\n",
    "df['rush_hour'] = df['weekday'].between(0,5) & rush_hour_time(df['start_time'])"
   ]
  },
  {
   "cell_type": "code",
   "execution_count": 19,
   "metadata": {},
   "outputs": [
    {
     "data": {
      "text/plain": [
       "weekday\n",
       "0    0.084629\n",
       "1    0.072698\n",
       "2    0.075114\n",
       "3    0.079519\n",
       "4    0.098729\n",
       "5    0.221008\n",
       "6    0.226335\n",
       "Name: extended_ride, dtype: float64"
      ]
     },
     "execution_count": 19,
     "metadata": {},
     "output_type": "execute_result"
    }
   ],
   "source": [
    "df.groupby('weekday')['extended_ride'].agg(np.mean)"
   ]
  },
  {
   "cell_type": "markdown",
   "metadata": {},
   "source": [
    "Here we see a clear distinction between the number of slower rides taking place on the weekends compared to those on the weekdays. The expectation with traffic on roads is that it would decrease at the weekend (maybe this is incorrect) but this does suggest a more leisurely approach to cycling on the weekends. "
   ]
  },
  {
   "cell_type": "code",
   "execution_count": 20,
   "metadata": {},
   "outputs": [
    {
     "data": {
      "text/plain": [
       "weekday\n",
       "0    0.185248\n",
       "1    0.171849\n",
       "2    0.174767\n",
       "3    0.183107\n",
       "4    0.210152\n",
       "5    0.390340\n",
       "6    0.388974\n",
       "Name: slightly_extended_ride, dtype: float64"
      ]
     },
     "execution_count": 20,
     "metadata": {},
     "output_type": "execute_result"
    }
   ],
   "source": [
    "df.groupby('weekday')['slightly_extended_ride'].agg(np.mean)"
   ]
  },
  {
   "cell_type": "markdown",
   "metadata": {},
   "source": [
    "Again, when looking at slightly extended rides the difference is still apparent with almost 40% of rides on weekends being slightly extended and only around 20% on average on weekdays."
   ]
  },
  {
   "cell_type": "markdown",
   "metadata": {},
   "source": [
    "We can complete a simlar analysis on rides that take place in and out of rush hour times."
   ]
  },
  {
   "cell_type": "code",
   "execution_count": 21,
   "metadata": {},
   "outputs": [
    {
     "data": {
      "text/plain": [
       "rush_hour\n",
       "False    0.170380\n",
       "True     0.066116\n",
       "Name: extended_ride, dtype: float64"
      ]
     },
     "execution_count": 21,
     "metadata": {},
     "output_type": "execute_result"
    }
   ],
   "source": [
    "df.groupby('rush_hour')['extended_ride'].agg(np.mean)"
   ]
  },
  {
   "cell_type": "markdown",
   "metadata": {},
   "source": [
    "Here we see that 17% of rides that begin outside of rush hours are extended compared to only 7% in rush hours."
   ]
  },
  {
   "cell_type": "code",
   "execution_count": 22,
   "metadata": {},
   "outputs": [
    {
     "data": {
      "text/plain": [
       "rush_hour\n",
       "False    0.308725\n",
       "True     0.164557\n",
       "Name: slightly_extended_ride, dtype: float64"
      ]
     },
     "execution_count": 22,
     "metadata": {},
     "output_type": "execute_result"
    }
   ],
   "source": [
    "df.groupby('rush_hour')['slightly_extended_ride'].agg(np.mean)"
   ]
  },
  {
   "cell_type": "markdown",
   "metadata": {},
   "source": [
    "Similarly 31% of rides outside of rush hours are slightly extended whereas only 16% of rush hour rides are.\n",
    "\n",
    "From this analysis we can see that fewer rides around the time of rush hour tend to be extended. \n",
    "\n",
    "\n",
    "Looking at these with respect to customers and subscribers would be interesting as well."
   ]
  },
  {
   "cell_type": "code",
   "execution_count": 23,
   "metadata": {},
   "outputs": [
    {
     "data": {
      "text/html": [
       "<div>\n",
       "<style scoped>\n",
       "    .dataframe tbody tr th:only-of-type {\n",
       "        vertical-align: middle;\n",
       "    }\n",
       "\n",
       "    .dataframe tbody tr th {\n",
       "        vertical-align: top;\n",
       "    }\n",
       "\n",
       "    .dataframe thead th {\n",
       "        text-align: right;\n",
       "    }\n",
       "</style>\n",
       "<table border=\"1\" class=\"dataframe\">\n",
       "  <thead>\n",
       "    <tr style=\"text-align: right;\">\n",
       "      <th>user_type</th>\n",
       "      <th>Customer</th>\n",
       "      <th>Subscriber</th>\n",
       "    </tr>\n",
       "    <tr>\n",
       "      <th>rush_hour</th>\n",
       "      <th></th>\n",
       "      <th></th>\n",
       "    </tr>\n",
       "  </thead>\n",
       "  <tbody>\n",
       "    <tr>\n",
       "      <th>False</th>\n",
       "      <td>0.422738</td>\n",
       "      <td>0.087975</td>\n",
       "    </tr>\n",
       "    <tr>\n",
       "      <th>True</th>\n",
       "      <td>0.265218</td>\n",
       "      <td>0.037587</td>\n",
       "    </tr>\n",
       "  </tbody>\n",
       "</table>\n",
       "</div>"
      ],
      "text/plain": [
       "user_type  Customer  Subscriber\n",
       "rush_hour                      \n",
       "False      0.422738    0.087975\n",
       "True       0.265218    0.037587"
      ]
     },
     "execution_count": 23,
     "metadata": {},
     "output_type": "execute_result"
    }
   ],
   "source": [
    "df.pivot_table(values = 'extended_ride', columns = 'user_type', index = 'rush_hour', aggfunc = np.mean)"
   ]
  },
  {
   "cell_type": "code",
   "execution_count": 24,
   "metadata": {},
   "outputs": [
    {
     "data": {
      "text/html": [
       "<div>\n",
       "<style scoped>\n",
       "    .dataframe tbody tr th:only-of-type {\n",
       "        vertical-align: middle;\n",
       "    }\n",
       "\n",
       "    .dataframe tbody tr th {\n",
       "        vertical-align: top;\n",
       "    }\n",
       "\n",
       "    .dataframe thead th {\n",
       "        text-align: right;\n",
       "    }\n",
       "</style>\n",
       "<table border=\"1\" class=\"dataframe\">\n",
       "  <thead>\n",
       "    <tr style=\"text-align: right;\">\n",
       "      <th>user_type</th>\n",
       "      <th>Customer</th>\n",
       "      <th>Subscriber</th>\n",
       "    </tr>\n",
       "    <tr>\n",
       "      <th>weekday</th>\n",
       "      <th></th>\n",
       "      <th></th>\n",
       "    </tr>\n",
       "  </thead>\n",
       "  <tbody>\n",
       "    <tr>\n",
       "      <th>0</th>\n",
       "      <td>0.324513</td>\n",
       "      <td>0.048175</td>\n",
       "    </tr>\n",
       "    <tr>\n",
       "      <th>1</th>\n",
       "      <td>0.282350</td>\n",
       "      <td>0.044271</td>\n",
       "    </tr>\n",
       "    <tr>\n",
       "      <th>2</th>\n",
       "      <td>0.280259</td>\n",
       "      <td>0.045768</td>\n",
       "    </tr>\n",
       "    <tr>\n",
       "      <th>3</th>\n",
       "      <td>0.286769</td>\n",
       "      <td>0.047377</td>\n",
       "    </tr>\n",
       "    <tr>\n",
       "      <th>4</th>\n",
       "      <td>0.331803</td>\n",
       "      <td>0.053717</td>\n",
       "    </tr>\n",
       "    <tr>\n",
       "      <th>5</th>\n",
       "      <td>0.438929</td>\n",
       "      <td>0.102170</td>\n",
       "    </tr>\n",
       "    <tr>\n",
       "      <th>6</th>\n",
       "      <td>0.449673</td>\n",
       "      <td>0.107495</td>\n",
       "    </tr>\n",
       "  </tbody>\n",
       "</table>\n",
       "</div>"
      ],
      "text/plain": [
       "user_type  Customer  Subscriber\n",
       "weekday                        \n",
       "0          0.324513    0.048175\n",
       "1          0.282350    0.044271\n",
       "2          0.280259    0.045768\n",
       "3          0.286769    0.047377\n",
       "4          0.331803    0.053717\n",
       "5          0.438929    0.102170\n",
       "6          0.449673    0.107495"
      ]
     },
     "execution_count": 24,
     "metadata": {},
     "output_type": "execute_result"
    }
   ],
   "source": [
    "df.pivot_table(values = 'extended_ride', columns = 'user_type', index = 'weekday', aggfunc = np.mean)"
   ]
  },
  {
   "cell_type": "markdown",
   "metadata": {},
   "source": [
    "These tables reveal clear distinctions in the way that Customers and Subscribers use their rides. Customers are much more likely to be using the cycles for extended rides than subscribers, irrespective of whether or not the bike is hired during rush hour, and of whether or not the bike is hired during the weekend. "
   ]
  },
  {
   "cell_type": "markdown",
   "metadata": {},
   "source": [
    "Finally, I would like to look at extended rides by route, to see if there are any stations that have a particularly high frequency of extended routes. "
   ]
  },
  {
   "cell_type": "code",
   "execution_count": 25,
   "metadata": {},
   "outputs": [],
   "source": [
    "extended_ride_by_route = df.groupby(['start_station_id', 'end_station_id'])[['slightly_extended_ride', 'extended_ride']].mean().reset_index()"
   ]
  },
  {
   "cell_type": "markdown",
   "metadata": {},
   "source": [
    "I will now look at these rates in relation to the most popular routes that are taken. "
   ]
  },
  {
   "cell_type": "code",
   "execution_count": 26,
   "metadata": {},
   "outputs": [
    {
     "data": {
      "text/html": [
       "<div>\n",
       "<style scoped>\n",
       "    .dataframe tbody tr th:only-of-type {\n",
       "        vertical-align: middle;\n",
       "    }\n",
       "\n",
       "    .dataframe tbody tr th {\n",
       "        vertical-align: top;\n",
       "    }\n",
       "\n",
       "    .dataframe thead th {\n",
       "        text-align: right;\n",
       "    }\n",
       "</style>\n",
       "<table border=\"1\" class=\"dataframe\">\n",
       "  <thead>\n",
       "    <tr style=\"text-align: right;\">\n",
       "      <th></th>\n",
       "      <th>index</th>\n",
       "      <th>start_station_id</th>\n",
       "      <th>end_station_id</th>\n",
       "      <th>journeys_between</th>\n",
       "      <th>proportion_of_total_journeys</th>\n",
       "      <th>slightly_extended_ride</th>\n",
       "      <th>extended_ride</th>\n",
       "    </tr>\n",
       "  </thead>\n",
       "  <tbody>\n",
       "    <tr>\n",
       "      <th>1</th>\n",
       "      <td>1482</td>\n",
       "      <td>15</td>\n",
       "      <td>6</td>\n",
       "      <td>9599</td>\n",
       "      <td>0.005009</td>\n",
       "      <td>0.495989</td>\n",
       "      <td>0.379935</td>\n",
       "    </tr>\n",
       "    <tr>\n",
       "      <th>4</th>\n",
       "      <td>427</td>\n",
       "      <td>6</td>\n",
       "      <td>15</td>\n",
       "      <td>4729</td>\n",
       "      <td>0.002468</td>\n",
       "      <td>0.425248</td>\n",
       "      <td>0.197082</td>\n",
       "    </tr>\n",
       "    <tr>\n",
       "      <th>8</th>\n",
       "      <td>1628</td>\n",
       "      <td>16</td>\n",
       "      <td>6</td>\n",
       "      <td>3890</td>\n",
       "      <td>0.002030</td>\n",
       "      <td>0.271722</td>\n",
       "      <td>0.142674</td>\n",
       "    </tr>\n",
       "    <tr>\n",
       "      <th>17</th>\n",
       "      <td>24993</td>\n",
       "      <td>243</td>\n",
       "      <td>245</td>\n",
       "      <td>2866</td>\n",
       "      <td>0.001495</td>\n",
       "      <td>0.290300</td>\n",
       "      <td>0.077111</td>\n",
       "    </tr>\n",
       "    <tr>\n",
       "      <th>12</th>\n",
       "      <td>5747</td>\n",
       "      <td>50</td>\n",
       "      <td>15</td>\n",
       "      <td>3178</td>\n",
       "      <td>0.001658</td>\n",
       "      <td>0.158905</td>\n",
       "      <td>0.068282</td>\n",
       "    </tr>\n",
       "  </tbody>\n",
       "</table>\n",
       "</div>"
      ],
      "text/plain": [
       "    index  start_station_id  end_station_id  journeys_between  \\\n",
       "1    1482                15               6              9599   \n",
       "4     427                 6              15              4729   \n",
       "8    1628                16               6              3890   \n",
       "17  24993               243             245              2866   \n",
       "12   5747                50              15              3178   \n",
       "\n",
       "    proportion_of_total_journeys  slightly_extended_ride  extended_ride  \n",
       "1                       0.005009                0.495989       0.379935  \n",
       "4                       0.002468                0.425248       0.197082  \n",
       "8                       0.002030                0.271722       0.142674  \n",
       "17                      0.001495                0.290300       0.077111  \n",
       "12                      0.001658                0.158905       0.068282  "
      ]
     },
     "execution_count": 26,
     "metadata": {},
     "output_type": "execute_result"
    }
   ],
   "source": [
    "journeys_df = journeys_df.reset_index()\n",
    "extended_journeys = journeys_df.merge(extended_ride_by_route, on = ['start_station_id', 'end_station_id'])\n",
    "\n",
    "# we want to remove cases in which bikes are rented and returned to the same station as a high proportion of these rides will be extended\n",
    "# due to the fact that they are clearly not being used for transport\n",
    "extended_journeys_different_stations = extended_journeys[extended_journeys['start_station_id'] != extended_journeys['end_station_id']]\n",
    "extended_journeys_different_stations.sort_values('extended_ride', ascending = False).head()"
   ]
  },
  {
   "cell_type": "markdown",
   "metadata": {},
   "source": [
    "This table presents the routes ordered by the proportion of rides that are on that route that are extended.\n",
    "We can see a lot of the same routes that we saw as being the most popular in our earlier analysis are also occuring as the most likely to be completed in an extended time.\n",
    "\n",
    "The proportion of extended rides clearly changes from route to route, between user_type and depending on the day and time. \n",
    "\n",
    "If we were  given a sample of labeled data than we could try to develop this analysis further in an attempt to distinguish between those using the bicycles as a leisure pursuit and those using them strictly for transport. My undestanding of unsupervised machine learning is not developed enough to say whether such methods could identify groups of rides that would roughtly correspond to leisure rides and transport rides but I feel that the answer is no."
   ]
  },
  {
   "cell_type": "markdown",
   "metadata": {},
   "source": [
    "#### Requirement 7.3 - How are the rides of customers different to those of subscribers?\n",
    "\n",
    "1. Are there more common starting/ending locations for customers vs subscribers?\n",
    "2. Do customers tend to start their rides at a different time than subscribers?\n",
    "3. How do 'bike_share_for_all' rides differ from others?"
   ]
  },
  {
   "cell_type": "markdown",
   "metadata": {},
   "source": [
    "We have already seen partial answers to these questions above. However we will try to address them more fully here.\n",
    "\n",
    "The first step is to create a table with the percentage of total journeys that each route represents for customers and subscribers. "
   ]
  },
  {
   "cell_type": "code",
   "execution_count": 27,
   "metadata": {},
   "outputs": [],
   "source": [
    "df_customers = df[df['user_type'] == 'Customer'].copy()\n",
    "df_subscribers = df[df['user_type'] == 'Subscriber'].copy()"
   ]
  },
  {
   "cell_type": "code",
   "execution_count": 28,
   "metadata": {},
   "outputs": [],
   "source": [
    "customer_rides = len(df_customers)\n",
    "def prop_customer_rides(x):\n",
    "    \"\"\"\n",
    "    This function will be used as part of a groupby method to give the proportion of rides\n",
    "    made up by each route\n",
    "    \"\"\"\n",
    "    return len(x) / customer_rides"
   ]
  },
  {
   "cell_type": "code",
   "execution_count": 29,
   "metadata": {},
   "outputs": [],
   "source": [
    "# this uses the function defined above to find the percentage of customer journeys that each route makes up\n",
    "customer_routes = df_customers.groupby(['start_station_id', 'end_station_id'], as_index = False).agg({'duration_sec' : prop_customer_rides}).sort_values('duration_sec', ascending = False)\n",
    "\n",
    "# this just renames columns to a more relatable name\n",
    "customer_routes = customer_routes.rename(columns = {'duration_sec' : 'percentage_of_journeys'})\n",
    "\n",
    "# we can then find the popularity rank of each route\n",
    "customer_routes['customer_popularity_rank'] = customer_routes['percentage_of_journeys'].rank(ascending = False)"
   ]
  },
  {
   "cell_type": "markdown",
   "metadata": {},
   "source": [
    "This is the same process for subscribers. "
   ]
  },
  {
   "cell_type": "code",
   "execution_count": 30,
   "metadata": {},
   "outputs": [],
   "source": [
    "subscriber_rides = len(df_subscribers)\n",
    "def prop_subscriber_rides(x):\n",
    "    return len(x) / subscriber_rides\n",
    "\n",
    "subscriber_routes = df_subscribers.groupby(['start_station_id', 'end_station_id'], as_index = False).agg({'duration_sec' : prop_subscriber_rides}).sort_values('duration_sec', ascending = False)\n",
    "\n",
    "subscriber_routes = subscriber_routes.rename(columns = {'duration_sec' : 'percentage_of_journeys_for_subscribers'})\n",
    "subscriber_routes['subscriber_popularity_rank'] = subscriber_routes['percentage_of_journeys_for_subscribers'].rank(ascending = False)"
   ]
  },
  {
   "cell_type": "markdown",
   "metadata": {},
   "source": [
    "We can then compare these two rankings to compare the popularity of different routes for customers and subscribers."
   ]
  },
  {
   "cell_type": "code",
   "execution_count": 31,
   "metadata": {},
   "outputs": [
    {
     "data": {
      "text/html": [
       "<div>\n",
       "<style scoped>\n",
       "    .dataframe tbody tr th:only-of-type {\n",
       "        vertical-align: middle;\n",
       "    }\n",
       "\n",
       "    .dataframe tbody tr th {\n",
       "        vertical-align: top;\n",
       "    }\n",
       "\n",
       "    .dataframe thead th {\n",
       "        text-align: right;\n",
       "    }\n",
       "</style>\n",
       "<table border=\"1\" class=\"dataframe\">\n",
       "  <thead>\n",
       "    <tr style=\"text-align: right;\">\n",
       "      <th></th>\n",
       "      <th>start_station_id</th>\n",
       "      <th>end_station_id</th>\n",
       "      <th>percentage_of_journeys_for_subscribers</th>\n",
       "      <th>subscriber_popularity_rank</th>\n",
       "      <th>percentage_of_journeys</th>\n",
       "      <th>customer_popularity_rank</th>\n",
       "    </tr>\n",
       "  </thead>\n",
       "  <tbody>\n",
       "    <tr>\n",
       "      <th>1</th>\n",
       "      <td>15</td>\n",
       "      <td>6</td>\n",
       "      <td>0.003216</td>\n",
       "      <td>2.0</td>\n",
       "      <td>0.013560</td>\n",
       "      <td>1.0</td>\n",
       "    </tr>\n",
       "    <tr>\n",
       "      <th>343</th>\n",
       "      <td>6</td>\n",
       "      <td>6</td>\n",
       "      <td>0.000362</td>\n",
       "      <td>345.0</td>\n",
       "      <td>0.008194</td>\n",
       "      <td>2.0</td>\n",
       "    </tr>\n",
       "    <tr>\n",
       "      <th>0</th>\n",
       "      <td>0</td>\n",
       "      <td>0</td>\n",
       "      <td>0.004469</td>\n",
       "      <td>1.0</td>\n",
       "      <td>0.008004</td>\n",
       "      <td>3.0</td>\n",
       "    </tr>\n",
       "    <tr>\n",
       "      <th>822</th>\n",
       "      <td>15</td>\n",
       "      <td>15</td>\n",
       "      <td>0.000201</td>\n",
       "      <td>830.0</td>\n",
       "      <td>0.005420</td>\n",
       "      <td>4.0</td>\n",
       "    </tr>\n",
       "    <tr>\n",
       "      <th>10</th>\n",
       "      <td>6</td>\n",
       "      <td>15</td>\n",
       "      <td>0.001875</td>\n",
       "      <td>11.0</td>\n",
       "      <td>0.005297</td>\n",
       "      <td>5.0</td>\n",
       "    </tr>\n",
       "    <tr>\n",
       "      <th>458</th>\n",
       "      <td>70</td>\n",
       "      <td>70</td>\n",
       "      <td>0.000299</td>\n",
       "      <td>462.0</td>\n",
       "      <td>0.005234</td>\n",
       "      <td>6.0</td>\n",
       "    </tr>\n",
       "    <tr>\n",
       "      <th>942</th>\n",
       "      <td>8</td>\n",
       "      <td>6</td>\n",
       "      <td>0.000186</td>\n",
       "      <td>947.0</td>\n",
       "      <td>0.004848</td>\n",
       "      <td>7.0</td>\n",
       "    </tr>\n",
       "    <tr>\n",
       "      <th>1180</th>\n",
       "      <td>197</td>\n",
       "      <td>197</td>\n",
       "      <td>0.000156</td>\n",
       "      <td>1181.5</td>\n",
       "      <td>0.003578</td>\n",
       "      <td>8.0</td>\n",
       "    </tr>\n",
       "    <tr>\n",
       "      <th>817</th>\n",
       "      <td>3</td>\n",
       "      <td>6</td>\n",
       "      <td>0.000203</td>\n",
       "      <td>818.5</td>\n",
       "      <td>0.003063</td>\n",
       "      <td>9.0</td>\n",
       "    </tr>\n",
       "    <tr>\n",
       "      <th>208</th>\n",
       "      <td>15</td>\n",
       "      <td>8</td>\n",
       "      <td>0.000495</td>\n",
       "      <td>209.0</td>\n",
       "      <td>0.002816</td>\n",
       "      <td>10.0</td>\n",
       "    </tr>\n",
       "  </tbody>\n",
       "</table>\n",
       "</div>"
      ],
      "text/plain": [
       "      start_station_id  end_station_id  \\\n",
       "1                   15               6   \n",
       "343                  6               6   \n",
       "0                    0               0   \n",
       "822                 15              15   \n",
       "10                   6              15   \n",
       "458                 70              70   \n",
       "942                  8               6   \n",
       "1180               197             197   \n",
       "817                  3               6   \n",
       "208                 15               8   \n",
       "\n",
       "      percentage_of_journeys_for_subscribers  subscriber_popularity_rank  \\\n",
       "1                                   0.003216                         2.0   \n",
       "343                                 0.000362                       345.0   \n",
       "0                                   0.004469                         1.0   \n",
       "822                                 0.000201                       830.0   \n",
       "10                                  0.001875                        11.0   \n",
       "458                                 0.000299                       462.0   \n",
       "942                                 0.000186                       947.0   \n",
       "1180                                0.000156                      1181.5   \n",
       "817                                 0.000203                       818.5   \n",
       "208                                 0.000495                       209.0   \n",
       "\n",
       "      percentage_of_journeys  customer_popularity_rank  \n",
       "1                   0.013560                       1.0  \n",
       "343                 0.008194                       2.0  \n",
       "0                   0.008004                       3.0  \n",
       "822                 0.005420                       4.0  \n",
       "10                  0.005297                       5.0  \n",
       "458                 0.005234                       6.0  \n",
       "942                 0.004848                       7.0  \n",
       "1180                0.003578                       8.0  \n",
       "817                 0.003063                       9.0  \n",
       "208                 0.002816                      10.0  "
      ]
     },
     "metadata": {},
     "output_type": "display_data"
    },
    {
     "data": {
      "text/html": [
       "<div>\n",
       "<style scoped>\n",
       "    .dataframe tbody tr th:only-of-type {\n",
       "        vertical-align: middle;\n",
       "    }\n",
       "\n",
       "    .dataframe tbody tr th {\n",
       "        vertical-align: top;\n",
       "    }\n",
       "\n",
       "    .dataframe thead th {\n",
       "        text-align: right;\n",
       "    }\n",
       "</style>\n",
       "<table border=\"1\" class=\"dataframe\">\n",
       "  <thead>\n",
       "    <tr style=\"text-align: right;\">\n",
       "      <th></th>\n",
       "      <th>start_station_id</th>\n",
       "      <th>end_station_id</th>\n",
       "      <th>percentage_of_journeys_for_subscribers</th>\n",
       "      <th>subscriber_popularity_rank</th>\n",
       "      <th>percentage_of_journeys</th>\n",
       "      <th>customer_popularity_rank</th>\n",
       "    </tr>\n",
       "  </thead>\n",
       "  <tbody>\n",
       "    <tr>\n",
       "      <th>0</th>\n",
       "      <td>0</td>\n",
       "      <td>0</td>\n",
       "      <td>0.004469</td>\n",
       "      <td>1.0</td>\n",
       "      <td>0.008004</td>\n",
       "      <td>3.0</td>\n",
       "    </tr>\n",
       "    <tr>\n",
       "      <th>1</th>\n",
       "      <td>15</td>\n",
       "      <td>6</td>\n",
       "      <td>0.003216</td>\n",
       "      <td>2.0</td>\n",
       "      <td>0.013560</td>\n",
       "      <td>1.0</td>\n",
       "    </tr>\n",
       "    <tr>\n",
       "      <th>2</th>\n",
       "      <td>6</td>\n",
       "      <td>16</td>\n",
       "      <td>0.003155</td>\n",
       "      <td>3.0</td>\n",
       "      <td>0.001560</td>\n",
       "      <td>24.0</td>\n",
       "    </tr>\n",
       "    <tr>\n",
       "      <th>3</th>\n",
       "      <td>81</td>\n",
       "      <td>15</td>\n",
       "      <td>0.002941</td>\n",
       "      <td>4.0</td>\n",
       "      <td>0.001738</td>\n",
       "      <td>22.0</td>\n",
       "    </tr>\n",
       "    <tr>\n",
       "      <th>4</th>\n",
       "      <td>182</td>\n",
       "      <td>196</td>\n",
       "      <td>0.002377</td>\n",
       "      <td>5.0</td>\n",
       "      <td>0.001334</td>\n",
       "      <td>31.0</td>\n",
       "    </tr>\n",
       "    <tr>\n",
       "      <th>5</th>\n",
       "      <td>196</td>\n",
       "      <td>182</td>\n",
       "      <td>0.002337</td>\n",
       "      <td>6.0</td>\n",
       "      <td>0.000867</td>\n",
       "      <td>72.0</td>\n",
       "    </tr>\n",
       "    <tr>\n",
       "      <th>6</th>\n",
       "      <td>15</td>\n",
       "      <td>81</td>\n",
       "      <td>0.002221</td>\n",
       "      <td>7.0</td>\n",
       "      <td>0.001310</td>\n",
       "      <td>33.5</td>\n",
       "    </tr>\n",
       "    <tr>\n",
       "      <th>7</th>\n",
       "      <td>195</td>\n",
       "      <td>182</td>\n",
       "      <td>0.002109</td>\n",
       "      <td>8.0</td>\n",
       "      <td>0.000307</td>\n",
       "      <td>377.0</td>\n",
       "    </tr>\n",
       "    <tr>\n",
       "      <th>8</th>\n",
       "      <td>16</td>\n",
       "      <td>6</td>\n",
       "      <td>0.002050</td>\n",
       "      <td>9.0</td>\n",
       "      <td>0.001933</td>\n",
       "      <td>16.0</td>\n",
       "    </tr>\n",
       "    <tr>\n",
       "      <th>9</th>\n",
       "      <td>58</td>\n",
       "      <td>67</td>\n",
       "      <td>0.001883</td>\n",
       "      <td>10.0</td>\n",
       "      <td>0.000684</td>\n",
       "      <td>101.5</td>\n",
       "    </tr>\n",
       "  </tbody>\n",
       "</table>\n",
       "</div>"
      ],
      "text/plain": [
       "   start_station_id  end_station_id  percentage_of_journeys_for_subscribers  \\\n",
       "0                 0               0                                0.004469   \n",
       "1                15               6                                0.003216   \n",
       "2                 6              16                                0.003155   \n",
       "3                81              15                                0.002941   \n",
       "4               182             196                                0.002377   \n",
       "5               196             182                                0.002337   \n",
       "6                15              81                                0.002221   \n",
       "7               195             182                                0.002109   \n",
       "8                16               6                                0.002050   \n",
       "9                58              67                                0.001883   \n",
       "\n",
       "   subscriber_popularity_rank  percentage_of_journeys  \\\n",
       "0                         1.0                0.008004   \n",
       "1                         2.0                0.013560   \n",
       "2                         3.0                0.001560   \n",
       "3                         4.0                0.001738   \n",
       "4                         5.0                0.001334   \n",
       "5                         6.0                0.000867   \n",
       "6                         7.0                0.001310   \n",
       "7                         8.0                0.000307   \n",
       "8                         9.0                0.001933   \n",
       "9                        10.0                0.000684   \n",
       "\n",
       "   customer_popularity_rank  \n",
       "0                       3.0  \n",
       "1                       1.0  \n",
       "2                      24.0  \n",
       "3                      22.0  \n",
       "4                      31.0  \n",
       "5                      72.0  \n",
       "6                      33.5  \n",
       "7                     377.0  \n",
       "8                      16.0  \n",
       "9                     101.5  "
      ]
     },
     "metadata": {},
     "output_type": "display_data"
    }
   ],
   "source": [
    "routes_popularity = subscriber_routes.merge(customer_routes, on = ['start_station_id', 'end_station_id'])\n",
    "display(routes_popularity.sort_values('customer_popularity_rank', ascending = True).head(10))\n",
    "\n",
    "display(routes_popularity.sort_values('subscriber_popularity_rank', ascending = True).head(10))"
   ]
  },
  {
   "cell_type": "markdown",
   "metadata": {},
   "source": [
    "This table highlights the differing popularity of routes for subscribers vs customers. \n",
    "The most striking result is the difference in popularity of returning a bike to the same station as it began. \n",
    "Moreover we can see that some routes that are popular within one group are far less popular with another. \n",
    "The journey from statoin 8 to station 6 is the 3rd most popular non-circular route with customers but is the 947th most popular with subscribers. \n",
    "On the other hand the journey from 195 to 182 is the 8th most popular for subscribers but the 377th most popular for customers. \n",
    "\n",
    "It would be interesting to analyse the extent to which the routes for subscribers map onto commuter routes but this goes beyond the scope of the investigation. "
   ]
  },
  {
   "cell_type": "markdown",
   "metadata": {},
   "source": [
    "Moving onto the second question, we can look at the starting time of the routes by adding a new column for starting hour. \n",
    "We will separate this for weekdays and weekends as the usage has been shown to be significantly different within these different times."
   ]
  },
  {
   "cell_type": "code",
   "execution_count": 32,
   "metadata": {},
   "outputs": [],
   "source": [
    "df['start_hour'] = df['start_time'].dt.hour\n",
    "df['weekend'] = ~df['weekday'].between(0,5)\n",
    "df['time_in_day'] = df['start_time'].dt.hour + df['start_time'].dt.minute / 60.0\n"
   ]
  },
  {
   "cell_type": "markdown",
   "metadata": {},
   "source": [
    "We can then look at how the number of rides that start in each hour change between customers and subscribers and whether or not the day is on a weekend."
   ]
  },
  {
   "cell_type": "code",
   "execution_count": 33,
   "metadata": {},
   "outputs": [
    {
     "data": {
      "image/png": "[encoded data removed]",
      "text/plain": [
       "<Figure size 576x576 with 4 Axes>"
      ]
     },
     "metadata": {},
     "output_type": "display_data"
    }
   ],
   "source": [
    "fig_rides_by_time, ax_rides_by_time = plt.subplots(nrows = 2, ncols = 2, figsize = (8, 8), tight_layout = True)\n",
    "\n",
    "user_types = ['Subscriber', 'Customer']\n",
    "truth = [True, False ]\n",
    "\n",
    "\n",
    "for i in [0, 1]:\n",
    "    for j in [0, 1]:\n",
    "        sns.kdeplot(data = df[(df['user_type'] == user_types[i]) & (df['weekend'] == truth[j])], x = 'time_in_day', ax = ax_rides_by_time[i][j], fill = True)\n",
    "        ax_rides_by_time[i][j].set_xlabel('Hours after midnight')\n",
    "        \n",
    "        day_type = 'Weekdays'\n",
    "        if truth[j]:\n",
    "            day_type = 'Weekends'\n",
    "        ax_rides_by_time[i][j].set_title('{}/{}'.format(user_types[i], day_type), weight = 'bold', size = 'medium')\n",
    "\n",
    "fig_rides_by_time.suptitle('Distribution of ride start times throughout the day')\n",
    "\n",
    "fig_rides_by_time.savefig('Distribution_of_ride_start_times_throughout_the_day')"
   ]
  },
  {
   "cell_type": "markdown",
   "metadata": {},
   "source": [
    "We can see that the general shape for customers and subscribers is the same for weekends, with the number of rides increasing to a peak at about 14:00 for subsrcibers and around then decreasing to steadily until about 05:00 where they begin to rise again. \n",
    "\n",
    "Weekdays for subscribers fit with the idea of bikes being used for commuting. There are peaks around the rush hours 09:00 and 17:00 as one would expect with commuter traffic.\n",
    "Cusstomers' use generally increased steadidly (with the exception of a mini-peak at 09:00) until 17:00 pm where it reacehes its peak."
   ]
  },
  {
   "cell_type": "markdown",
   "metadata": {},
   "source": [
    "We will now look at Bike_share_for_all users and compare them against other users. "
   ]
  },
  {
   "cell_type": "code",
   "execution_count": 34,
   "metadata": {},
   "outputs": [
    {
     "data": {
      "text/html": [
       "<div>\n",
       "<style scoped>\n",
       "    .dataframe tbody tr th:only-of-type {\n",
       "        vertical-align: middle;\n",
       "    }\n",
       "\n",
       "    .dataframe tbody tr th {\n",
       "        vertical-align: top;\n",
       "    }\n",
       "\n",
       "    .dataframe thead th {\n",
       "        text-align: right;\n",
       "    }\n",
       "</style>\n",
       "<table border=\"1\" class=\"dataframe\">\n",
       "  <thead>\n",
       "    <tr style=\"text-align: right;\">\n",
       "      <th>bike_share_for_all_trip</th>\n",
       "      <th>No</th>\n",
       "      <th>Pre-2018</th>\n",
       "      <th>Yes</th>\n",
       "    </tr>\n",
       "    <tr>\n",
       "      <th>user_type</th>\n",
       "      <th></th>\n",
       "      <th></th>\n",
       "      <th></th>\n",
       "    </tr>\n",
       "  </thead>\n",
       "  <tbody>\n",
       "    <tr>\n",
       "      <th>Customer</th>\n",
       "      <td>221605</td>\n",
       "      <td>110470</td>\n",
       "      <td>0</td>\n",
       "    </tr>\n",
       "    <tr>\n",
       "      <th>Subscriber</th>\n",
       "      <td>1057585</td>\n",
       "      <td>409230</td>\n",
       "      <td>117575</td>\n",
       "    </tr>\n",
       "  </tbody>\n",
       "</table>\n",
       "</div>"
      ],
      "text/plain": [
       "bike_share_for_all_trip       No  Pre-2018     Yes\n",
       "user_type                                         \n",
       "Customer                  221605    110470       0\n",
       "Subscriber               1057585    409230  117575"
      ]
     },
     "execution_count": 34,
     "metadata": {},
     "output_type": "execute_result"
    }
   ],
   "source": [
    "df.pivot_table(values = 'duration_sec', index = 'user_type', columns = 'bike_share_for_all_trip', aggfunc = len, fill_value = 0)"
   ]
  },
  {
   "cell_type": "markdown",
   "metadata": {},
   "source": [
    "We can see that all bike_share_for_all users are subscribers."
   ]
  },
  {
   "cell_type": "code",
   "execution_count": 35,
   "metadata": {},
   "outputs": [
    {
     "data": {
      "text/html": [
       "<div>\n",
       "<style scoped>\n",
       "    .dataframe tbody tr th:only-of-type {\n",
       "        vertical-align: middle;\n",
       "    }\n",
       "\n",
       "    .dataframe tbody tr th {\n",
       "        vertical-align: top;\n",
       "    }\n",
       "\n",
       "    .dataframe thead th {\n",
       "        text-align: right;\n",
       "    }\n",
       "</style>\n",
       "<table border=\"1\" class=\"dataframe\">\n",
       "  <thead>\n",
       "    <tr style=\"text-align: right;\">\n",
       "      <th>bike_share_for_all_trip</th>\n",
       "      <th>No</th>\n",
       "      <th>Pre-2018</th>\n",
       "      <th>Yes</th>\n",
       "    </tr>\n",
       "    <tr>\n",
       "      <th>weekend</th>\n",
       "      <th></th>\n",
       "      <th></th>\n",
       "      <th></th>\n",
       "    </tr>\n",
       "  </thead>\n",
       "  <tbody>\n",
       "    <tr>\n",
       "      <th>False</th>\n",
       "      <td>1173942</td>\n",
       "      <td>474309</td>\n",
       "      <td>105504</td>\n",
       "    </tr>\n",
       "    <tr>\n",
       "      <th>True</th>\n",
       "      <td>105248</td>\n",
       "      <td>45391</td>\n",
       "      <td>12071</td>\n",
       "    </tr>\n",
       "  </tbody>\n",
       "</table>\n",
       "</div>"
      ],
      "text/plain": [
       "bike_share_for_all_trip       No  Pre-2018     Yes\n",
       "weekend                                           \n",
       "False                    1173942    474309  105504\n",
       "True                      105248     45391   12071"
      ]
     },
     "execution_count": 35,
     "metadata": {},
     "output_type": "execute_result"
    }
   ],
   "source": [
    "df.pivot_table(values = 'duration_sec', index = 'weekend', columns = 'bike_share_for_all_trip', aggfunc = len, fill_value = 0)"
   ]
  },
  {
   "cell_type": "markdown",
   "metadata": {},
   "source": [
    "Can see here that the vast majority of bike_share_for_all rides occur on working days (even factoring in the fact that there are more working days than weekend days).\n",
    "\n",
    "We can produce a similar analysis of the times of these rentals to the analysis completed above."
   ]
  },
  {
   "cell_type": "code",
   "execution_count": 36,
   "metadata": {},
   "outputs": [
    {
     "data": {
      "image/png": "[encoded data removed]",
      "text/plain": [
       "<Figure size 576x576 with 4 Axes>"
      ]
     },
     "metadata": {},
     "output_type": "display_data"
    }
   ],
   "source": [
    "fig_rides_by_time_bs, ax_rides_by_time_bs = plt.subplots(nrows = 2, ncols = 2, figsize = (8, 8), tight_layout = True)\n",
    "\n",
    "bs_options = ['Yes', 'No']\n",
    "truth = [True, False ]\n",
    "bs_titles = ['Bike-share ride', 'Non-share ride']\n",
    "\n",
    "for i in [0, 1]:\n",
    "    for j in [0, 1]:\n",
    "        sns.kdeplot(data = df[(df['bike_share_for_all_trip'] == bs_options[i]) & (df['weekend'] == truth[j])], x = 'time_in_day', ax = ax_rides_by_time_bs[i][j], fill = True)\n",
    "        ax_rides_by_time_bs[i][j].set_xlabel('Hours after midnight')\n",
    "        \n",
    "        day_type = 'Weekdays'\n",
    "        if truth[j]:\n",
    "            day_type = 'Weekends'\n",
    "        ax_rides_by_time_bs[i][j].set_title('{}/{}'.format(bs_titles[i], day_type), weight = 'bold', size = 'medium')\n",
    "\n",
    "fig_rides_by_time_bs.suptitle('Bike share distribution of ride start times throughout the day')\n",
    "\n",
    "fig_rides_by_time_bs.savefig('Bike_share_distribution_of_ride_start_times_throughout_the_day')"
   ]
  },
  {
   "cell_type": "markdown",
   "metadata": {},
   "source": [
    "We can see that bike_share_for_all users act like most users on weekends and that their weekday use is closer to that of customers than of other subscribers."
   ]
  },
  {
   "cell_type": "markdown",
   "metadata": {},
   "source": [
    "We can also compare the duration of bike_share_for_all rides to those of customers and subscribers to see how these different (overlapping) groups align. "
   ]
  },
  {
   "cell_type": "code",
   "execution_count": 37,
   "metadata": {},
   "outputs": [
    {
     "data": {
      "text/html": [
       "<div>\n",
       "<style scoped>\n",
       "    .dataframe tbody tr th:only-of-type {\n",
       "        vertical-align: middle;\n",
       "    }\n",
       "\n",
       "    .dataframe tbody tr th {\n",
       "        vertical-align: top;\n",
       "    }\n",
       "\n",
       "    .dataframe thead th {\n",
       "        text-align: right;\n",
       "    }\n",
       "</style>\n",
       "<table border=\"1\" class=\"dataframe\">\n",
       "  <thead>\n",
       "    <tr style=\"text-align: right;\">\n",
       "      <th></th>\n",
       "      <th>count</th>\n",
       "      <th>mean</th>\n",
       "      <th>std</th>\n",
       "      <th>min</th>\n",
       "      <th>25%</th>\n",
       "      <th>50%</th>\n",
       "      <th>75%</th>\n",
       "      <th>max</th>\n",
       "    </tr>\n",
       "  </thead>\n",
       "  <tbody>\n",
       "    <tr>\n",
       "      <th>Customer</th>\n",
       "      <td>332075.0</td>\n",
       "      <td>2179.188171</td>\n",
       "      <td>5644.484614</td>\n",
       "      <td>61.0</td>\n",
       "      <td>613.0</td>\n",
       "      <td>1005.0</td>\n",
       "      <td>1648.0</td>\n",
       "      <td>86369.0</td>\n",
       "    </tr>\n",
       "    <tr>\n",
       "      <th>Subscriber</th>\n",
       "      <td>1584390.0</td>\n",
       "      <td>681.748881</td>\n",
       "      <td>1555.898537</td>\n",
       "      <td>61.0</td>\n",
       "      <td>335.0</td>\n",
       "      <td>519.0</td>\n",
       "      <td>784.0</td>\n",
       "      <td>86281.0</td>\n",
       "    </tr>\n",
       "  </tbody>\n",
       "</table>\n",
       "</div>"
      ],
      "text/plain": [
       "                count         mean          std   min    25%     50%     75%  \\\n",
       "Customer     332075.0  2179.188171  5644.484614  61.0  613.0  1005.0  1648.0   \n",
       "Subscriber  1584390.0   681.748881  1555.898537  61.0  335.0   519.0   784.0   \n",
       "\n",
       "                max  \n",
       "Customer    86369.0  \n",
       "Subscriber  86281.0  "
      ]
     },
     "execution_count": 37,
     "metadata": {},
     "output_type": "execute_result"
    }
   ],
   "source": [
    "pd.DataFrame(group.describe().rename(columns={'duration_sec':name}).squeeze()\n",
    "                         for name, group in df[['user_type', 'duration_sec']].groupby('user_type'))"
   ]
  },
  {
   "cell_type": "code",
   "execution_count": 38,
   "metadata": {},
   "outputs": [
    {
     "data": {
      "text/html": [
       "<div>\n",
       "<style scoped>\n",
       "    .dataframe tbody tr th:only-of-type {\n",
       "        vertical-align: middle;\n",
       "    }\n",
       "\n",
       "    .dataframe tbody tr th {\n",
       "        vertical-align: top;\n",
       "    }\n",
       "\n",
       "    .dataframe thead th {\n",
       "        text-align: right;\n",
       "    }\n",
       "</style>\n",
       "<table border=\"1\" class=\"dataframe\">\n",
       "  <thead>\n",
       "    <tr style=\"text-align: right;\">\n",
       "      <th></th>\n",
       "      <th>count</th>\n",
       "      <th>mean</th>\n",
       "      <th>std</th>\n",
       "      <th>min</th>\n",
       "      <th>25%</th>\n",
       "      <th>50%</th>\n",
       "      <th>75%</th>\n",
       "      <th>max</th>\n",
       "    </tr>\n",
       "  </thead>\n",
       "  <tbody>\n",
       "    <tr>\n",
       "      <th>No</th>\n",
       "      <td>1279190.0</td>\n",
       "      <td>892.606501</td>\n",
       "      <td>2565.690663</td>\n",
       "      <td>61.0</td>\n",
       "      <td>357.0</td>\n",
       "      <td>566.0</td>\n",
       "      <td>888.0</td>\n",
       "      <td>86366.0</td>\n",
       "    </tr>\n",
       "    <tr>\n",
       "      <th>Pre-2018</th>\n",
       "      <td>519700.0</td>\n",
       "      <td>1099.009521</td>\n",
       "      <td>3444.146451</td>\n",
       "      <td>61.0</td>\n",
       "      <td>382.0</td>\n",
       "      <td>596.0</td>\n",
       "      <td>938.0</td>\n",
       "      <td>86369.0</td>\n",
       "    </tr>\n",
       "    <tr>\n",
       "      <th>Yes</th>\n",
       "      <td>117575.0</td>\n",
       "      <td>772.625677</td>\n",
       "      <td>1904.397343</td>\n",
       "      <td>61.0</td>\n",
       "      <td>303.0</td>\n",
       "      <td>491.0</td>\n",
       "      <td>790.0</td>\n",
       "      <td>86142.0</td>\n",
       "    </tr>\n",
       "  </tbody>\n",
       "</table>\n",
       "</div>"
      ],
      "text/plain": [
       "              count         mean          std   min    25%    50%    75%  \\\n",
       "No        1279190.0   892.606501  2565.690663  61.0  357.0  566.0  888.0   \n",
       "Pre-2018   519700.0  1099.009521  3444.146451  61.0  382.0  596.0  938.0   \n",
       "Yes        117575.0   772.625677  1904.397343  61.0  303.0  491.0  790.0   \n",
       "\n",
       "              max  \n",
       "No        86366.0  \n",
       "Pre-2018  86369.0  \n",
       "Yes       86142.0  "
      ]
     },
     "execution_count": 38,
     "metadata": {},
     "output_type": "execute_result"
    }
   ],
   "source": [
    "pd.DataFrame(group.describe().rename(columns={'duration_sec':name}).squeeze()\n",
    "                         for name, group in df[['bike_share_for_all_trip', 'duration_sec']].groupby('bike_share_for_all_trip'))"
   ]
  },
  {
   "cell_type": "markdown",
   "metadata": {},
   "source": [
    "The duration of bike_share_for_all users is closely related to that of subsrcibers in general. The mean time is slightly higher for bike_shares and the median is slightly smaller. This, as well as the higher upper_quartile suggests that the durations are more positively skewed than the subscribers in total."
   ]
  },
  {
   "cell_type": "markdown",
   "metadata": {},
   "source": [
    "#### Requirement 7 - 4 When are people making their journeys?\n",
    "\n",
    "1. How does a rolling 7-day average for rides change over the course of the year?\n",
    "2. How does temperature affect the number of rides on a day (requires downloading an additional data set)?"
   ]
  },
  {
   "cell_type": "code",
   "execution_count": 39,
   "metadata": {},
   "outputs": [],
   "source": [
    "df['date'] = df['start_time'].dt.date\n",
    "rides_by_day = df.groupby('date').size()"
   ]
  },
  {
   "cell_type": "code",
   "execution_count": 40,
   "metadata": {},
   "outputs": [
    {
     "data": {
      "text/plain": [
       "Text(0, 0.5, 'Rolling 7-day average number of rides')"
      ]
     },
     "execution_count": 40,
     "metadata": {},
     "output_type": "execute_result"
    },
    {
     "data": {
      "image/png": "[encoded data removed]",
      "text/plain": [
       "<Figure size 432x288 with 1 Axes>"
      ]
     },
     "metadata": {},
     "output_type": "display_data"
    }
   ],
   "source": [
    "rides_by_day.rolling(window = 7).mean().plot()\n",
    "plt.xticks(rotation = 45)\n",
    "plt.ylabel('Rolling 7-day average number of rides')"
   ]
  },
  {
   "cell_type": "markdown",
   "metadata": {},
   "source": [
    "This seems to show that the popularity of the bike rental system has been increasing progressively since data began being collected in July 2017. There are some periods where the data drops significantly, notably around the Christams period, but this slowly recovers so that by March the data is at the same level as in October. \n",
    "If this data were to be collected over more years it would be interesting to look at the number of rides changes in colder months. \n",
    "We could also analyse this by importing temperature data for the dates being considered but this has proved challenging to find. \n",
    "\n",
    "Unfortunately this has prevented any good answer to question 2."
   ]
  },
  {
   "cell_type": "markdown",
   "metadata": {},
   "source": [
    "Having seen the difference in weekend and weekday use above it is worth asking the question how the number of rides has changed over time whilst separating for user types and weekend/weekday uses. "
   ]
  },
  {
   "cell_type": "code",
   "execution_count": 41,
   "metadata": {},
   "outputs": [
    {
     "data": {
      "image/png": "[encoded data removed]",
      "text/plain": [
       "<Figure size 432x288 with 2 Axes>"
      ]
     },
     "metadata": {},
     "output_type": "display_data"
    }
   ],
   "source": [
    "fig, ax = plt.subplots(ncols = 2, sharey = True)\n",
    "\n",
    "\n",
    "rides_by_day_subscriber_weekday = df[(df['user_type'] == 'Subscriber') & (df['weekend'] == False)].groupby('date').size()\n",
    "rides_by_day_subscriber_weekday.rolling(window = 15).mean().plot(ax = ax[0], label = 'Subscriber')\n",
    "\n",
    "\n",
    "rides_by_day_customer_weekday = df[(df['user_type'] == 'Customer') & (df['weekend'] == False)].groupby('date').size()\n",
    "rides_by_day_customer_weekday.rolling(window = 15).mean().plot(ax = ax[0], label = 'Customer')\n",
    "\n",
    "\n",
    "rides_by_day_subscriber_weekend = df[(df['user_type'] == 'Subscriber') & df['weekend']].groupby('date').size()\n",
    "rides_by_day_subscriber_weekend.rolling(window = 6).mean().plot(ax = ax[1], label = 'Subscriber')\n",
    "\n",
    "\n",
    "rides_by_day_customer_weekend = df[(df['user_type'] == 'Customer') & df['weekend']].groupby('date').size()\n",
    "rides_by_day_customer_weekend.rolling(window = 6).mean().plot(ax = ax[1], label = 'Customer')\n",
    "\n",
    "ax[0].tick_params(axis = 'x', labelrotation = 90)\n",
    "ax[1].tick_params(axis = 'x', labelrotation = 90)\n",
    "ax[1].legend()\n",
    "ax[0].set_ylabel('Rolling average of daily use')\n",
    "\n",
    "fig.suptitle('Change in usage over the period')\n",
    "ax[0].set_title('Weekdays')\n",
    "ax[1].set_title('Weekends')\n",
    "\n",
    "fig.savefig('Change_in_usage_over_the_period')"
   ]
  },
  {
   "cell_type": "markdown",
   "metadata": {},
   "source": [
    "#### Reuqirement 7 - 5 How do age and duration relate?\n",
    "\n",
    "1. Is there any clear relationship between these variables?\n",
    "2. Is the relationship different for customers vs subscribers?"
   ]
  },
  {
   "cell_type": "code",
   "execution_count": 42,
   "metadata": {},
   "outputs": [],
   "source": [
    "duration_by_age = df.groupby(['Age', 'user_type'])['duration_sec'].mean().to_frame('mean_ride_duration_sec').reset_index()"
   ]
  },
  {
   "cell_type": "code",
   "execution_count": 43,
   "metadata": {},
   "outputs": [
    {
     "data": {
      "text/plain": [
       "<seaborn.axisgrid.FacetGrid at 0x166881345b0>"
      ]
     },
     "execution_count": 43,
     "metadata": {},
     "output_type": "execute_result"
    },
    {
     "data": {
      "image/png": "[encoded data removed]",
      "text/plain": [
       "<Figure size 720x360 with 2 Axes>"
      ]
     },
     "metadata": {},
     "output_type": "display_data"
    }
   ],
   "source": [
    "sns.relplot(x = 'Age', y = 'mean_ride_duration_sec', data = duration_by_age, col = 'user_type')"
   ]
  },
  {
   "cell_type": "markdown",
   "metadata": {},
   "source": [
    "This reveals a number of interesting feaures of the data. \n",
    "Firstly, there are clearly a large number of incorretly entered birth_years as there are a number of uses over 100. This may be intentional or accidental misuse on the part of the users or errors in data handling. \n",
    "\n",
    "Secondly, the relationship between duration and age is generally similar across subscribers and customers. \n",
    "In the case of subscribers, the mean duration does not change significantly from the age of 20 to 80. Between 80 and 86 the mean duration decreases and then increases up to the age of 95, before losing any recognisable pattern.\n",
    "\n",
    "In the case of customers the mean duration decreases slighly from 20 to 30 and then slowly climbs until the age of 60 at which point it begins to lose any clear pattern. There is a definite decrease in mean from 60 to 80 and the mean then starts to recover. \n",
    "\n",
    "It may be easier to note changes using boxplots for each age group."
   ]
  },
  {
   "cell_type": "code",
   "execution_count": 44,
   "metadata": {},
   "outputs": [
    {
     "data": {
      "image/png": "[encoded data removed]",
      "text/plain": [
       "<Figure size 720x360 with 2 Axes>"
      ]
     },
     "metadata": {},
     "output_type": "display_data"
    }
   ],
   "source": [
    "# this ensures that the boxplots occur in the desired order\n",
    "order = ['{} - {}'.format(float(n*10), float((n+1)*10)) for n in range(1, 13)]\n",
    "rp2 = sns.catplot(x = 'duration_sec', y = 'Age_group', col = 'user_type', data = df, kind = 'box', whis = 1.5, sym = '', order = order)\n",
    "\n",
    "rp2.fig.subplots_adjust(top=0.9) # adjust the Figure in rp\n",
    "rp2.fig.suptitle('Ride duration by user and age')\n",
    "\n",
    "rp2.fig.savefig('ride_duration_by_user_and_age')"
   ]
  },
  {
   "cell_type": "markdown",
   "metadata": {},
   "source": [
    "These tell a similar story to the plots by Age although the changes in the duration of customer rides is more pronounced here. \n",
    "you can clearly see a reduction in average duration until the 30 - 50 area and then a steady increasing until the 80 - 90 area."
   ]
  },
  {
   "cell_type": "markdown",
   "metadata": {},
   "source": [
    "#### Requirement 7 - 6 Do men and women use the service in any noticeably distinct ways?\n",
    "\n",
    "1. How has the percentage of men / women / other using the service changed over time?\n",
    "2. Is the percentage of men / women / other amongst subscribers the same as it is for customers?\n",
    "3. Does the duration of rides differ between male,female and other riders?"
   ]
  },
  {
   "cell_type": "code",
   "execution_count": 45,
   "metadata": {},
   "outputs": [
    {
     "data": {
      "text/plain": [
       "Male       1303335\n",
       "Female      428644\n",
       "Unknown     158080\n",
       "Other        26406\n",
       "Name: member_gender, dtype: int64"
      ]
     },
     "execution_count": 45,
     "metadata": {},
     "output_type": "execute_result"
    }
   ],
   "source": [
    "df['member_gender'].value_counts()"
   ]
  },
  {
   "cell_type": "markdown",
   "metadata": {},
   "source": [
    "We can see here that the vast majority of rides were completed by males."
   ]
  },
  {
   "cell_type": "markdown",
   "metadata": {},
   "source": [
    "In order to make the analysis easier we will create a new dataset only including rows that contain data on the member_gender. "
   ]
  },
  {
   "cell_type": "code",
   "execution_count": 46,
   "metadata": {},
   "outputs": [],
   "source": [
    "gendered_rides = df[df['member_gender'] != 'Unknown'].copy()\n",
    "gendered_rides['member_gender'] = gendered_rides['member_gender'].cat.remove_categories(['Unknown'])"
   ]
  },
  {
   "cell_type": "markdown",
   "metadata": {},
   "source": [
    "We can then look at how the number of males, females and others changers over time."
   ]
  },
  {
   "cell_type": "code",
   "execution_count": 47,
   "metadata": {},
   "outputs": [
    {
     "data": {
      "text/plain": [
       "(array([17348., 17410., 17471., 17532., 17591., 17652., 17713., 17775.]),\n",
       " [Text(0, 0, ''),\n",
       "  Text(0, 0, ''),\n",
       "  Text(0, 0, ''),\n",
       "  Text(0, 0, ''),\n",
       "  Text(0, 0, ''),\n",
       "  Text(0, 0, ''),\n",
       "  Text(0, 0, ''),\n",
       "  Text(0, 0, '')])"
      ]
     },
     "execution_count": 47,
     "metadata": {},
     "output_type": "execute_result"
    },
    {
     "data": {
      "image/png": "[encoded data removed]",
      "text/plain": [
       "<Figure size 432x288 with 1 Axes>"
      ]
     },
     "metadata": {},
     "output_type": "display_data"
    }
   ],
   "source": [
    "gendered_rides['Male'] = gendered_rides['member_gender'] == 'Male'\n",
    "gendered_rides['Female'] = gendered_rides['member_gender'] == 'Female'\n",
    "gendered_rides['Other'] = gendered_rides['member_gender'] == 'Other'\n",
    "\n",
    "gender_percentage_by_day = gendered_rides.groupby('date')[['Male', 'Female', 'Other']].mean()\n",
    "\n",
    "gender_percentage_by_day['Male'].rolling(window = 7).mean().plot(label = 'Male')\n",
    "gender_percentage_by_day['Female'].rolling(window = 7).mean().plot(label = 'Feale')\n",
    "gender_percentage_by_day['Other'].rolling(window = 7).mean().plot(label = 'Other')\n",
    "plt.legend()\n",
    "plt.ylabel('Percentage of rides')\n",
    "plt.xticks(rotation = 45)\n"
   ]
  },
  {
   "cell_type": "markdown",
   "metadata": {},
   "source": [
    "We can see here that the percentage of rides by females has been generally increasing since the start of recorded data. "
   ]
  },
  {
   "cell_type": "markdown",
   "metadata": {},
   "source": [
    "We can compare the specific values by looking at the head and tail of the rolling averages."
   ]
  },
  {
   "cell_type": "code",
   "execution_count": 48,
   "metadata": {},
   "outputs": [
    {
     "data": {
      "text/plain": [
       "date\n",
       "2017-06-28         NaN\n",
       "2017-06-29         NaN\n",
       "2017-06-30         NaN\n",
       "2017-07-01         NaN\n",
       "2017-07-02         NaN\n",
       "2017-07-03         NaN\n",
       "2017-07-04    0.193774\n",
       "2017-07-05    0.202286\n",
       "2017-07-06    0.207530\n",
       "2017-07-07    0.206906\n",
       "Name: Female, dtype: float64"
      ]
     },
     "execution_count": 48,
     "metadata": {},
     "output_type": "execute_result"
    }
   ],
   "source": [
    "gender_percentage_by_day['Female'].rolling(window = 7).mean().head(10)"
   ]
  },
  {
   "cell_type": "code",
   "execution_count": 49,
   "metadata": {},
   "outputs": [
    {
     "data": {
      "text/plain": [
       "date\n",
       "2018-09-21    0.255852\n",
       "2018-09-22    0.256769\n",
       "2018-09-23    0.256854\n",
       "2018-09-24    0.259006\n",
       "2018-09-25    0.261401\n",
       "2018-09-26    0.260437\n",
       "2018-09-27    0.258898\n",
       "2018-09-28    0.256621\n",
       "2018-09-29    0.256221\n",
       "2018-09-30    0.255920\n",
       "Name: Female, dtype: float64"
      ]
     },
     "execution_count": 49,
     "metadata": {},
     "output_type": "execute_result"
    }
   ],
   "source": [
    "gender_percentage_by_day['Female'].rolling(window = 7).mean().tail(10)"
   ]
  },
  {
   "cell_type": "markdown",
   "metadata": {},
   "source": [
    "Here we can see that the average has increased from around 20% each day at the start of the records to around 25% each day by the end of the records. "
   ]
  },
  {
   "cell_type": "markdown",
   "metadata": {},
   "source": [
    "Let us now look at how the percentage of riders of each gender changes between subscribers and customers."
   ]
  },
  {
   "cell_type": "code",
   "execution_count": 66,
   "metadata": {},
   "outputs": [
    {
     "data": {
      "image/png": "[encoded data removed]",
      "text/plain": [
       "<Figure size 432x288 with 2 Axes>"
      ]
     },
     "metadata": {},
     "output_type": "display_data"
    }
   ],
   "source": [
    "# create a data frame with the percentage of rides for gender for each day\n",
    "gender_rides_by_day_and_users = gendered_rides.groupby(['date', 'member_gender', 'user_type']).size().to_frame('Number_of_rides').reset_index()\n",
    "\n",
    "# add a column for percentage of rides for each date and user_type\n",
    "gender_rides_by_day_and_users['Percentage_of_rides'] = gender_rides_by_day_and_users.groupby(['date', 'user_type'])['Number_of_rides'].transform(lambda x: 100 * x / sum(x))\n",
    "\n",
    "# turn this into a rolling average over the past 7 days to account for peaks at weekends\n",
    "gender_rides_by_day_and_users['Rolling_average'] = gender_rides_by_day_and_users.groupby(['member_gender', 'user_type'])['Percentage_of_rides'].transform(lambda s: s.rolling(14).mean())\n",
    "\n",
    "# plot these on a single axis\n",
    "(fig_users_gender, ax_users_gender) = plt.subplots(nrows = 1, ncols = 2)\n",
    "\n",
    "\n",
    "user_types = ['Customer', 'Subscriber']\n",
    "genders = ['Male', 'Female', 'Other']\n",
    "\n",
    "for i in [0, 1]:\n",
    "    for j in [0, 1, 2]:\n",
    "        df_for_plot = gender_rides_by_day_and_users[(gender_rides_by_day_and_users['user_type'] == user_types[i]) & (gender_rides_by_day_and_users['member_gender'] == genders[j])]\n",
    "        y = df_for_plot['Rolling_average']\n",
    "        x = df_for_plot['date']\n",
    "        ax_users_gender[i].plot(x, y, label = genders[j])\n",
    "    plt.sca(ax_users_gender[i])\n",
    "    plt.xticks(rotation=90)\n",
    "    ax_users_gender[i].title.set_text(user_types[i])\n",
    "    ax_users_gender[i].set_ylim([0, 85])\n",
    "    \n",
    "plt.legend()\n",
    "ax_users_gender[0].set_ylabel('Percentage or rides by gender')\n",
    "\n",
    "fig_users_gender.subplots_adjust(top=0.85) # adjust the Figure in rp\n",
    "fig_users_gender.suptitle('Percentage rides over time by gender and user')\n",
    "\n",
    "plt.show()\n",
    "\n",
    "fig_users_gender.savefig('Percentage_rides_over_time_by_gender_and_user')\n"
   ]
  },
  {
   "cell_type": "markdown",
   "metadata": {},
   "source": [
    "We can see here that the percentage of customers' rides that are female has always been significantly higher than the percentage of subscribers' rides that are female. \n",
    "The percentage of customers's rides that are female also seems to fluctuate significantly more than in the case of subscribers. "
   ]
  },
  {
   "cell_type": "markdown",
   "metadata": {},
   "source": [
    "Let us also look at how the overall number of rides by different genders has changed over time. \n"
   ]
  },
  {
   "cell_type": "code",
   "execution_count": 65,
   "metadata": {},
   "outputs": [
    {
     "data": {
      "image/png": "[encoded data removed]",
      "text/plain": [
       "<Figure size 432x288 with 2 Axes>"
      ]
     },
     "metadata": {},
     "output_type": "display_data"
    }
   ],
   "source": [
    "# add a column for rolling 7 day average (as oppsed to percentage)\n",
    "gender_rides_by_day_and_users['Rolling_average_total_rides'] = gender_rides_by_day_and_users.groupby(['member_gender', 'user_type'])['Number_of_rides'].transform(lambda s: s.rolling(14).mean())\n",
    "\n",
    "# plot these on a single axis\n",
    "(fig_users_gender_totals, ax_users_gender_totals) = plt.subplots(nrows = 1, ncols = 2)\n",
    "\n",
    "\n",
    "user_types = ['Customer', 'Subscriber']\n",
    "genders = ['Male', 'Female', 'Other']\n",
    "\n",
    "for i in [0, 1]:\n",
    "    for j in [0, 1, 2]:\n",
    "        df_for_plot = gender_rides_by_day_and_users[(gender_rides_by_day_and_users['user_type'] == user_types[i]) & (gender_rides_by_day_and_users['member_gender'] == genders[j])]\n",
    "        y = df_for_plot['Rolling_average_total_rides']\n",
    "        x = df_for_plot['date']\n",
    "        ax_users_gender_totals[i].plot(x, y, label = genders[j])\n",
    "    plt.sca(ax_users_gender_totals[i])\n",
    "    plt.xticks(rotation=90)\n",
    "    ax_users_gender_totals[i].title.set_text(user_types[i])\n",
    "    \n",
    "plt.legend()\n",
    "ax_users_gender_totals[0].set_ylabel('Number of rides by gender')\n",
    "\n",
    "fig_users_gender_totals.tight_layout()\n",
    "\n",
    "fig_users_gender_totals.subplots_adjust(top=0.85) # adjust the Figure in rp\n",
    "fig_users_gender_totals.suptitle('Rides over time by gender and user')\n",
    "\n",
    "\n",
    "plt.show()\n",
    "\n",
    "fig_users_gender_totals.savefig('Rides_over_time_by_gender_and_user')\n"
   ]
  },
  {
   "cell_type": "markdown",
   "metadata": {},
   "source": [
    "Now let us look at how the duration of rides relates to the gender of the rider. "
   ]
  },
  {
   "cell_type": "code",
   "execution_count": 52,
   "metadata": {},
   "outputs": [
    {
     "data": {
      "text/plain": [
       "<seaborn.axisgrid.FacetGrid at 0x1668b774d60>"
      ]
     },
     "execution_count": 52,
     "metadata": {},
     "output_type": "execute_result"
    },
    {
     "data": {
      "image/png": "[encoded data removed]",
      "text/plain": [
       "<Figure size 360x360 with 1 Axes>"
      ]
     },
     "metadata": {},
     "output_type": "display_data"
    }
   ],
   "source": [
    "sns.catplot(x = 'duration_sec', y = 'member_gender', data = gendered_rides, kind = 'box', whis = 1.5, sym = '')"
   ]
  },
  {
   "cell_type": "markdown",
   "metadata": {},
   "source": [
    "Here we can see that females tend to spend longer on rides then men and that others spend approximately the same amount of time on the bikes as females. It will be interesting to see later if this is caused by there being a higher ratio of customers to subscribers in the female users. "
   ]
  },
  {
   "cell_type": "code",
   "execution_count": 53,
   "metadata": {},
   "outputs": [
    {
     "data": {
      "text/plain": [
       "<seaborn.axisgrid.FacetGrid at 0x1668b7c1ca0>"
      ]
     },
     "execution_count": 53,
     "metadata": {},
     "output_type": "execute_result"
    },
    {
     "data": {
      "image/png": "[encoded data removed]",
      "text/plain": [
       "<Figure size 360x1080 with 3 Axes>"
      ]
     },
     "metadata": {},
     "output_type": "display_data"
    }
   ],
   "source": [
    "sns.catplot(x = 'duration_sec', y = 'Age_group', row = 'member_gender', data = gendered_rides, kind = 'box', whis = 1.5, sym = '', order = order)"
   ]
  },
  {
   "cell_type": "markdown",
   "metadata": {},
   "source": [
    "The same pattern of consistency across age groups is demonstrated in all of these graphs. \n",
    "In each case those below the age of 20 tend to be cycling for longer than the age groups just above them. \n",
    "Again, data for higher age groups is more erratic, most likley because of incorrect insertions of birth year."
   ]
  },
  {
   "cell_type": "code",
   "execution_count": 54,
   "metadata": {},
   "outputs": [
    {
     "data": {
      "text/plain": [
       "<seaborn.axisgrid.FacetGrid at 0x166880412b0>"
      ]
     },
     "execution_count": 54,
     "metadata": {},
     "output_type": "execute_result"
    },
    {
     "data": {
      "image/png": "[encoded data removed]",
      "text/plain": [
       "<Figure size 360x720 with 2 Axes>"
      ]
     },
     "metadata": {},
     "output_type": "display_data"
    }
   ],
   "source": [
    "sns.catplot(x = 'duration_sec', y = 'member_gender', row = 'user_type', data = gendered_rides, kind = 'box', whis = 1.5, sym = '')"
   ]
  },
  {
   "cell_type": "markdown",
   "metadata": {},
   "source": [
    "Before we analyse this let us look at the exact values below."
   ]
  },
  {
   "cell_type": "code",
   "execution_count": 55,
   "metadata": {},
   "outputs": [
    {
     "data": {
      "text/html": [
       "<div>\n",
       "<style scoped>\n",
       "    .dataframe tbody tr th:only-of-type {\n",
       "        vertical-align: middle;\n",
       "    }\n",
       "\n",
       "    .dataframe tbody tr th {\n",
       "        vertical-align: top;\n",
       "    }\n",
       "\n",
       "    .dataframe thead th {\n",
       "        text-align: right;\n",
       "    }\n",
       "</style>\n",
       "<table border=\"1\" class=\"dataframe\">\n",
       "  <thead>\n",
       "    <tr style=\"text-align: right;\">\n",
       "      <th></th>\n",
       "      <th></th>\n",
       "      <th>10th percentile</th>\n",
       "      <th>25th percentile</th>\n",
       "      <th>50th percentile</th>\n",
       "      <th>75th percentile</th>\n",
       "      <th>90th percentile</th>\n",
       "      <th>mean</th>\n",
       "      <th>std</th>\n",
       "    </tr>\n",
       "    <tr>\n",
       "      <th>user_type</th>\n",
       "      <th>member_gender</th>\n",
       "      <th></th>\n",
       "      <th></th>\n",
       "      <th></th>\n",
       "      <th></th>\n",
       "      <th></th>\n",
       "      <th></th>\n",
       "      <th></th>\n",
       "    </tr>\n",
       "  </thead>\n",
       "  <tbody>\n",
       "    <tr>\n",
       "      <th rowspan=\"3\" valign=\"top\">Customer</th>\n",
       "      <th>Female</th>\n",
       "      <td>421</td>\n",
       "      <td>646.0</td>\n",
       "      <td>1019</td>\n",
       "      <td>1587.0</td>\n",
       "      <td>2706.4</td>\n",
       "      <td>1937.839520</td>\n",
       "      <td>5183.516201</td>\n",
       "    </tr>\n",
       "    <tr>\n",
       "      <th>Male</th>\n",
       "      <td>358</td>\n",
       "      <td>534.0</td>\n",
       "      <td>846</td>\n",
       "      <td>1362.0</td>\n",
       "      <td>2152.0</td>\n",
       "      <td>1605.587363</td>\n",
       "      <td>4553.384803</td>\n",
       "    </tr>\n",
       "    <tr>\n",
       "      <th>Other</th>\n",
       "      <td>374</td>\n",
       "      <td>570.5</td>\n",
       "      <td>868</td>\n",
       "      <td>1367.5</td>\n",
       "      <td>2072.0</td>\n",
       "      <td>1612.389420</td>\n",
       "      <td>4802.305435</td>\n",
       "    </tr>\n",
       "    <tr>\n",
       "      <th rowspan=\"3\" valign=\"top\">Subscriber</th>\n",
       "      <th>Female</th>\n",
       "      <td>254</td>\n",
       "      <td>378.0</td>\n",
       "      <td>584</td>\n",
       "      <td>881.0</td>\n",
       "      <td>1241.0</td>\n",
       "      <td>765.478564</td>\n",
       "      <td>1707.932263</td>\n",
       "    </tr>\n",
       "    <tr>\n",
       "      <th>Male</th>\n",
       "      <td>215</td>\n",
       "      <td>324.0</td>\n",
       "      <td>500</td>\n",
       "      <td>751.0</td>\n",
       "      <td>1083.0</td>\n",
       "      <td>653.885780</td>\n",
       "      <td>1488.660599</td>\n",
       "    </tr>\n",
       "    <tr>\n",
       "      <th>Other</th>\n",
       "      <td>227</td>\n",
       "      <td>347.0</td>\n",
       "      <td>544</td>\n",
       "      <td>869.0</td>\n",
       "      <td>1309.0</td>\n",
       "      <td>804.833042</td>\n",
       "      <td>2280.220460</td>\n",
       "    </tr>\n",
       "  </tbody>\n",
       "</table>\n",
       "</div>"
      ],
      "text/plain": [
       "                          10th percentile  25th percentile  50th percentile  \\\n",
       "user_type  member_gender                                                      \n",
       "Customer   Female                     421            646.0             1019   \n",
       "           Male                       358            534.0              846   \n",
       "           Other                      374            570.5              868   \n",
       "Subscriber Female                     254            378.0              584   \n",
       "           Male                       215            324.0              500   \n",
       "           Other                      227            347.0              544   \n",
       "\n",
       "                          75th percentile  90th percentile         mean  \\\n",
       "user_type  member_gender                                                  \n",
       "Customer   Female                  1587.0           2706.4  1937.839520   \n",
       "           Male                    1362.0           2152.0  1605.587363   \n",
       "           Other                   1367.5           2072.0  1612.389420   \n",
       "Subscriber Female                   881.0           1241.0   765.478564   \n",
       "           Male                     751.0           1083.0   653.885780   \n",
       "           Other                    869.0           1309.0   804.833042   \n",
       "\n",
       "                                  std  \n",
       "user_type  member_gender               \n",
       "Customer   Female         5183.516201  \n",
       "           Male           4553.384803  \n",
       "           Other          4802.305435  \n",
       "Subscriber Female         1707.932263  \n",
       "           Male           1488.660599  \n",
       "           Other          2280.220460  "
      ]
     },
     "execution_count": 55,
     "metadata": {},
     "output_type": "execute_result"
    }
   ],
   "source": [
    "# create a list of aggfunctions to apply to the duration\n",
    "aggfunctions = [lambda x: np.percentile(x, 10), lambda x: np.percentile(x, 25), lambda x: np.percentile(x, 50), lambda x: np.percentile(x, 75), lambda x: np.percentile(x, 90), np.mean, np.std]\n",
    "\n",
    "\n",
    "\n",
    "grouped_percentiles = gendered_rides.groupby(['user_type', 'member_gender'])['duration_sec'].agg(aggfunctions)\n",
    "\n",
    "grouped_percentiles.rename(columns = {'<lambda_0>': '10th percentile', '<lambda_1>': '25th percentile', '<lambda_2>' : '50th percentile', '<lambda_3>' : '75th percentile', '<lambda_4>' : '90th percentile'})"
   ]
  },
  {
   "cell_type": "markdown",
   "metadata": {},
   "source": [
    "We can see that across most of these measures, males are spending the least time on bikes, followed by others followed by females. In all cases the data is skewed very far to the right and the mean would be an unrepresentative measure of the data in total.\n",
    "\n",
    "The differences between user_types are a lot more pronounced than the differences between genders within the user_types. "
   ]
  },
  {
   "cell_type": "markdown",
   "metadata": {},
   "source": [
    "#### Requirement 7 - 7 What ages are the users?\n",
    "\n",
    "1. How are the ages of users different from customers to subcribers?"
   ]
  },
  {
   "cell_type": "code",
   "execution_count": 56,
   "metadata": {},
   "outputs": [
    {
     "data": {
      "text/plain": [
       "<seaborn.axisgrid.FacetGrid at 0x1668b9769d0>"
      ]
     },
     "execution_count": 56,
     "metadata": {},
     "output_type": "execute_result"
    },
    {
     "data": {
      "image/png": "[encoded data removed]",
      "text/plain": [
       "<Figure size 360x360 with 1 Axes>"
      ]
     },
     "metadata": {},
     "output_type": "display_data"
    }
   ],
   "source": [
    "sns.catplot(x = 'Age', y = 'user_type', data = gendered_rides, kind = 'box', whis = 1.5, sym = '')"
   ]
  },
  {
   "cell_type": "markdown",
   "metadata": {},
   "source": [
    "This shows that subscribers tend to be older than customers and that the spread of ages is larger as well. \n",
    "We will look below at whether these differences change when the data is seperated furter by gender. "
   ]
  },
  {
   "cell_type": "code",
   "execution_count": 57,
   "metadata": {},
   "outputs": [
    {
     "data": {
      "image/png": "[encoded data removed]",
      "text/plain": [
       "<Figure size 720x360 with 2 Axes>"
      ]
     },
     "metadata": {},
     "output_type": "display_data"
    }
   ],
   "source": [
    "rp4 = sns.catplot(x = 'Age', y = 'member_gender', data = gendered_rides, col = 'user_type', kind = 'box', whis = 1.5, sym = '')\n",
    "\n",
    "rp4.fig.subplots_adjust(top=0.85) # adjust the Figure in rp\n",
    "rp4.fig.suptitle('Age of riders by gender and user')\n",
    "\n",
    "rp4.fig.savefig('age_of_riders_by_gender_and_user')"
   ]
  },
  {
   "cell_type": "markdown",
   "metadata": {},
   "source": [
    "We will analyse this once we have the values to compare from the tables below."
   ]
  },
  {
   "cell_type": "code",
   "execution_count": 58,
   "metadata": {},
   "outputs": [
    {
     "data": {
      "text/html": [
       "<div>\n",
       "<style scoped>\n",
       "    .dataframe tbody tr th:only-of-type {\n",
       "        vertical-align: middle;\n",
       "    }\n",
       "\n",
       "    .dataframe tbody tr th {\n",
       "        vertical-align: top;\n",
       "    }\n",
       "\n",
       "    .dataframe thead th {\n",
       "        text-align: right;\n",
       "    }\n",
       "</style>\n",
       "<table border=\"1\" class=\"dataframe\">\n",
       "  <thead>\n",
       "    <tr style=\"text-align: right;\">\n",
       "      <th></th>\n",
       "      <th></th>\n",
       "      <th>10th percentile</th>\n",
       "      <th>25th percentile</th>\n",
       "      <th>50th percentile</th>\n",
       "      <th>75th percentile</th>\n",
       "      <th>90th percentile</th>\n",
       "      <th>mean</th>\n",
       "      <th>std</th>\n",
       "    </tr>\n",
       "    <tr>\n",
       "      <th>user_type</th>\n",
       "      <th>member_gender</th>\n",
       "      <th></th>\n",
       "      <th></th>\n",
       "      <th></th>\n",
       "      <th></th>\n",
       "      <th></th>\n",
       "      <th></th>\n",
       "      <th></th>\n",
       "    </tr>\n",
       "  </thead>\n",
       "  <tbody>\n",
       "    <tr>\n",
       "      <th rowspan=\"3\" valign=\"top\">Customer</th>\n",
       "      <th>Female</th>\n",
       "      <td>22.0</td>\n",
       "      <td>26.0</td>\n",
       "      <td>30.0</td>\n",
       "      <td>35.0</td>\n",
       "      <td>45.0</td>\n",
       "      <td>31.911235</td>\n",
       "      <td>9.323360</td>\n",
       "    </tr>\n",
       "    <tr>\n",
       "      <th>Male</th>\n",
       "      <td>23.0</td>\n",
       "      <td>27.0</td>\n",
       "      <td>31.0</td>\n",
       "      <td>38.0</td>\n",
       "      <td>48.0</td>\n",
       "      <td>33.527070</td>\n",
       "      <td>9.555623</td>\n",
       "    </tr>\n",
       "    <tr>\n",
       "      <th>Other</th>\n",
       "      <td>25.0</td>\n",
       "      <td>29.0</td>\n",
       "      <td>34.0</td>\n",
       "      <td>38.0</td>\n",
       "      <td>48.0</td>\n",
       "      <td>36.182219</td>\n",
       "      <td>13.941296</td>\n",
       "    </tr>\n",
       "    <tr>\n",
       "      <th rowspan=\"3\" valign=\"top\">Subscriber</th>\n",
       "      <th>Female</th>\n",
       "      <td>24.0</td>\n",
       "      <td>28.0</td>\n",
       "      <td>32.0</td>\n",
       "      <td>39.0</td>\n",
       "      <td>49.0</td>\n",
       "      <td>34.657911</td>\n",
       "      <td>9.926927</td>\n",
       "    </tr>\n",
       "    <tr>\n",
       "      <th>Male</th>\n",
       "      <td>25.0</td>\n",
       "      <td>29.0</td>\n",
       "      <td>34.0</td>\n",
       "      <td>42.0</td>\n",
       "      <td>52.0</td>\n",
       "      <td>36.229365</td>\n",
       "      <td>10.684280</td>\n",
       "    </tr>\n",
       "    <tr>\n",
       "      <th>Other</th>\n",
       "      <td>25.0</td>\n",
       "      <td>29.0</td>\n",
       "      <td>35.0</td>\n",
       "      <td>42.0</td>\n",
       "      <td>50.0</td>\n",
       "      <td>36.976974</td>\n",
       "      <td>12.699931</td>\n",
       "    </tr>\n",
       "  </tbody>\n",
       "</table>\n",
       "</div>"
      ],
      "text/plain": [
       "                          10th percentile  25th percentile  50th percentile  \\\n",
       "user_type  member_gender                                                      \n",
       "Customer   Female                    22.0             26.0             30.0   \n",
       "           Male                      23.0             27.0             31.0   \n",
       "           Other                     25.0             29.0             34.0   \n",
       "Subscriber Female                    24.0             28.0             32.0   \n",
       "           Male                      25.0             29.0             34.0   \n",
       "           Other                     25.0             29.0             35.0   \n",
       "\n",
       "                          75th percentile  90th percentile       mean  \\\n",
       "user_type  member_gender                                                \n",
       "Customer   Female                    35.0             45.0  31.911235   \n",
       "           Male                      38.0             48.0  33.527070   \n",
       "           Other                     38.0             48.0  36.182219   \n",
       "Subscriber Female                    39.0             49.0  34.657911   \n",
       "           Male                      42.0             52.0  36.229365   \n",
       "           Other                     42.0             50.0  36.976974   \n",
       "\n",
       "                                std  \n",
       "user_type  member_gender             \n",
       "Customer   Female          9.323360  \n",
       "           Male            9.555623  \n",
       "           Other          13.941296  \n",
       "Subscriber Female          9.926927  \n",
       "           Male           10.684280  \n",
       "           Other          12.699931  "
      ]
     },
     "execution_count": 58,
     "metadata": {},
     "output_type": "execute_result"
    }
   ],
   "source": [
    "aggfunctions = [lambda x: np.nanpercentile(x, 10), lambda x: np.nanpercentile(x, 25), lambda x: np.nanpercentile(x, 50), lambda x: np.nanpercentile(x, 75), lambda x: np.nanpercentile(x, 90), np.mean, np.std]\n",
    "\n",
    "\n",
    "\n",
    "grouped_percentiles = gendered_rides.groupby(['user_type', 'member_gender'])['Age'].agg(aggfunctions)\n",
    "\n",
    "grouped_percentiles.rename(columns = {'<lambda_0>': '10th percentile', '<lambda_1>': '25th percentile', '<lambda_2>' : '50th percentile', '<lambda_3>' : '75th percentile', '<lambda_4>' : '90th percentile'})"
   ]
  },
  {
   "cell_type": "markdown",
   "metadata": {},
   "source": [
    "In these comparisons we can see that in all cases subscribers tend to be slightly older than users. \n",
    "We can also note that Female riders are consistently younger than Male riders and Other rides are slightly older still. "
   ]
  },
  {
   "cell_type": "markdown",
   "metadata": {},
   "source": [
    "#### Requirement 7 - 8 How has the usage of the bikes developed in the different areas (San Francisco, San Jose, Oakland)?"
   ]
  },
  {
   "cell_type": "markdown",
   "metadata": {},
   "source": [
    "We will begin by looking at the frequency of starting locations and mapping these.\n",
    "\n",
    "To do this we will begin by once again finding the number (and proportion) of rides that start at each station depending on user type. "
   ]
  },
  {
   "cell_type": "code",
   "execution_count": 59,
   "metadata": {},
   "outputs": [],
   "source": [
    "# we will be using station id to get location so we will remove rides of stationless bikes\n",
    "non_stationless_rides = df[df['stationless'] == 0].copy()\n",
    "\n",
    "# find the number of rides for each user type and start station\n",
    "number_rides_by_user_and_start = non_stationless_rides.groupby(['user_type', 'start_station_id']).size().to_frame('number_of_rides_from_station').reset_index()\n",
    "\n",
    "# add a column to tell us the percentage of all rides (by user type) that began at a given station\n",
    "number_rides_by_user_and_start['Percent_of_rides'] = number_rides_by_user_and_start.groupby('user_type')['number_of_rides_from_station'].transform(lambda x: 100 * x / sum(x))\n",
    "\n",
    "# reintroduce the information on each station location in order to graph\n",
    "number_rides_by_user_and_start = number_rides_by_user_and_start.merge(stations_df, left_on = 'start_station_id', right_on = 'id')\n"
   ]
  },
  {
   "cell_type": "markdown",
   "metadata": {},
   "source": [
    "Define a function for creating a map based on a set of coordinates given. "
   ]
  },
  {
   "cell_type": "markdown",
   "metadata": {},
   "source": [
    "This code was copied from somewhere (certainly not made by me). I will try to locate it later and reference properly."
   ]
  },
  {
   "cell_type": "markdown",
   "metadata": {},
   "source": [
    "# This has become outdated due to the decision to not work with Basemap anymore. \n",
    "\n",
    "def draw_map_with_stations(lon, lat, service = 'World_street_Map', savename = None, epsg = 7131, xpixels = 5000, sizes = None):\n",
    "    # determine range to print based on min, max lat and lon of the data\n",
    "    margin = 0.02 # buffer to add to the range\n",
    "    lat_min = min(lat) - margin\n",
    "    lat_max = max(lat) + margin\n",
    "    lon_min = min(lon) - margin\n",
    "    lon_max = max(lon) + margin\n",
    "    \n",
    "    fig_map = plt.figure(figsize = (8, 8))\n",
    "    # create map using BASEMAP\n",
    "    m = Basemap(projection='mill',\n",
    "                llcrnrlon=lon_min,\n",
    "                llcrnrlat=lat_min,\n",
    "                urcrnrlon=lon_max,\n",
    "                urcrnrlat=lat_max,\n",
    "                resolution = 'l',\n",
    "                epsg = epsg\n",
    "                )\n",
    "    m.arcgisimage(service=service, xpixels = xpixels, verbose= False)\n",
    "    # convert lat and lon to map projection coordinates\n",
    "    lons, lats = m(lon, lat)\n",
    "    # plot points as red dots\n",
    "    if sizes is not None:\n",
    "        m.scatter(lons, lats, marker = 'o', s = sizes, zorder=5)\n",
    "    else:\n",
    "         m.scatter(lons, lats, marker = 'o', zorder=5)\n",
    "            \n",
    "    if savename is not None:\n",
    "        fig_map.savefig(savename)"
   ]
  },
  {
   "cell_type": "markdown",
   "metadata": {},
   "source": [
    "# This has become outdated due to the decision to not work with Basemap anymore. \n",
    "\n",
    "set up the variables for the draw_map_with_stations function\n",
    "lon1 = number_rides_by_user_and_start['common_long'].values\n",
    "lat1 = number_rides_by_user_and_start['common_lat'].values\n",
    "siz1 = number_rides_by_user_and_start['Percent_of_rides']\n",
    "\n",
    "draw_map_with_stations(lon1, lat1, sizes = siz1, savename = 'all_stations_by_use_street_view')"
   ]
  },
  {
   "cell_type": "markdown",
   "metadata": {},
   "source": [
    "From this we can see that there are three distinct areas that the bikes are hired from.\n",
    "The most popular of thiese is the San Francisco area (based on the larger size of the points) whilst the least popular is the San Jose area. \n",
    "We will thus add the following columns to the data:\n",
    "region_0 will be San Francisco\n",
    "region_1 will be Oakland area\n",
    "region_2 will be San Jose area."
   ]
  },
  {
   "cell_type": "code",
   "execution_count": 60,
   "metadata": {},
   "outputs": [],
   "source": [
    "conditions = [stations_df['common_long'].between(-122.5, -122.35), \n",
    "              stations_df['common_long'].between(-122.35, -122.1),\n",
    "              stations_df['common_long'].between(-122.1, -120.0)]\n",
    "\n",
    "choices = [0, 1, 2]\n",
    "stations_df['region'] = np.select(conditions, choices)\n"
   ]
  },
  {
   "cell_type": "code",
   "execution_count": 61,
   "metadata": {},
   "outputs": [],
   "source": [
    "# creating a new df which reintroduces information on the starting locations\n",
    "rides_with_start_region = df.merge(stations_df, left_on = 'start_station_id', right_index = True)"
   ]
  },
  {
   "cell_type": "markdown",
   "metadata": {},
   "source": [
    "Lets now look at how the number of rides in different regions has changed over time."
   ]
  },
  {
   "cell_type": "code",
   "execution_count": 62,
   "metadata": {},
   "outputs": [],
   "source": [
    "# finding the number of rides per day/region/user type\n",
    "region_by_day_users = rides_with_start_region.groupby(['date', 'region', 'user_type']).size().to_frame('Number_of_rides').reset_index()\n",
    "\n",
    "# separating these out into different data frames for graphing\n",
    "region_by_day_customers = region_by_day_users[region_by_day_users['user_type'] == 'Customer']\n",
    "region_by_day_subscribers = region_by_day_users[region_by_day_users['user_type'] == 'Subscriber']"
   ]
  },
  {
   "cell_type": "code",
   "execution_count": 67,
   "metadata": {},
   "outputs": [
    {
     "data": {
      "image/png": "[encoded data removed]",
      "text/plain": [
       "<Figure size 432x288 with 2 Axes>"
      ]
     },
     "metadata": {},
     "output_type": "display_data"
    }
   ],
   "source": [
    "(fig_regions_use, ax) = plt.subplots(nrows = 1, ncols = 2)\n",
    "\n",
    "regions = ['San Francisco', 'Oakland', 'San Jose']\n",
    "\n",
    "# As before I initially tried to automate this using an iterator but this caused a number of errors\n",
    "# that I could not fix. \n",
    "\n",
    "for region in [0, 1, 2]:\n",
    "    rides = region_by_day_customers[region_by_day_customers['region'] == region]['Number_of_rides']\n",
    "    rides.rolling(window = 14).mean().plot(label = regions[region], ax = ax[0])\n",
    "\n",
    "ax[0].set_ylabel('Number_of_rides')\n",
    "ax[0].set_xlabel('Days since records began')\n",
    "ax[0].set_title('Customers')\n",
    "\n",
    "for region in [0, 1, 2]:\n",
    "    rides = region_by_day_subscribers[region_by_day_subscribers['region'] == region]['Number_of_rides']\n",
    "    rides.rolling(window = 14).mean().plot(label = regions[region], ax = ax[1])\n",
    "\n",
    "ax[1].set_xlabel('Days since records began')\n",
    "ax[1].set_title('Subscribers')\n",
    "\n",
    "\n",
    "fig_regions_use.tight_layout()\n",
    "fig_regions_use.subplots_adjust(top=0.85) # adjust the Figure in rp\n",
    "fig_regions_use.suptitle('Rides over time by region')\n",
    "\n",
    "plt.legend()\n",
    "\n",
    "fig_regions_use.savefig('Rides_over_time_by_region')"
   ]
  },
  {
   "cell_type": "markdown",
   "metadata": {},
   "source": [
    "Here we can see that the number of rides by subscribers is generally climbing across all regions (if we ignore the dip for the winter months) since records began.\n",
    "Customers use however seems to show a lot less progress in San Jose where there has been minimal increase over the time period."
   ]
  },
  {
   "cell_type": "markdown",
   "metadata": {},
   "source": [
    "Let us now zoom in on the earlier graph to take a look at the areas in more detail.\n",
    "To do this we will want to compare customers' and subscribers' use across the same region and using multiple axes for the same figure will be necessary here. \n",
    "To do this we will adjust the function for drawing maps defined earlier so that it accepts an axis as a variable. "
   ]
  },
  {
   "cell_type": "markdown",
   "metadata": {},
   "source": [
    "# This has become outdated due to the decision to not work with Basemap anymore. \n",
    "\n",
    "\n",
    "\n",
    " create new function that takes in the axis as a variable\n",
    " \n",
    " \n",
    "def draw_map_with_stations_with_axis(lon, lat, axis, service = 'World_street_Map', savename = None, epsg = 7131, xpixels = 5000, sizes = None):\n",
    "    # determine range to print based on min, max lat and lon of the data\n",
    "    margin = 0.02 # buffer to add to the range\n",
    "    lat_min = min(lat) - margin\n",
    "    lat_max = max(lat) + margin\n",
    "    lon_min = min(lon) - margin\n",
    "    lon_max = max(lon) + margin\n",
    "    \n",
    "    # create map using BASEMAP\n",
    "    m = Basemap(projection='mill',\n",
    "                llcrnrlon=lon_min,\n",
    "                llcrnrlat=lat_min,\n",
    "                urcrnrlon=lon_max,\n",
    "                urcrnrlat=lat_max,\n",
    "                resolution = 'l',\n",
    "                epsg = epsg,\n",
    "                ax = axis\n",
    "                )\n",
    "    m.arcgisimage(service=service, xpixels = xpixels, verbose= False)\n",
    "    # convert lat and lon to map projection coordinates\n",
    "    lons, lats = m(lon, lat)\n",
    "    # plot points as red dots\n",
    "    if sizes is not None:\n",
    "        m.scatter(lons, lats, marker = 'o', s = sizes, zorder=5)\n",
    "    else:\n",
    "        m.scatter(lons, lats, marker = 'o', zorder=5)\n",
    "            \n",
    "    if savename is not None:\n",
    "        fig_map.savefig(savename)"
   ]
  },
  {
   "cell_type": "markdown",
   "metadata": {},
   "source": [
    "We now want to add a column for region to the number_rides_by_user_and_start df defined earlier.\n",
    "Rather than remerging with stations_df we will simply add the regions column in the same way that it was added to stations_df."
   ]
  },
  {
   "cell_type": "code",
   "execution_count": 64,
   "metadata": {},
   "outputs": [],
   "source": [
    "conditions = [number_rides_by_user_and_start['common_long'].between(-122.5, -122.35), \n",
    "              number_rides_by_user_and_start['common_long'].between(-122.35, -122.1),\n",
    "              number_rides_by_user_and_start['common_long'].between(-122.1, -120.0)]\n",
    "\n",
    "choices = [0, 1, 2]\n",
    "\n",
    "number_rides_by_user_and_start['region'] = np.select(conditions, choices)\n"
   ]
  },
  {
   "cell_type": "markdown",
   "metadata": {},
   "source": [
    "We will now make the plot for the first region.\n",
    "As before, this will initially automated but this continued to produce errors so the version used now is separated by region."
   ]
  },
  {
   "cell_type": "markdown",
   "metadata": {},
   "source": [
    "# This has become outdated due to the decision to not work with Basemap anymore. \n",
    "\n",
    "\n",
    "user_types = ['Customer', 'Subscriber']\n",
    "regions_names = ['San Francisco', 'Oakland', 'San Jose']\n",
    "\n",
    "for j in [0]:\n",
    "    fig, ax = plt.subplots(1, 2)\n",
    "    fig.set_size_inches(20, 20)\n",
    "    for i in [0, 1]:\n",
    "        df_for_plot = number_rides_by_user_and_start[(number_rides_by_user_and_start['user_type'] == user_types[i]) & (number_rides_by_user_and_start['region'] == j)]\n",
    "        lon1 = df_for_plot['common_long'].values\n",
    "        lat1 = df_for_plot['common_lat'].values\n",
    "        siz1 = df_for_plot['Percent_of_rides']\n",
    "        draw_map_with_stations_with_axis(lon1, lat1, ax[i], sizes = 10*siz1)\n",
    "        ax[i].title.set_text(user_types[i])\n",
    "    \n",
    "    \n",
    "    # filename = ('Starting_locations_in_{}'.format(regions[j]))\n",
    "    # fig.savefig(filename)\n",
    "        "
   ]
  },
  {
   "cell_type": "markdown",
   "metadata": {},
   "source": [
    "Adjust and save Region_0 plot"
   ]
  },
  {
   "cell_type": "markdown",
   "metadata": {},
   "source": [
    "# This has become outdated due to the decision to not work with Basemap anymore. \n",
    "\n",
    "\n",
    "\n",
    "adjust the aesthetics of the plot and save it\n",
    "\n",
    "\n",
    "ax[1].set_title('Subscribers', size = 20)\n",
    "ax[0].set_title('Customers', size = 20)\n",
    "fig.subplots_adjust(top=1)\n",
    "fig.savefig('Region_0_all_rides_by_user', bbox_inches = 'tight', pad_inches = 0)"
   ]
  },
  {
   "cell_type": "markdown",
   "metadata": {},
   "source": [
    "The plot shows that the usage of customers and subscribers is slightly different in terms of locations. We can see that the hotspot locations for customers take a large percentage of the rides thatn the hotspot locations for subscribers. \n",
    "This graph shows the same results that we were seeing earlier in our analysis of the most popular stations, it just visualises the data to make it easier to interpret. "
   ]
  },
  {
   "cell_type": "markdown",
   "metadata": {},
   "source": [
    "Make Region_1 plot"
   ]
  },
  {
   "cell_type": "markdown",
   "metadata": {},
   "source": [
    "# This has become outdated due to the decision to not work with Basemap anymore. \n",
    "\n",
    "\n",
    "for j in [1]:\n",
    "    fig, ax = plt.subplots(1, 2)\n",
    "    fig.set_size_inches(20, 20)\n",
    "    for i in [0, 1]:\n",
    "        df_for_plot = number_rides_by_user_and_start[(number_rides_by_user_and_start['user_type'] == user_types[i]) & (number_rides_by_user_and_start['region'] == j)]\n",
    "        lon1 = df_for_plot['common_long'].values\n",
    "        lat1 = df_for_plot['common_lat'].values\n",
    "        siz1 = df_for_plot['Percent_of_rides']\n",
    "        draw_map_with_stations_with_axis(lon1, lat1, ax[i], sizes = 50*siz1)\n",
    "        ax[i].title.set_text(user_types[i])\n",
    "    \n",
    "    \n",
    "    # filename = ('Starting_locations_in_{}'.format(regions[j]))\n",
    "    # fig.savefig(filename)\n",
    "        "
   ]
  },
  {
   "cell_type": "markdown",
   "metadata": {},
   "source": [
    "Adjust and save region_1 plot"
   ]
  },
  {
   "cell_type": "markdown",
   "metadata": {},
   "source": [
    "# This has become outdated due to the decision to not work with Basemap anymore. \n",
    "\n",
    "\n",
    "adjust the aesthetics of the plot and save it\n",
    "\n",
    "\n",
    "ax[1].set_title('Subscribers', size = 20)\n",
    "ax[0].set_title('Customers', size = 20)\n",
    "fig.subplots_adjust(top=1)\n",
    "fig.savefig('Region_1_all_rides_by_user', bbox_inches = 'tight', pad_inches = 0)"
   ]
  },
  {
   "cell_type": "markdown",
   "metadata": {},
   "source": [
    "As above the results here are just a clearer visualisation of the results that we saw earlier when examining which stations were the most popular. "
   ]
  }
 ],
 "metadata": {
  "kernelspec": {
   "display_name": "Python 3",
   "language": "python",
   "name": "python3"
  },
  "language_info": {
   "codemirror_mode": {
    "name": "ipython",
    "version": 3
   },
   "file_extension": ".py",
   "mimetype": "text/x-python",
   "name": "python",
   "nbconvert_exporter": "python",
   "pygments_lexer": "ipython3",
   "version": "3.8.8"
  }
 },
 "nbformat": 4,
 "nbformat_minor": 4
}
