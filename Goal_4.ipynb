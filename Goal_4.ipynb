{
 "cells": [
  {
   "cell_type": "markdown",
   "metadata": {
    "slideshow": {
     "slide_type": "skip"
    }
   },
   "source": [
    "# Data Exploration with Python - Goal 4\n",
    "\n",
    "### This work is a slightly adjusted piece of work that I completed after being set it by my mentor. The requirement labels within this document do not refer to the goals as set out in the README doc associated with this repository."
   ]
  },
  {
   "cell_type": "markdown",
   "metadata": {
    "slideshow": {
     "slide_type": "slide"
    }
   },
   "source": [
    "<h1>\n",
    "    <center>\n",
    "        <font color = black> Ford Bike data analysis and visualisation </font>\n",
    "    </center>\n",
    "</h1>\n",
    "    \n",
    "<center>\n",
    "This presentation contains the highlights from the analysis that I conducted on the Ford Bike data set. The full details of this analysis can be found on my GitHub page.\n",
    "</center>\n",
    "\n",
    "<center>\n",
    "You can find more of my work at <a href=\"https://github.com/FredrickMMartin\">my GitHub page</a>. \n",
    "</center>"
   ]
  },
  {
   "cell_type": "markdown",
   "metadata": {
    "slideshow": {
     "slide_type": "slide"
    }
   },
   "source": [
    "##  <center> Usage numbers over time </center>\n",
    "\n",
    "<center><img src=\"Diagrams\\Change_in_usage_over_the_period.png\" width = \"1000\" height= \"1000\"/></center>\n",
    "\n",
    "<center>    \n",
    "        <li> Year on year increase in ride numbers for both subscribers and customers </li>\n",
    "        <li> An increasing majority of rides completed by subscribers </li>\n",
    "        <li> Customer use seems affected by seasons </li>\n",
    "        <li> Subscriber generaly increases other than drops around Christmas and Thanksgiving </li>\n",
    "    \n",
    "</center>"
   ]
  },
  {
   "cell_type": "markdown",
   "metadata": {
    "slideshow": {
     "slide_type": "slide"
    }
   },
   "source": [
    "##  <center> Gendered use over time - numbers </center>\n",
    "\n",
    "<center><img src=\"Diagrams\\Rides_over_time_by_gender_and_user.png\" width = \"1000\" height= \"1000\"/></center>\n",
    "\n",
    "<center>\n",
    "        <li> Year on year increase in ride numbers for all genders </li>\n",
    "        <li> Female customer numbers seem less seasonally affected than male numbers </li>\n",
    "</center>"
   ]
  },
  {
   "cell_type": "markdown",
   "metadata": {
    "slideshow": {
     "slide_type": "subslide"
    }
   },
   "source": [
    "##  <center> Gendered use over time - percentages </center>\n",
    "\n",
    "<center><img src=\"Diagrams\\Percentage_rides_over_time_by_gender_and_user.png\" width = \"1000\" height= \"1000\"/></center>\n",
    "\n",
    "<center>\n",
    "        <li> A higher proportion of female customer rides than subscriber rides </li>\n",
    "        <li> Ratio of female subscriber rider to male rides is increasing consistently </li>\n",
    "</center>"
   ]
  },
  {
   "cell_type": "markdown",
   "metadata": {
    "slideshow": {
     "slide_type": "slide"
    }
   },
   "source": [
    "##  <center> Rides over time in different regions </center>\n",
    "\n",
    "<center><img src=\"Diagrams\\Rides_over_time_by_region.png\" width = \"1000\" height= \"1000\"/></center>\n",
    "\n",
    "<center>\n",
    "        <li> Year on year increase in ride numbers for all areas </li>\n",
    "        <li> Vast majority of both customer and subscriber rides take place in San Francisco  </li>\n",
    "        <li> San Francisco customer uses particularly seasonally dependent </li>\n",
    "<center>"
   ]
  },
  {
   "cell_type": "markdown",
   "metadata": {
    "slideshow": {
     "slide_type": "slide"
    }
   },
   "source": [
    "##  <center> Ages of riders </center>\n",
    "\n",
    "<center><img src=\"Diagrams\\Age_of_riders_by_gender_and_user.png\" width = \"1000\" height= \"1000\"/></center>\n",
    "\n",
    "<center>\n",
    "        <li> 25 - 35 age group contains the largest number of riders for both male and female  </li>\n",
    "        <li> Distribution of ages very similar for male and female riders  </li>\n",
    "        <li> Slightly higher proportion of older male riders than female  </li>\n",
    "        <li> Mean female customer age of 32, mean male customer age of 33.5  </li>\n",
    "        <li> Mean female subscriber age of 34.5, mean male subscriber age of 36  </li>\n",
    "<center>"
   ]
  },
  {
   "cell_type": "markdown",
   "metadata": {
    "slideshow": {
     "slide_type": "slide"
    }
   },
   "source": [
    "##  <center> Ride durations </center>\n",
    "\n",
    "<center><img src=\"Diagrams\\Ride_duration_by_user_and_age.png\" width = \"750\" height= \"750\"/></center>\n",
    "\n",
    "<center>\n",
    "        <li> A number of riders have incorrectly registered ages  </li>\n",
    "        <li> Subscriber rides are consistetnly much shorter than customer rides  </li>\n",
    "        <li> Customer rides are shortest amonst 30 - 39 year olds and increase in time steadily either side of this group </li>\n",
    "        <li> Subscriber ride times farily consistent across age groups   </li>\n",
    "<center>"
   ]
  },
  {
   "cell_type": "markdown",
   "metadata": {
    "slideshow": {
     "slide_type": "slide"
    }
   },
   "source": [
    "##  <center> Customer ride start times </center>\n",
    "\n",
    "<center><img src=\"Diagrams\\Distribution_of_ride_start_times_for_customers.png\" width = \"750\" height= \"750\"/></center>\n",
    "\n",
    "<center>\n",
    "        <li> Weekend ride numbers increase steadily until peak at 14:00, lowest numbers at 05:00  </li>\n",
    "        <li> Weekday rides more erratic  </li>\n",
    "        <li> One peak of ride times at 09:00  </li>\n",
    "        <li> Ride numbers increase again from 10:30 and reach higher peak around 18:00  </li>\n",
    "<center>"
   ]
  },
  {
   "cell_type": "markdown",
   "metadata": {
    "slideshow": {
     "slide_type": "subslide"
    }
   },
   "source": [
    "##  <center> Subscriber ride start times </center>\n",
    "\n",
    "<center><img src=\"Diagrams\\Distribution_of_ride_start_times_for_subscribers.png\" width = \"750\" height= \"750\"/></center>\n",
    "\n",
    "<center>\n",
    "        <li> Weekend ride distribution very similar to that of customers  </li>\n",
    "        <li> Weekday rides suggest numbers dictated by commuting hours  </li>\n",
    "        <li> One peak of ride times around 09:00 with a significant decrease afeterwards </li>\n",
    "        <li> Second peak of ride times around 18:00   </li>\n",
    "<center>"
   ]
  }
 ],
 "metadata": {
  "celltoolbar": "Slideshow",
  "kernelspec": {
   "display_name": "Python 3",
   "language": "python",
   "name": "python3"
  },
  "language_info": {
   "codemirror_mode": {
    "name": "ipython",
    "version": 3
   },
   "file_extension": ".py",
   "mimetype": "text/x-python",
   "name": "python",
   "nbconvert_exporter": "python",
   "pygments_lexer": "ipython3",
   "version": "3.8.8"
  }
 },
 "nbformat": 4,
 "nbformat_minor": 4
}
